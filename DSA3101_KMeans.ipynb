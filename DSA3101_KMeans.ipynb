{
  "nbformat": 4,
  "nbformat_minor": 0,
  "metadata": {
    "colab": {
      "name": "DSA3101_Assignment2_KMeans.ipynb",
      "provenance": [],
      "collapsed_sections": []
    },
    "kernelspec": {
      "name": "python3",
      "display_name": "Python 3"
    }
  },
  "cells": [
    {
      "cell_type": "markdown",
      "metadata": {
        "id": "_4iINiFlSpYS"
      },
      "source": [
        "# DSA3101: Customer Segmentation by K-Means Clustering\n",
        "\n",
        "Our group is a Data Science Consulting Company which has been approached by a client, which would like us to reach some insights that might help them make better business decisions by analysing their data.\n",
        "\n",
        "Three sets of data were given to the Data Science Consulting Company in hopes of deriving the appropriate insights about customer purchasing behaviour and devising the corresponding strategies to increase customer retention and maximise its profit. \n",
        "\n",
        "Looking at the data given, it seems as if the company being analysed is a grocery chain which sells a wide range of products. As such, a customer was defined according to the usual expected behaviour of customers in a grocery store.\n",
        "\n"
      ]
    },
    {
      "cell_type": "markdown",
      "metadata": {
        "id": "A9V5TKMoQsBV"
      },
      "source": [
        "**Contents:**\n",
        "- Import Libraries\n",
        "- Import Datasets\n",
        "- Data Cleaning\n",
        "- Exploratory Data Analysis\n",
        "- K-Means Clustering on the Percentage Spend of Each Product Type\n",
        "- Exploratory Data Analysis with 5 Clusters\n",
        "- Actionable Insights\n",
        "- Conclusion"
      ]
    },
    {
      "cell_type": "markdown",
      "metadata": {
        "id": "7qI9VcptDxYe"
      },
      "source": [
        "<a id='lib_imports'></a>\n",
        "\n",
        "## Import Libraries"
      ]
    },
    {
      "cell_type": "code",
      "metadata": {
        "id": "UyoCfshr5PVR",
        "colab": {
          "base_uri": "https://localhost:8080/",
          "height": 193
        },
        "outputId": "f9a37c7d-49a1-44ee-9010-5ee74aa4382c"
      },
      "source": [
        "!pip install kneed\n",
        "import matplotlib.pyplot as plt                   \n",
        "import pandas as pd                               \n",
        "import numpy as np                                \n",
        "import seaborn as sns\n",
        "import os\n",
        "import urllib\n",
        "from sklearn.cluster import KMeans #Do K-Means clustering\n",
        "from sklearn.metrics import silhouette_score #Calculate score of silhouette for each K\n",
        "from sklearn.preprocessing import StandardScaler #Install sklearn\n",
        "from kneed import KneeLocator #Install #Find the knee of the WCSS vs K plot\n",
        "from yellowbrick.cluster import SilhouetteVisualizer #Plot Silhouette plot\n",
        "from scipy.stats import f_oneway\n",
        "import statsmodels.api as sm\n",
        "from statsmodels.formula.api import ols\n",
        "from decimal import Decimal\n",
        "from functools import reduce\n",
        "%matplotlib inline"
      ],
      "execution_count": null,
      "outputs": [
        {
          "output_type": "stream",
          "text": [
            "Requirement already satisfied: kneed in /usr/local/lib/python3.6/dist-packages (0.7.0)\n",
            "Requirement already satisfied: scipy in /usr/local/lib/python3.6/dist-packages (from kneed) (1.4.1)\n",
            "Requirement already satisfied: numpy>=1.14.2 in /usr/local/lib/python3.6/dist-packages (from kneed) (1.18.5)\n",
            "Requirement already satisfied: matplotlib in /usr/local/lib/python3.6/dist-packages (from kneed) (3.2.2)\n",
            "Requirement already satisfied: cycler>=0.10 in /usr/local/lib/python3.6/dist-packages (from matplotlib->kneed) (0.10.0)\n",
            "Requirement already satisfied: python-dateutil>=2.1 in /usr/local/lib/python3.6/dist-packages (from matplotlib->kneed) (2.8.1)\n",
            "Requirement already satisfied: kiwisolver>=1.0.1 in /usr/local/lib/python3.6/dist-packages (from matplotlib->kneed) (1.2.0)\n",
            "Requirement already satisfied: pyparsing!=2.0.4,!=2.1.2,!=2.1.6,>=2.0.1 in /usr/local/lib/python3.6/dist-packages (from matplotlib->kneed) (2.4.7)\n",
            "Requirement already satisfied: six in /usr/local/lib/python3.6/dist-packages (from cycler>=0.10->matplotlib->kneed) (1.15.0)\n"
          ],
          "name": "stdout"
        }
      ]
    },
    {
      "cell_type": "markdown",
      "metadata": {
        "id": "7fEKuEFrD19G"
      },
      "source": [
        "<a id='data_imports'></a>\n",
        "\n",
        "## Import Datasets"
      ]
    },
    {
      "cell_type": "code",
      "metadata": {
        "id": "1eaI3mq-7GvL",
        "colab": {
          "base_uri": "https://localhost:8080/",
          "height": 69
        },
        "outputId": "24dbcf3b-d42e-4db0-fe12-21d430881211"
      },
      "source": [
        "# import datasets\n",
        "datapath = os.path.join(\"datasets\", \"\")\n",
        "DOWNLOAD_ROOT = \"https://raw.githubusercontent.com/leongjwm/dsa3101_hackathon/master/\"\n",
        "os.makedirs(datapath, exist_ok=True)\n",
        "for filename in (\"DSA3101_Hackathon_Categories_Information.csv\", \"DSA3101_Hackathon_Data.csv\", \"DSA3101_Hackathon_Panelists_Demographics.xlsx\"):\n",
        "    print(\"Downloading\", filename)\n",
        "    url = DOWNLOAD_ROOT + \"datasets/\" + filename\n",
        "    urllib.request.urlretrieve(url, datapath + filename)"
      ],
      "execution_count": null,
      "outputs": [
        {
          "output_type": "stream",
          "text": [
            "Downloading DSA3101_Hackathon_Categories_Information.csv\n",
            "Downloading DSA3101_Hackathon_Data.csv\n",
            "Downloading DSA3101_Hackathon_Panelists_Demographics.xlsx\n"
          ],
          "name": "stdout"
        }
      ]
    },
    {
      "cell_type": "code",
      "metadata": {
        "id": "0OTabMwM_mui"
      },
      "source": [
        "transactions = pd.read_csv(datapath + \"DSA3101_Hackathon_Data.csv\") # customer transactions\n",
        "categories = pd.read_csv(datapath + \"DSA3101_Hackathon_Categories_Information.csv\") # product categories\n",
        "demographics = pd.read_excel(datapath + \"DSA3101_Hackathon_Panelists_Demographics.xlsx\") # customer information"
      ],
      "execution_count": null,
      "outputs": []
    },
    {
      "cell_type": "code",
      "metadata": {
        "id": "M0ZX8y9zCmCx",
        "colab": {
          "base_uri": "https://localhost:8080/",
          "height": 202
        },
        "outputId": "fbe1596d-283b-4c78-e3c4-09a4a9be4d67"
      },
      "source": [
        "transactions.head()"
      ],
      "execution_count": null,
      "outputs": [
        {
          "output_type": "execute_result",
          "data": {
            "text/html": [
              "<div>\n",
              "<style scoped>\n",
              "    .dataframe tbody tr th:only-of-type {\n",
              "        vertical-align: middle;\n",
              "    }\n",
              "\n",
              "    .dataframe tbody tr th {\n",
              "        vertical-align: top;\n",
              "    }\n",
              "\n",
              "    .dataframe thead th {\n",
              "        text-align: right;\n",
              "    }\n",
              "</style>\n",
              "<table border=\"1\" class=\"dataframe\">\n",
              "  <thead>\n",
              "    <tr style=\"text-align: right;\">\n",
              "      <th></th>\n",
              "      <th>Panel ID</th>\n",
              "      <th>Date</th>\n",
              "      <th>Category</th>\n",
              "      <th>Pack Size</th>\n",
              "      <th>Volume</th>\n",
              "      <th>Spend</th>\n",
              "    </tr>\n",
              "  </thead>\n",
              "  <tbody>\n",
              "    <tr>\n",
              "      <th>0</th>\n",
              "      <td>Panel 101011101</td>\n",
              "      <td>2017-07-02</td>\n",
              "      <td>CSD</td>\n",
              "      <td>1</td>\n",
              "      <td>1.5</td>\n",
              "      <td>1.5</td>\n",
              "    </tr>\n",
              "    <tr>\n",
              "      <th>1</th>\n",
              "      <td>Panel 101011101</td>\n",
              "      <td>2017-07-02</td>\n",
              "      <td>Soy Milk</td>\n",
              "      <td>1</td>\n",
              "      <td>1.0</td>\n",
              "      <td>2.8</td>\n",
              "    </tr>\n",
              "    <tr>\n",
              "      <th>2</th>\n",
              "      <td>Panel 101011101</td>\n",
              "      <td>2017-07-02</td>\n",
              "      <td>Cooking Sauces</td>\n",
              "      <td>1</td>\n",
              "      <td>0.3</td>\n",
              "      <td>3.2</td>\n",
              "    </tr>\n",
              "    <tr>\n",
              "      <th>3</th>\n",
              "      <td>Panel 101011101</td>\n",
              "      <td>2017-07-02</td>\n",
              "      <td>Coconut Milk</td>\n",
              "      <td>2</td>\n",
              "      <td>0.4</td>\n",
              "      <td>5.3</td>\n",
              "    </tr>\n",
              "    <tr>\n",
              "      <th>4</th>\n",
              "      <td>Panel 101011101</td>\n",
              "      <td>2017-07-02</td>\n",
              "      <td>Chocolate</td>\n",
              "      <td>1</td>\n",
              "      <td>0.2</td>\n",
              "      <td>6.6</td>\n",
              "    </tr>\n",
              "  </tbody>\n",
              "</table>\n",
              "</div>"
            ],
            "text/plain": [
              "          Panel ID        Date        Category  Pack Size  Volume  Spend\n",
              "0  Panel 101011101  2017-07-02             CSD          1     1.5    1.5\n",
              "1  Panel 101011101  2017-07-02        Soy Milk          1     1.0    2.8\n",
              "2  Panel 101011101  2017-07-02  Cooking Sauces          1     0.3    3.2\n",
              "3  Panel 101011101  2017-07-02    Coconut Milk          2     0.4    5.3\n",
              "4  Panel 101011101  2017-07-02       Chocolate          1     0.2    6.6"
            ]
          },
          "metadata": {
            "tags": []
          },
          "execution_count": 31
        }
      ]
    },
    {
      "cell_type": "code",
      "metadata": {
        "id": "DHqENyATDFKh",
        "colab": {
          "base_uri": "https://localhost:8080/",
          "height": 243
        },
        "outputId": "a019c581-4855-4ca8-c6ac-07302b81fd75"
      },
      "source": [
        "transactions.info()"
      ],
      "execution_count": null,
      "outputs": [
        {
          "output_type": "stream",
          "text": [
            "<class 'pandas.core.frame.DataFrame'>\n",
            "RangeIndex: 1318024 entries, 0 to 1318023\n",
            "Data columns (total 6 columns):\n",
            " #   Column     Non-Null Count    Dtype  \n",
            "---  ------     --------------    -----  \n",
            " 0   Panel ID   1318024 non-null  object \n",
            " 1   Date       1318024 non-null  object \n",
            " 2   Category   1318024 non-null  object \n",
            " 3   Pack Size  1318024 non-null  int64  \n",
            " 4   Volume     1318024 non-null  float64\n",
            " 5   Spend      1318024 non-null  float64\n",
            "dtypes: float64(2), int64(1), object(3)\n",
            "memory usage: 60.3+ MB\n"
          ],
          "name": "stdout"
        }
      ]
    },
    {
      "cell_type": "markdown",
      "metadata": {
        "id": "xsLGX78yD9Br"
      },
      "source": [
        "We note that the `Date` values have the `object` datatype, so we should convert them to the `datetime` datatype."
      ]
    },
    {
      "cell_type": "code",
      "metadata": {
        "id": "u9UTHihVFICq",
        "colab": {
          "base_uri": "https://localhost:8080/",
          "height": 243
        },
        "outputId": "3e98d671-7bb6-49e1-c600-b9909b2d9ef7"
      },
      "source": [
        "transactions['Date'] = pd.to_datetime(transactions['Date'], format = \"%Y-%m-%d\")\n",
        "transactions.info()"
      ],
      "execution_count": null,
      "outputs": [
        {
          "output_type": "stream",
          "text": [
            "<class 'pandas.core.frame.DataFrame'>\n",
            "RangeIndex: 1318024 entries, 0 to 1318023\n",
            "Data columns (total 6 columns):\n",
            " #   Column     Non-Null Count    Dtype         \n",
            "---  ------     --------------    -----         \n",
            " 0   Panel ID   1318024 non-null  object        \n",
            " 1   Date       1318024 non-null  datetime64[ns]\n",
            " 2   Category   1318024 non-null  object        \n",
            " 3   Pack Size  1318024 non-null  int64         \n",
            " 4   Volume     1318024 non-null  float64       \n",
            " 5   Spend      1318024 non-null  float64       \n",
            "dtypes: datetime64[ns](1), float64(2), int64(1), object(2)\n",
            "memory usage: 60.3+ MB\n"
          ],
          "name": "stdout"
        }
      ]
    },
    {
      "cell_type": "code",
      "metadata": {
        "id": "7uiaETHFC7Yw",
        "colab": {
          "base_uri": "https://localhost:8080/",
          "height": 202
        },
        "outputId": "75af44c3-6e23-4a0c-9cbf-a4ecbb4f29ec"
      },
      "source": [
        "categories.head()"
      ],
      "execution_count": null,
      "outputs": [
        {
          "output_type": "execute_result",
          "data": {
            "text/html": [
              "<div>\n",
              "<style scoped>\n",
              "    .dataframe tbody tr th:only-of-type {\n",
              "        vertical-align: middle;\n",
              "    }\n",
              "\n",
              "    .dataframe tbody tr th {\n",
              "        vertical-align: top;\n",
              "    }\n",
              "\n",
              "    .dataframe thead th {\n",
              "        text-align: right;\n",
              "    }\n",
              "</style>\n",
              "<table border=\"1\" class=\"dataframe\">\n",
              "  <thead>\n",
              "    <tr style=\"text-align: right;\">\n",
              "      <th></th>\n",
              "      <th>Category</th>\n",
              "      <th>Calories/100g</th>\n",
              "      <th>Price per Volume</th>\n",
              "    </tr>\n",
              "  </thead>\n",
              "  <tbody>\n",
              "    <tr>\n",
              "      <th>0</th>\n",
              "      <td>Baby Cereal</td>\n",
              "      <td>188</td>\n",
              "      <td>29.41</td>\n",
              "    </tr>\n",
              "    <tr>\n",
              "      <th>1</th>\n",
              "      <td>Beer</td>\n",
              "      <td>43</td>\n",
              "      <td>15.12</td>\n",
              "    </tr>\n",
              "    <tr>\n",
              "      <th>2</th>\n",
              "      <td>Belacan</td>\n",
              "      <td>563</td>\n",
              "      <td>39.47</td>\n",
              "    </tr>\n",
              "    <tr>\n",
              "      <th>3</th>\n",
              "      <td>Bird Nest</td>\n",
              "      <td>46</td>\n",
              "      <td>73.45</td>\n",
              "    </tr>\n",
              "    <tr>\n",
              "      <th>4</th>\n",
              "      <td>Biscuits</td>\n",
              "      <td>416</td>\n",
              "      <td>15.57</td>\n",
              "    </tr>\n",
              "  </tbody>\n",
              "</table>\n",
              "</div>"
            ],
            "text/plain": [
              "      Category  Calories/100g  Price per Volume\n",
              "0  Baby Cereal            188             29.41\n",
              "1         Beer             43             15.12\n",
              "2      Belacan            563             39.47\n",
              "3    Bird Nest             46             73.45\n",
              "4     Biscuits            416             15.57"
            ]
          },
          "metadata": {
            "tags": []
          },
          "execution_count": 35
        }
      ]
    },
    {
      "cell_type": "code",
      "metadata": {
        "id": "yyAw7RiTDH8D",
        "colab": {
          "base_uri": "https://localhost:8080/",
          "height": 191
        },
        "outputId": "930f194a-6c39-4eda-e399-0cf5f757bb22"
      },
      "source": [
        "categories.info()"
      ],
      "execution_count": null,
      "outputs": [
        {
          "output_type": "stream",
          "text": [
            "<class 'pandas.core.frame.DataFrame'>\n",
            "RangeIndex: 62 entries, 0 to 61\n",
            "Data columns (total 3 columns):\n",
            " #   Column            Non-Null Count  Dtype  \n",
            "---  ------            --------------  -----  \n",
            " 0   Category          62 non-null     object \n",
            " 1   Calories/100g     62 non-null     int64  \n",
            " 2   Price per Volume  62 non-null     float64\n",
            "dtypes: float64(1), int64(1), object(1)\n",
            "memory usage: 1.6+ KB\n"
          ],
          "name": "stdout"
        }
      ]
    },
    {
      "cell_type": "code",
      "metadata": {
        "id": "U36bEEMKY9L2",
        "colab": {
          "base_uri": "https://localhost:8080/",
          "height": 277
        },
        "outputId": "f6ad1834-f177-487e-bdb1-d6608734ac2e"
      },
      "source": [
        "categories['Category'].unique()"
      ],
      "execution_count": null,
      "outputs": [
        {
          "output_type": "execute_result",
          "data": {
            "text/plain": [
              "array(['Baby Cereal', 'Beer', 'Belacan', 'Bird Nest', 'Biscuits',\n",
              "       'Bouilon', 'Butter', 'Cake', 'Canned Product', 'Cereal Beverage',\n",
              "       'Cereals', 'Cheese', 'Chicken Essence', 'Choc/Nut Spread',\n",
              "       'Chocolate', 'Coconut Milk', 'Coffee', 'Condensed/Evap Milk',\n",
              "       'Confectionery', 'Cooking Oils', 'Cooking Sauces', 'Cordials',\n",
              "       'Creamer', 'CSD', 'Cultured Milk', 'Drinking Water', 'Eggs',\n",
              "       'Energy Drinks', 'Flour', 'Frozen Food', 'Fruit/Veg Juices',\n",
              "       'Ghee', 'Honey', 'Ice Cream', 'Instant Noodles', 'Instant Soup',\n",
              "       'Isotonic Drinks', 'Jam', 'Kaya', 'Liquid Milk', 'Margarine',\n",
              "       'Milk Powder-Adult', 'Milk Powder-Infant', 'Milk Powder-Kids',\n",
              "       'MSG', 'Peanut Butter', 'Rice', 'RTD Coffee', 'RTD Tea',\n",
              "       'Salad Dressing', 'Savoury Spread', 'Seasoning Powder', 'Snack',\n",
              "       'Soy Milk', 'Spagetti', 'Spirits', 'Sugar', 'Tea',\n",
              "       'Tonic Food Drink', 'Wine', 'Yoghurt Drink', 'Yoghurts'],\n",
              "      dtype=object)"
            ]
          },
          "metadata": {
            "tags": []
          },
          "execution_count": 37
        }
      ]
    },
    {
      "cell_type": "code",
      "metadata": {
        "id": "zXA6fP1wY-WR"
      },
      "source": [
        "beverages = ['CSD', 'Tonic Food Drink', 'Coffee', 'Isotonic Drinks', 'Cordials', 'Creamer', 'Soy Milk', 'RTD Coffee', 'RTD Tea',\n",
        "            'Tea', 'Fruit/Veg Juices', 'Yoghurt Drink', 'Cultured Milk', 'Drinking Water', 'Beer', 'Energy Drinks', 'Spirits', 'Wine']\n",
        "\n",
        "babyCare = ['Baby Cereal', 'Milk Powder-Infant']\n",
        "\n",
        "packagedFood = ['Canned Product', 'Frozen Food', 'Ice Cream', 'Cake', 'Biscuits', 'Instant Noodles', 'Chocolate', 'Snack',\n",
        "                'Spagetti', 'Instant Soup', 'Confectionery', 'Yoghurts']\n",
        "\n",
        "stapleGoods = ['Rice', 'Liquid Milk', 'Eggs', 'Cereals', 'Cereal Beverage', 'Milk Powder-Adult', 'Milk Powder-Kids']\n",
        "\n",
        "cookingEssentials = ['Seasoning Powder', 'Cooking Oils', 'Coconut Milk', 'Cooking Sauces', 'Bouilon', 'Belacan',\n",
        "                      'Condensed/Evap Milk', 'Ghee', 'Honey', 'MSG']\n",
        "\n",
        "bakingOrSpreads = ['Kaya', 'Margarine', 'Flour', 'Sugar', 'Peanut Butter', 'Salad Dressing', 'Jam', 'Savoury Spread', \n",
        "                   'Butter', 'Choc/Nut Spread', 'Cheese']\n",
        "\n",
        "otherProducts = ['Chicken Essence', 'Bird Nest']"
      ],
      "execution_count": null,
      "outputs": []
    },
    {
      "cell_type": "code",
      "metadata": {
        "id": "pdhCqLvpZAZR"
      },
      "source": [
        "def classify_product(x):\n",
        "  if x in beverages:\n",
        "    return 'Beverages'\n",
        "  elif x in babyCare:\n",
        "    return 'Baby Care'\n",
        "  elif x in packagedFood:\n",
        "    return 'Packaged Food'\n",
        "  elif x in stapleGoods:\n",
        "    return 'Staple Goods'\n",
        "  elif x in cookingEssentials:\n",
        "    return 'Cooking Essentials'\n",
        "  elif x in bakingOrSpreads:\n",
        "    return 'Baking Products/Spreads'\n",
        "  elif x in otherProducts:\n",
        "    return 'Other Products'"
      ],
      "execution_count": null,
      "outputs": []
    },
    {
      "cell_type": "code",
      "metadata": {
        "id": "x_kPB4jYZCcG"
      },
      "source": [
        "categories['Product Type'] = categories['Category'].apply(classify_product)"
      ],
      "execution_count": null,
      "outputs": []
    },
    {
      "cell_type": "code",
      "metadata": {
        "id": "KP4F446VZD8e",
        "colab": {
          "base_uri": "https://localhost:8080/",
          "height": 202
        },
        "outputId": "cdacd757-304e-4940-9c94-39aed8edd868"
      },
      "source": [
        "categories.head()"
      ],
      "execution_count": null,
      "outputs": [
        {
          "output_type": "execute_result",
          "data": {
            "text/html": [
              "<div>\n",
              "<style scoped>\n",
              "    .dataframe tbody tr th:only-of-type {\n",
              "        vertical-align: middle;\n",
              "    }\n",
              "\n",
              "    .dataframe tbody tr th {\n",
              "        vertical-align: top;\n",
              "    }\n",
              "\n",
              "    .dataframe thead th {\n",
              "        text-align: right;\n",
              "    }\n",
              "</style>\n",
              "<table border=\"1\" class=\"dataframe\">\n",
              "  <thead>\n",
              "    <tr style=\"text-align: right;\">\n",
              "      <th></th>\n",
              "      <th>Category</th>\n",
              "      <th>Calories/100g</th>\n",
              "      <th>Price per Volume</th>\n",
              "      <th>Product Type</th>\n",
              "    </tr>\n",
              "  </thead>\n",
              "  <tbody>\n",
              "    <tr>\n",
              "      <th>0</th>\n",
              "      <td>Baby Cereal</td>\n",
              "      <td>188</td>\n",
              "      <td>29.41</td>\n",
              "      <td>Baby Care</td>\n",
              "    </tr>\n",
              "    <tr>\n",
              "      <th>1</th>\n",
              "      <td>Beer</td>\n",
              "      <td>43</td>\n",
              "      <td>15.12</td>\n",
              "      <td>Beverages</td>\n",
              "    </tr>\n",
              "    <tr>\n",
              "      <th>2</th>\n",
              "      <td>Belacan</td>\n",
              "      <td>563</td>\n",
              "      <td>39.47</td>\n",
              "      <td>Cooking Essentials</td>\n",
              "    </tr>\n",
              "    <tr>\n",
              "      <th>3</th>\n",
              "      <td>Bird Nest</td>\n",
              "      <td>46</td>\n",
              "      <td>73.45</td>\n",
              "      <td>Other Products</td>\n",
              "    </tr>\n",
              "    <tr>\n",
              "      <th>4</th>\n",
              "      <td>Biscuits</td>\n",
              "      <td>416</td>\n",
              "      <td>15.57</td>\n",
              "      <td>Packaged Food</td>\n",
              "    </tr>\n",
              "  </tbody>\n",
              "</table>\n",
              "</div>"
            ],
            "text/plain": [
              "      Category  Calories/100g  Price per Volume        Product Type\n",
              "0  Baby Cereal            188             29.41           Baby Care\n",
              "1         Beer             43             15.12           Beverages\n",
              "2      Belacan            563             39.47  Cooking Essentials\n",
              "3    Bird Nest             46             73.45      Other Products\n",
              "4     Biscuits            416             15.57       Packaged Food"
            ]
          },
          "metadata": {
            "tags": []
          },
          "execution_count": 41
        }
      ]
    },
    {
      "cell_type": "code",
      "metadata": {
        "id": "f-ICgjBrC9pu",
        "colab": {
          "base_uri": "https://localhost:8080/",
          "height": 375
        },
        "outputId": "f6fd98ce-a65a-4235-8721-9c07e7281e66"
      },
      "source": [
        "demographics.head()"
      ],
      "execution_count": null,
      "outputs": [
        {
          "output_type": "execute_result",
          "data": {
            "text/html": [
              "<div>\n",
              "<style scoped>\n",
              "    .dataframe tbody tr th:only-of-type {\n",
              "        vertical-align: middle;\n",
              "    }\n",
              "\n",
              "    .dataframe tbody tr th {\n",
              "        vertical-align: top;\n",
              "    }\n",
              "\n",
              "    .dataframe thead th {\n",
              "        text-align: right;\n",
              "    }\n",
              "</style>\n",
              "<table border=\"1\" class=\"dataframe\">\n",
              "  <thead>\n",
              "    <tr style=\"text-align: right;\">\n",
              "      <th></th>\n",
              "      <th>ID</th>\n",
              "      <th>BMI</th>\n",
              "      <th>Income</th>\n",
              "      <th>Ethnicity</th>\n",
              "      <th>Lifestage</th>\n",
              "      <th>Strata</th>\n",
              "      <th>#HH</th>\n",
              "      <th>location</th>\n",
              "    </tr>\n",
              "  </thead>\n",
              "  <tbody>\n",
              "    <tr>\n",
              "      <th>0</th>\n",
              "      <td>Panel 101011101</td>\n",
              "      <td>Obese</td>\n",
              "      <td>Income 1500 - 1999</td>\n",
              "      <td>North Malay</td>\n",
              "      <td>Empty Nesters</td>\n",
              "      <td>Urban</td>\n",
              "      <td>1-3 Member HH</td>\n",
              "      <td>North</td>\n",
              "    </tr>\n",
              "    <tr>\n",
              "      <th>1</th>\n",
              "      <td>Panel 101016101</td>\n",
              "      <td>Healthy</td>\n",
              "      <td>Income 1500 - 1999</td>\n",
              "      <td>North Malay</td>\n",
              "      <td>Teens Aches</td>\n",
              "      <td>Urban</td>\n",
              "      <td>1-3 Member HH</td>\n",
              "      <td>North</td>\n",
              "    </tr>\n",
              "    <tr>\n",
              "      <th>2</th>\n",
              "      <td>Panel 101019101</td>\n",
              "      <td>Obese</td>\n",
              "      <td>Income &lt; 1500</td>\n",
              "      <td>North Malay</td>\n",
              "      <td>Teens Aches</td>\n",
              "      <td>Urban</td>\n",
              "      <td>4 Member HH</td>\n",
              "      <td>North</td>\n",
              "    </tr>\n",
              "    <tr>\n",
              "      <th>3</th>\n",
              "      <td>Panel 101024101</td>\n",
              "      <td>Over Weight</td>\n",
              "      <td>Income 1500 - 1999</td>\n",
              "      <td>North Chinese</td>\n",
              "      <td>Nesting Families</td>\n",
              "      <td>Urban</td>\n",
              "      <td>1-3 Member HH</td>\n",
              "      <td>North</td>\n",
              "    </tr>\n",
              "    <tr>\n",
              "      <th>4</th>\n",
              "      <td>Panel 105009103</td>\n",
              "      <td>Over Weight</td>\n",
              "      <td>Income &lt; 1500</td>\n",
              "      <td>North Malay</td>\n",
              "      <td>Empty Nesters</td>\n",
              "      <td>Rural</td>\n",
              "      <td>1-3 Member HH</td>\n",
              "      <td>North</td>\n",
              "    </tr>\n",
              "  </tbody>\n",
              "</table>\n",
              "</div>"
            ],
            "text/plain": [
              "                ID          BMI  ...            #HH location\n",
              "0  Panel 101011101        Obese  ...  1-3 Member HH    North\n",
              "1  Panel 101016101      Healthy  ...  1-3 Member HH    North\n",
              "2  Panel 101019101        Obese  ...    4 Member HH    North\n",
              "3  Panel 101024101  Over Weight  ...  1-3 Member HH    North\n",
              "4  Panel 105009103  Over Weight  ...  1-3 Member HH    North\n",
              "\n",
              "[5 rows x 8 columns]"
            ]
          },
          "metadata": {
            "tags": []
          },
          "execution_count": 42
        }
      ]
    },
    {
      "cell_type": "code",
      "metadata": {
        "id": "0bhd3A5DeCyM",
        "colab": {
          "base_uri": "https://localhost:8080/",
          "height": 375
        },
        "outputId": "6f8fd2a0-246a-400c-8816-5593a8c4d43b"
      },
      "source": [
        "demographics.rename(columns={\"ID\" : \"Panel ID\"}, inplace=True)\n",
        "demographics.replace({'North Malay': 'Malay', 'North Chinese': 'Chinese', 'North Others': 'Others', 'South Malay': 'Malay', 'Central Malay': 'Malay', 'Central Others': 'Others', 'Central Chinese': 'Chinese', 'South Chinese': 'Chinese', 'South Others': 'Others', 'East Coast Malay': 'Malay', 'East Coast Chinese': 'Chinese', 'East Coast Others': 'Others'}, inplace=True)\n",
        "demographics.head()"
      ],
      "execution_count": null,
      "outputs": [
        {
          "output_type": "execute_result",
          "data": {
            "text/html": [
              "<div>\n",
              "<style scoped>\n",
              "    .dataframe tbody tr th:only-of-type {\n",
              "        vertical-align: middle;\n",
              "    }\n",
              "\n",
              "    .dataframe tbody tr th {\n",
              "        vertical-align: top;\n",
              "    }\n",
              "\n",
              "    .dataframe thead th {\n",
              "        text-align: right;\n",
              "    }\n",
              "</style>\n",
              "<table border=\"1\" class=\"dataframe\">\n",
              "  <thead>\n",
              "    <tr style=\"text-align: right;\">\n",
              "      <th></th>\n",
              "      <th>Panel ID</th>\n",
              "      <th>BMI</th>\n",
              "      <th>Income</th>\n",
              "      <th>Ethnicity</th>\n",
              "      <th>Lifestage</th>\n",
              "      <th>Strata</th>\n",
              "      <th>#HH</th>\n",
              "      <th>location</th>\n",
              "    </tr>\n",
              "  </thead>\n",
              "  <tbody>\n",
              "    <tr>\n",
              "      <th>0</th>\n",
              "      <td>Panel 101011101</td>\n",
              "      <td>Obese</td>\n",
              "      <td>Income 1500 - 1999</td>\n",
              "      <td>Malay</td>\n",
              "      <td>Empty Nesters</td>\n",
              "      <td>Urban</td>\n",
              "      <td>1-3 Member HH</td>\n",
              "      <td>North</td>\n",
              "    </tr>\n",
              "    <tr>\n",
              "      <th>1</th>\n",
              "      <td>Panel 101016101</td>\n",
              "      <td>Healthy</td>\n",
              "      <td>Income 1500 - 1999</td>\n",
              "      <td>Malay</td>\n",
              "      <td>Teens Aches</td>\n",
              "      <td>Urban</td>\n",
              "      <td>1-3 Member HH</td>\n",
              "      <td>North</td>\n",
              "    </tr>\n",
              "    <tr>\n",
              "      <th>2</th>\n",
              "      <td>Panel 101019101</td>\n",
              "      <td>Obese</td>\n",
              "      <td>Income &lt; 1500</td>\n",
              "      <td>Malay</td>\n",
              "      <td>Teens Aches</td>\n",
              "      <td>Urban</td>\n",
              "      <td>4 Member HH</td>\n",
              "      <td>North</td>\n",
              "    </tr>\n",
              "    <tr>\n",
              "      <th>3</th>\n",
              "      <td>Panel 101024101</td>\n",
              "      <td>Over Weight</td>\n",
              "      <td>Income 1500 - 1999</td>\n",
              "      <td>Chinese</td>\n",
              "      <td>Nesting Families</td>\n",
              "      <td>Urban</td>\n",
              "      <td>1-3 Member HH</td>\n",
              "      <td>North</td>\n",
              "    </tr>\n",
              "    <tr>\n",
              "      <th>4</th>\n",
              "      <td>Panel 105009103</td>\n",
              "      <td>Over Weight</td>\n",
              "      <td>Income &lt; 1500</td>\n",
              "      <td>Malay</td>\n",
              "      <td>Empty Nesters</td>\n",
              "      <td>Rural</td>\n",
              "      <td>1-3 Member HH</td>\n",
              "      <td>North</td>\n",
              "    </tr>\n",
              "  </tbody>\n",
              "</table>\n",
              "</div>"
            ],
            "text/plain": [
              "          Panel ID          BMI  ...            #HH location\n",
              "0  Panel 101011101        Obese  ...  1-3 Member HH    North\n",
              "1  Panel 101016101      Healthy  ...  1-3 Member HH    North\n",
              "2  Panel 101019101        Obese  ...    4 Member HH    North\n",
              "3  Panel 101024101  Over Weight  ...  1-3 Member HH    North\n",
              "4  Panel 105009103  Over Weight  ...  1-3 Member HH    North\n",
              "\n",
              "[5 rows x 8 columns]"
            ]
          },
          "metadata": {
            "tags": []
          },
          "execution_count": 43
        }
      ]
    },
    {
      "cell_type": "code",
      "metadata": {
        "id": "AR_MaQ_lEN6I",
        "colab": {
          "base_uri": "https://localhost:8080/",
          "height": 277
        },
        "outputId": "3802e596-0a13-43f7-e420-16a9086dbab8"
      },
      "source": [
        "demographics.info()"
      ],
      "execution_count": null,
      "outputs": [
        {
          "output_type": "stream",
          "text": [
            "<class 'pandas.core.frame.DataFrame'>\n",
            "RangeIndex: 4026 entries, 0 to 4025\n",
            "Data columns (total 8 columns):\n",
            " #   Column     Non-Null Count  Dtype \n",
            "---  ------     --------------  ----- \n",
            " 0   Panel ID   4026 non-null   object\n",
            " 1   BMI        4026 non-null   object\n",
            " 2   Income     4026 non-null   object\n",
            " 3   Ethnicity  4026 non-null   object\n",
            " 4   Lifestage  4026 non-null   object\n",
            " 5   Strata     4026 non-null   object\n",
            " 6   #HH        4026 non-null   object\n",
            " 7   location   4026 non-null   object\n",
            "dtypes: object(8)\n",
            "memory usage: 251.8+ KB\n"
          ],
          "name": "stdout"
        }
      ]
    },
    {
      "cell_type": "markdown",
      "metadata": {
        "id": "lk-vzW1HTJ7b"
      },
      "source": [
        "<a id='data_clean'></a>\n",
        "\n",
        "## Data Cleaning\n",
        "\n",
        "We first remove the rows where `Spend` == 0 or (`Pack Size` == 0 and `Volume` == 0) or `Pack Size` == 0, then remove rows where transactions were 2 years before the most recent transaction date."
      ]
    },
    {
      "cell_type": "code",
      "metadata": {
        "id": "zHJrVq9rSuZ1",
        "colab": {
          "base_uri": "https://localhost:8080/",
          "height": 433
        },
        "outputId": "de6f2544-0230-4ce8-be2d-f2d4a77d13aa"
      },
      "source": [
        "# Remove rows with Spend == 0\n",
        "remove_spend0 = transactions.loc[transactions.Spend == 0].index\n",
        "transactions_clean = transactions.drop(remove_spend0, axis=0)\n",
        "\n",
        "# Remove rows with Pack Size == 0 and Volume == 0\n",
        "remove_volPS0 = transactions_clean.loc[(transactions_clean.Volume<=0) & (transactions_clean[\"Pack Size\"]<=0)].index\n",
        "transactions_clean = transactions_clean.drop(remove_volPS0, axis=0)\n",
        "\n",
        "# Remove rows with Pack Size == 0\n",
        "remove_PS0 = transactions_clean.loc[(transactions_clean[\"Pack Size\"]<=0)].index\n",
        "transactions_clean = transactions_clean.drop(remove_PS0, axis=0)\n",
        "\n",
        "# Remove rows where transactions were 2 years before latest transaction\n",
        "print(\"Latest transaction Date: \" + str(transactions['Date'].max())) # 14-06-2020 is the latest transaction date\n",
        "yearslimit = pd.to_datetime('20180615', format='%Y%m%d')\n",
        "remove_toolong = transactions_clean.loc[(transactions_clean.Date<=yearslimit)].index\n",
        "\n",
        "transactions_clean = transactions_clean.drop(remove_toolong, axis=0)\n",
        "transactions_clean"
      ],
      "execution_count": null,
      "outputs": [
        {
          "output_type": "stream",
          "text": [
            "Latest transaction Date: 2020-06-14 00:00:00\n"
          ],
          "name": "stdout"
        },
        {
          "output_type": "execute_result",
          "data": {
            "text/html": [
              "<div>\n",
              "<style scoped>\n",
              "    .dataframe tbody tr th:only-of-type {\n",
              "        vertical-align: middle;\n",
              "    }\n",
              "\n",
              "    .dataframe tbody tr th {\n",
              "        vertical-align: top;\n",
              "    }\n",
              "\n",
              "    .dataframe thead th {\n",
              "        text-align: right;\n",
              "    }\n",
              "</style>\n",
              "<table border=\"1\" class=\"dataframe\">\n",
              "  <thead>\n",
              "    <tr style=\"text-align: right;\">\n",
              "      <th></th>\n",
              "      <th>Panel ID</th>\n",
              "      <th>Date</th>\n",
              "      <th>Category</th>\n",
              "      <th>Pack Size</th>\n",
              "      <th>Volume</th>\n",
              "      <th>Spend</th>\n",
              "    </tr>\n",
              "  </thead>\n",
              "  <tbody>\n",
              "    <tr>\n",
              "      <th>125</th>\n",
              "      <td>Panel 101011101</td>\n",
              "      <td>2018-06-17</td>\n",
              "      <td>Coconut Milk</td>\n",
              "      <td>2</td>\n",
              "      <td>0.4</td>\n",
              "      <td>6.2</td>\n",
              "    </tr>\n",
              "    <tr>\n",
              "      <th>126</th>\n",
              "      <td>Panel 101011101</td>\n",
              "      <td>2018-06-17</td>\n",
              "      <td>Condensed/Evap Milk</td>\n",
              "      <td>2</td>\n",
              "      <td>0.8</td>\n",
              "      <td>6.1</td>\n",
              "    </tr>\n",
              "    <tr>\n",
              "      <th>127</th>\n",
              "      <td>Panel 101011101</td>\n",
              "      <td>2018-06-17</td>\n",
              "      <td>Condensed/Evap Milk</td>\n",
              "      <td>2</td>\n",
              "      <td>0.8</td>\n",
              "      <td>10.0</td>\n",
              "    </tr>\n",
              "    <tr>\n",
              "      <th>128</th>\n",
              "      <td>Panel 101011101</td>\n",
              "      <td>2018-06-24</td>\n",
              "      <td>Coffee</td>\n",
              "      <td>3</td>\n",
              "      <td>0.6</td>\n",
              "      <td>9.6</td>\n",
              "    </tr>\n",
              "    <tr>\n",
              "      <th>129</th>\n",
              "      <td>Panel 101011101</td>\n",
              "      <td>2018-07-01</td>\n",
              "      <td>Sugar</td>\n",
              "      <td>5</td>\n",
              "      <td>5.0</td>\n",
              "      <td>13.5</td>\n",
              "    </tr>\n",
              "    <tr>\n",
              "      <th>...</th>\n",
              "      <td>...</td>\n",
              "      <td>...</td>\n",
              "      <td>...</td>\n",
              "      <td>...</td>\n",
              "      <td>...</td>\n",
              "      <td>...</td>\n",
              "    </tr>\n",
              "    <tr>\n",
              "      <th>1318019</th>\n",
              "      <td>Panel 801912801</td>\n",
              "      <td>2020-02-23</td>\n",
              "      <td>MSG</td>\n",
              "      <td>1</td>\n",
              "      <td>0.1</td>\n",
              "      <td>2.2</td>\n",
              "    </tr>\n",
              "    <tr>\n",
              "      <th>1318020</th>\n",
              "      <td>Panel 801912801</td>\n",
              "      <td>2020-02-23</td>\n",
              "      <td>Eggs</td>\n",
              "      <td>1</td>\n",
              "      <td>30.0</td>\n",
              "      <td>8.4</td>\n",
              "    </tr>\n",
              "    <tr>\n",
              "      <th>1318021</th>\n",
              "      <td>Panel 801912801</td>\n",
              "      <td>2020-02-23</td>\n",
              "      <td>Ice Cream</td>\n",
              "      <td>1</td>\n",
              "      <td>1.5</td>\n",
              "      <td>8.0</td>\n",
              "    </tr>\n",
              "    <tr>\n",
              "      <th>1318022</th>\n",
              "      <td>Panel 801912801</td>\n",
              "      <td>2020-02-23</td>\n",
              "      <td>Cooking Sauces</td>\n",
              "      <td>1</td>\n",
              "      <td>0.7</td>\n",
              "      <td>4.8</td>\n",
              "    </tr>\n",
              "    <tr>\n",
              "      <th>1318023</th>\n",
              "      <td>Panel 801912801</td>\n",
              "      <td>2020-02-23</td>\n",
              "      <td>Bouilon</td>\n",
              "      <td>1</td>\n",
              "      <td>0.0</td>\n",
              "      <td>1.2</td>\n",
              "    </tr>\n",
              "  </tbody>\n",
              "</table>\n",
              "<p>865135 rows × 6 columns</p>\n",
              "</div>"
            ],
            "text/plain": [
              "                Panel ID       Date  ... Volume  Spend\n",
              "125      Panel 101011101 2018-06-17  ...    0.4    6.2\n",
              "126      Panel 101011101 2018-06-17  ...    0.8    6.1\n",
              "127      Panel 101011101 2018-06-17  ...    0.8   10.0\n",
              "128      Panel 101011101 2018-06-24  ...    0.6    9.6\n",
              "129      Panel 101011101 2018-07-01  ...    5.0   13.5\n",
              "...                  ...        ...  ...    ...    ...\n",
              "1318019  Panel 801912801 2020-02-23  ...    0.1    2.2\n",
              "1318020  Panel 801912801 2020-02-23  ...   30.0    8.4\n",
              "1318021  Panel 801912801 2020-02-23  ...    1.5    8.0\n",
              "1318022  Panel 801912801 2020-02-23  ...    0.7    4.8\n",
              "1318023  Panel 801912801 2020-02-23  ...    0.0    1.2\n",
              "\n",
              "[865135 rows x 6 columns]"
            ]
          },
          "metadata": {
            "tags": []
          },
          "execution_count": 45
        }
      ]
    },
    {
      "cell_type": "code",
      "metadata": {
        "id": "nOFlFOmSyPdU",
        "colab": {
          "base_uri": "https://localhost:8080/",
          "height": 139
        },
        "outputId": "6742682e-1e9d-485b-f0cb-7b7814126dc9"
      },
      "source": [
        "transactions_clean.nunique() #ensure only those who fit the customer definition are inside "
      ],
      "execution_count": null,
      "outputs": [
        {
          "output_type": "execute_result",
          "data": {
            "text/plain": [
              "Panel ID     2787\n",
              "Date          105\n",
              "Category       62\n",
              "Pack Size      68\n",
              "Volume        220\n",
              "Spend        1879\n",
              "dtype: int64"
            ]
          },
          "metadata": {
            "tags": []
          },
          "execution_count": 46
        }
      ]
    },
    {
      "cell_type": "markdown",
      "metadata": {
        "id": "NONzUibw978L"
      },
      "source": [
        "<a id='eda'></a>\n",
        "\n",
        "## Exploratory Data Analysis\n",
        "\n",
        "We should dive in deeper when examining each customer's data; obtaining more useful numerical variables might help in unsupervised machine learning methods like k-means clustering."
      ]
    },
    {
      "cell_type": "markdown",
      "metadata": {
        "id": "_PNF_NQnb3S5"
      },
      "source": [
        "### Aggregation of Each Customer's Data\n",
        "\n",
        "Finding useful numerical variables such as the total amount each customer had spent on Baby Care Products might facilitate processes such as customer segmentation more easily."
      ]
    },
    {
      "cell_type": "code",
      "metadata": {
        "id": "ywHx0K-Xb1m6",
        "colab": {
          "base_uri": "https://localhost:8080/",
          "height": 643
        },
        "outputId": "8394596a-eb23-4484-c9d8-11e7729ce486"
      },
      "source": [
        "transWithProducts = transactions_clean.merge(categories, how = 'left', on = 'Category')\n",
        "transWithProducts"
      ],
      "execution_count": null,
      "outputs": [
        {
          "output_type": "execute_result",
          "data": {
            "text/html": [
              "<div>\n",
              "<style scoped>\n",
              "    .dataframe tbody tr th:only-of-type {\n",
              "        vertical-align: middle;\n",
              "    }\n",
              "\n",
              "    .dataframe tbody tr th {\n",
              "        vertical-align: top;\n",
              "    }\n",
              "\n",
              "    .dataframe thead th {\n",
              "        text-align: right;\n",
              "    }\n",
              "</style>\n",
              "<table border=\"1\" class=\"dataframe\">\n",
              "  <thead>\n",
              "    <tr style=\"text-align: right;\">\n",
              "      <th></th>\n",
              "      <th>Panel ID</th>\n",
              "      <th>Date</th>\n",
              "      <th>Category</th>\n",
              "      <th>Pack Size</th>\n",
              "      <th>Volume</th>\n",
              "      <th>Spend</th>\n",
              "      <th>Calories/100g</th>\n",
              "      <th>Price per Volume</th>\n",
              "      <th>Product Type</th>\n",
              "    </tr>\n",
              "  </thead>\n",
              "  <tbody>\n",
              "    <tr>\n",
              "      <th>0</th>\n",
              "      <td>Panel 101011101</td>\n",
              "      <td>2018-06-17</td>\n",
              "      <td>Coconut Milk</td>\n",
              "      <td>2</td>\n",
              "      <td>0.4</td>\n",
              "      <td>6.2</td>\n",
              "      <td>233</td>\n",
              "      <td>11.15</td>\n",
              "      <td>Cooking Essentials</td>\n",
              "    </tr>\n",
              "    <tr>\n",
              "      <th>1</th>\n",
              "      <td>Panel 101011101</td>\n",
              "      <td>2018-06-17</td>\n",
              "      <td>Condensed/Evap Milk</td>\n",
              "      <td>2</td>\n",
              "      <td>0.8</td>\n",
              "      <td>6.1</td>\n",
              "      <td>321</td>\n",
              "      <td>4.85</td>\n",
              "      <td>Cooking Essentials</td>\n",
              "    </tr>\n",
              "    <tr>\n",
              "      <th>2</th>\n",
              "      <td>Panel 101011101</td>\n",
              "      <td>2018-06-17</td>\n",
              "      <td>Condensed/Evap Milk</td>\n",
              "      <td>2</td>\n",
              "      <td>0.8</td>\n",
              "      <td>10.0</td>\n",
              "      <td>321</td>\n",
              "      <td>4.85</td>\n",
              "      <td>Cooking Essentials</td>\n",
              "    </tr>\n",
              "    <tr>\n",
              "      <th>3</th>\n",
              "      <td>Panel 101011101</td>\n",
              "      <td>2018-06-24</td>\n",
              "      <td>Coffee</td>\n",
              "      <td>3</td>\n",
              "      <td>0.6</td>\n",
              "      <td>9.6</td>\n",
              "      <td>1</td>\n",
              "      <td>26.76</td>\n",
              "      <td>Beverages</td>\n",
              "    </tr>\n",
              "    <tr>\n",
              "      <th>4</th>\n",
              "      <td>Panel 101011101</td>\n",
              "      <td>2018-07-01</td>\n",
              "      <td>Sugar</td>\n",
              "      <td>5</td>\n",
              "      <td>5.0</td>\n",
              "      <td>13.5</td>\n",
              "      <td>405</td>\n",
              "      <td>2.94</td>\n",
              "      <td>Baking Products/Spreads</td>\n",
              "    </tr>\n",
              "    <tr>\n",
              "      <th>...</th>\n",
              "      <td>...</td>\n",
              "      <td>...</td>\n",
              "      <td>...</td>\n",
              "      <td>...</td>\n",
              "      <td>...</td>\n",
              "      <td>...</td>\n",
              "      <td>...</td>\n",
              "      <td>...</td>\n",
              "      <td>...</td>\n",
              "    </tr>\n",
              "    <tr>\n",
              "      <th>865130</th>\n",
              "      <td>Panel 801912801</td>\n",
              "      <td>2020-02-23</td>\n",
              "      <td>MSG</td>\n",
              "      <td>1</td>\n",
              "      <td>0.1</td>\n",
              "      <td>2.2</td>\n",
              "      <td>0</td>\n",
              "      <td>19.02</td>\n",
              "      <td>Cooking Essentials</td>\n",
              "    </tr>\n",
              "    <tr>\n",
              "      <th>865131</th>\n",
              "      <td>Panel 801912801</td>\n",
              "      <td>2020-02-23</td>\n",
              "      <td>Eggs</td>\n",
              "      <td>1</td>\n",
              "      <td>30.0</td>\n",
              "      <td>8.4</td>\n",
              "      <td>97</td>\n",
              "      <td>0.37</td>\n",
              "      <td>Staple Goods</td>\n",
              "    </tr>\n",
              "    <tr>\n",
              "      <th>865132</th>\n",
              "      <td>Panel 801912801</td>\n",
              "      <td>2020-02-23</td>\n",
              "      <td>Ice Cream</td>\n",
              "      <td>1</td>\n",
              "      <td>1.5</td>\n",
              "      <td>8.0</td>\n",
              "      <td>240</td>\n",
              "      <td>10.64</td>\n",
              "      <td>Packaged Food</td>\n",
              "    </tr>\n",
              "    <tr>\n",
              "      <th>865133</th>\n",
              "      <td>Panel 801912801</td>\n",
              "      <td>2020-02-23</td>\n",
              "      <td>Cooking Sauces</td>\n",
              "      <td>1</td>\n",
              "      <td>0.7</td>\n",
              "      <td>4.8</td>\n",
              "      <td>175</td>\n",
              "      <td>8.40</td>\n",
              "      <td>Cooking Essentials</td>\n",
              "    </tr>\n",
              "    <tr>\n",
              "      <th>865134</th>\n",
              "      <td>Panel 801912801</td>\n",
              "      <td>2020-02-23</td>\n",
              "      <td>Bouilon</td>\n",
              "      <td>1</td>\n",
              "      <td>0.0</td>\n",
              "      <td>1.2</td>\n",
              "      <td>16</td>\n",
              "      <td>29.09</td>\n",
              "      <td>Cooking Essentials</td>\n",
              "    </tr>\n",
              "  </tbody>\n",
              "</table>\n",
              "<p>865135 rows × 9 columns</p>\n",
              "</div>"
            ],
            "text/plain": [
              "               Panel ID       Date  ... Price per Volume             Product Type\n",
              "0       Panel 101011101 2018-06-17  ...            11.15       Cooking Essentials\n",
              "1       Panel 101011101 2018-06-17  ...             4.85       Cooking Essentials\n",
              "2       Panel 101011101 2018-06-17  ...             4.85       Cooking Essentials\n",
              "3       Panel 101011101 2018-06-24  ...            26.76                Beverages\n",
              "4       Panel 101011101 2018-07-01  ...             2.94  Baking Products/Spreads\n",
              "...                 ...        ...  ...              ...                      ...\n",
              "865130  Panel 801912801 2020-02-23  ...            19.02       Cooking Essentials\n",
              "865131  Panel 801912801 2020-02-23  ...             0.37             Staple Goods\n",
              "865132  Panel 801912801 2020-02-23  ...            10.64            Packaged Food\n",
              "865133  Panel 801912801 2020-02-23  ...             8.40       Cooking Essentials\n",
              "865134  Panel 801912801 2020-02-23  ...            29.09       Cooking Essentials\n",
              "\n",
              "[865135 rows x 9 columns]"
            ]
          },
          "metadata": {
            "tags": []
          },
          "execution_count": 47
        }
      ]
    },
    {
      "cell_type": "code",
      "metadata": {
        "id": "OJYrPD5Ug7ms",
        "colab": {
          "base_uri": "https://localhost:8080/",
          "height": 415
        },
        "outputId": "157e5f19-6e12-4370-8d7d-cde2febbae23"
      },
      "source": [
        "# Total Spend on each product by each customer over the 2 years\n",
        "transProductSum = transWithProducts.groupby(['Panel ID', 'Category'])['Spend'].sum().reset_index()\n",
        "#transProductCount.rename(columns={'Date':'Count'}, inplace=True)\n",
        "transProductSum = transProductSum.merge(categories[['Category', 'Product Type']], how = 'left', on = 'Category')\n",
        "transProductSum"
      ],
      "execution_count": null,
      "outputs": [
        {
          "output_type": "execute_result",
          "data": {
            "text/html": [
              "<div>\n",
              "<style scoped>\n",
              "    .dataframe tbody tr th:only-of-type {\n",
              "        vertical-align: middle;\n",
              "    }\n",
              "\n",
              "    .dataframe tbody tr th {\n",
              "        vertical-align: top;\n",
              "    }\n",
              "\n",
              "    .dataframe thead th {\n",
              "        text-align: right;\n",
              "    }\n",
              "</style>\n",
              "<table border=\"1\" class=\"dataframe\">\n",
              "  <thead>\n",
              "    <tr style=\"text-align: right;\">\n",
              "      <th></th>\n",
              "      <th>Panel ID</th>\n",
              "      <th>Category</th>\n",
              "      <th>Spend</th>\n",
              "      <th>Product Type</th>\n",
              "    </tr>\n",
              "  </thead>\n",
              "  <tbody>\n",
              "    <tr>\n",
              "      <th>0</th>\n",
              "      <td>Panel 101011101</td>\n",
              "      <td>Biscuits</td>\n",
              "      <td>60.2</td>\n",
              "      <td>Packaged Food</td>\n",
              "    </tr>\n",
              "    <tr>\n",
              "      <th>1</th>\n",
              "      <td>Panel 101011101</td>\n",
              "      <td>Bouilon</td>\n",
              "      <td>9.1</td>\n",
              "      <td>Cooking Essentials</td>\n",
              "    </tr>\n",
              "    <tr>\n",
              "      <th>2</th>\n",
              "      <td>Panel 101011101</td>\n",
              "      <td>Butter</td>\n",
              "      <td>31.9</td>\n",
              "      <td>Baking Products/Spreads</td>\n",
              "    </tr>\n",
              "    <tr>\n",
              "      <th>3</th>\n",
              "      <td>Panel 101011101</td>\n",
              "      <td>CSD</td>\n",
              "      <td>17.5</td>\n",
              "      <td>Beverages</td>\n",
              "    </tr>\n",
              "    <tr>\n",
              "      <th>4</th>\n",
              "      <td>Panel 101011101</td>\n",
              "      <td>Cake</td>\n",
              "      <td>5.7</td>\n",
              "      <td>Packaged Food</td>\n",
              "    </tr>\n",
              "    <tr>\n",
              "      <th>...</th>\n",
              "      <td>...</td>\n",
              "      <td>...</td>\n",
              "      <td>...</td>\n",
              "      <td>...</td>\n",
              "    </tr>\n",
              "    <tr>\n",
              "      <th>80099</th>\n",
              "      <td>Panel 801912801</td>\n",
              "      <td>Ice Cream</td>\n",
              "      <td>8.0</td>\n",
              "      <td>Packaged Food</td>\n",
              "    </tr>\n",
              "    <tr>\n",
              "      <th>80100</th>\n",
              "      <td>Panel 801912801</td>\n",
              "      <td>Liquid Milk</td>\n",
              "      <td>7.3</td>\n",
              "      <td>Staple Goods</td>\n",
              "    </tr>\n",
              "    <tr>\n",
              "      <th>80101</th>\n",
              "      <td>Panel 801912801</td>\n",
              "      <td>MSG</td>\n",
              "      <td>4.4</td>\n",
              "      <td>Cooking Essentials</td>\n",
              "    </tr>\n",
              "    <tr>\n",
              "      <th>80102</th>\n",
              "      <td>Panel 801912801</td>\n",
              "      <td>Rice</td>\n",
              "      <td>53.5</td>\n",
              "      <td>Staple Goods</td>\n",
              "    </tr>\n",
              "    <tr>\n",
              "      <th>80103</th>\n",
              "      <td>Panel 801912801</td>\n",
              "      <td>Sugar</td>\n",
              "      <td>8.6</td>\n",
              "      <td>Baking Products/Spreads</td>\n",
              "    </tr>\n",
              "  </tbody>\n",
              "</table>\n",
              "<p>80104 rows × 4 columns</p>\n",
              "</div>"
            ],
            "text/plain": [
              "              Panel ID     Category  Spend             Product Type\n",
              "0      Panel 101011101     Biscuits   60.2            Packaged Food\n",
              "1      Panel 101011101      Bouilon    9.1       Cooking Essentials\n",
              "2      Panel 101011101       Butter   31.9  Baking Products/Spreads\n",
              "3      Panel 101011101          CSD   17.5                Beverages\n",
              "4      Panel 101011101         Cake    5.7            Packaged Food\n",
              "...                ...          ...    ...                      ...\n",
              "80099  Panel 801912801    Ice Cream    8.0            Packaged Food\n",
              "80100  Panel 801912801  Liquid Milk    7.3             Staple Goods\n",
              "80101  Panel 801912801          MSG    4.4       Cooking Essentials\n",
              "80102  Panel 801912801         Rice   53.5             Staple Goods\n",
              "80103  Panel 801912801        Sugar    8.6  Baking Products/Spreads\n",
              "\n",
              "[80104 rows x 4 columns]"
            ]
          },
          "metadata": {
            "tags": []
          },
          "execution_count": 14
        }
      ]
    },
    {
      "cell_type": "code",
      "metadata": {
        "id": "SR9rPggTprxN",
        "colab": {
          "base_uri": "https://localhost:8080/",
          "height": 415
        },
        "outputId": "0d1e9236-d56f-448e-edd7-7f21e97363d3"
      },
      "source": [
        "# Total Spend on each Product Type by each customer over the 2 years\n",
        "transProductTypeSum = transProductSum.groupby(['Panel ID', 'Product Type'])['Spend'].sum().reset_index()\n",
        "transProductTypeSum"
      ],
      "execution_count": null,
      "outputs": [
        {
          "output_type": "execute_result",
          "data": {
            "text/html": [
              "<div>\n",
              "<style scoped>\n",
              "    .dataframe tbody tr th:only-of-type {\n",
              "        vertical-align: middle;\n",
              "    }\n",
              "\n",
              "    .dataframe tbody tr th {\n",
              "        vertical-align: top;\n",
              "    }\n",
              "\n",
              "    .dataframe thead th {\n",
              "        text-align: right;\n",
              "    }\n",
              "</style>\n",
              "<table border=\"1\" class=\"dataframe\">\n",
              "  <thead>\n",
              "    <tr style=\"text-align: right;\">\n",
              "      <th></th>\n",
              "      <th>Panel ID</th>\n",
              "      <th>Product Type</th>\n",
              "      <th>Spend</th>\n",
              "    </tr>\n",
              "  </thead>\n",
              "  <tbody>\n",
              "    <tr>\n",
              "      <th>0</th>\n",
              "      <td>Panel 101011101</td>\n",
              "      <td>Baking Products/Spreads</td>\n",
              "      <td>863.2</td>\n",
              "    </tr>\n",
              "    <tr>\n",
              "      <th>1</th>\n",
              "      <td>Panel 101011101</td>\n",
              "      <td>Beverages</td>\n",
              "      <td>223.9</td>\n",
              "    </tr>\n",
              "    <tr>\n",
              "      <th>2</th>\n",
              "      <td>Panel 101011101</td>\n",
              "      <td>Cooking Essentials</td>\n",
              "      <td>607.5</td>\n",
              "    </tr>\n",
              "    <tr>\n",
              "      <th>3</th>\n",
              "      <td>Panel 101011101</td>\n",
              "      <td>Packaged Food</td>\n",
              "      <td>240.3</td>\n",
              "    </tr>\n",
              "    <tr>\n",
              "      <th>4</th>\n",
              "      <td>Panel 101011101</td>\n",
              "      <td>Staple Goods</td>\n",
              "      <td>926.2</td>\n",
              "    </tr>\n",
              "    <tr>\n",
              "      <th>...</th>\n",
              "      <td>...</td>\n",
              "      <td>...</td>\n",
              "      <td>...</td>\n",
              "    </tr>\n",
              "    <tr>\n",
              "      <th>14185</th>\n",
              "      <td>Panel 801912801</td>\n",
              "      <td>Baking Products/Spreads</td>\n",
              "      <td>29.6</td>\n",
              "    </tr>\n",
              "    <tr>\n",
              "      <th>14186</th>\n",
              "      <td>Panel 801912801</td>\n",
              "      <td>Beverages</td>\n",
              "      <td>24.9</td>\n",
              "    </tr>\n",
              "    <tr>\n",
              "      <th>14187</th>\n",
              "      <td>Panel 801912801</td>\n",
              "      <td>Cooking Essentials</td>\n",
              "      <td>108.7</td>\n",
              "    </tr>\n",
              "    <tr>\n",
              "      <th>14188</th>\n",
              "      <td>Panel 801912801</td>\n",
              "      <td>Packaged Food</td>\n",
              "      <td>8.0</td>\n",
              "    </tr>\n",
              "    <tr>\n",
              "      <th>14189</th>\n",
              "      <td>Panel 801912801</td>\n",
              "      <td>Staple Goods</td>\n",
              "      <td>93.1</td>\n",
              "    </tr>\n",
              "  </tbody>\n",
              "</table>\n",
              "<p>14190 rows × 3 columns</p>\n",
              "</div>"
            ],
            "text/plain": [
              "              Panel ID             Product Type  Spend\n",
              "0      Panel 101011101  Baking Products/Spreads  863.2\n",
              "1      Panel 101011101                Beverages  223.9\n",
              "2      Panel 101011101       Cooking Essentials  607.5\n",
              "3      Panel 101011101            Packaged Food  240.3\n",
              "4      Panel 101011101             Staple Goods  926.2\n",
              "...                ...                      ...    ...\n",
              "14185  Panel 801912801  Baking Products/Spreads   29.6\n",
              "14186  Panel 801912801                Beverages   24.9\n",
              "14187  Panel 801912801       Cooking Essentials  108.7\n",
              "14188  Panel 801912801            Packaged Food    8.0\n",
              "14189  Panel 801912801             Staple Goods   93.1\n",
              "\n",
              "[14190 rows x 3 columns]"
            ]
          },
          "metadata": {
            "tags": []
          },
          "execution_count": 15
        }
      ]
    },
    {
      "cell_type": "code",
      "metadata": {
        "id": "jbb8ftWsuY5B",
        "colab": {
          "base_uri": "https://localhost:8080/",
          "height": 415
        },
        "outputId": "537e614f-6bcc-434a-e2e3-92fac58ae197"
      },
      "source": [
        "# Total Spend on each Product Type by each customer over the 2 years; stored by Product Type into different dataframes\n",
        "transBeverage = transProductTypeSum[transProductTypeSum['Product Type'] == 'Beverages']\n",
        "transBabyCare = transProductTypeSum[transProductTypeSum['Product Type'] == 'Baby Care']\n",
        "transFood = transProductTypeSum[transProductTypeSum['Product Type'] == 'Packaged Food']\n",
        "transStaple = transProductTypeSum[transProductTypeSum['Product Type'] == 'Staple Goods']\n",
        "transCooking = transProductTypeSum[transProductTypeSum['Product Type'] == 'Cooking Essentials']\n",
        "transBaking = transProductTypeSum[transProductTypeSum['Product Type'] == 'Baking Products/Spreads']\n",
        "transOther = transProductTypeSum[transProductTypeSum['Product Type'] == 'Other Products']\n",
        "transBeverage"
      ],
      "execution_count": null,
      "outputs": [
        {
          "output_type": "execute_result",
          "data": {
            "text/html": [
              "<div>\n",
              "<style scoped>\n",
              "    .dataframe tbody tr th:only-of-type {\n",
              "        vertical-align: middle;\n",
              "    }\n",
              "\n",
              "    .dataframe tbody tr th {\n",
              "        vertical-align: top;\n",
              "    }\n",
              "\n",
              "    .dataframe thead th {\n",
              "        text-align: right;\n",
              "    }\n",
              "</style>\n",
              "<table border=\"1\" class=\"dataframe\">\n",
              "  <thead>\n",
              "    <tr style=\"text-align: right;\">\n",
              "      <th></th>\n",
              "      <th>Panel ID</th>\n",
              "      <th>Product Type</th>\n",
              "      <th>Spend</th>\n",
              "    </tr>\n",
              "  </thead>\n",
              "  <tbody>\n",
              "    <tr>\n",
              "      <th>1</th>\n",
              "      <td>Panel 101011101</td>\n",
              "      <td>Beverages</td>\n",
              "      <td>223.9</td>\n",
              "    </tr>\n",
              "    <tr>\n",
              "      <th>6</th>\n",
              "      <td>Panel 101016101</td>\n",
              "      <td>Beverages</td>\n",
              "      <td>101.8</td>\n",
              "    </tr>\n",
              "    <tr>\n",
              "      <th>11</th>\n",
              "      <td>Panel 101019101</td>\n",
              "      <td>Beverages</td>\n",
              "      <td>1714.8</td>\n",
              "    </tr>\n",
              "    <tr>\n",
              "      <th>16</th>\n",
              "      <td>Panel 101024101</td>\n",
              "      <td>Beverages</td>\n",
              "      <td>973.7</td>\n",
              "    </tr>\n",
              "    <tr>\n",
              "      <th>21</th>\n",
              "      <td>Panel 105009103</td>\n",
              "      <td>Beverages</td>\n",
              "      <td>886.5</td>\n",
              "    </tr>\n",
              "    <tr>\n",
              "      <th>...</th>\n",
              "      <td>...</td>\n",
              "      <td>...</td>\n",
              "      <td>...</td>\n",
              "    </tr>\n",
              "    <tr>\n",
              "      <th>14166</th>\n",
              "      <td>Panel 801900701</td>\n",
              "      <td>Beverages</td>\n",
              "      <td>37.9</td>\n",
              "    </tr>\n",
              "    <tr>\n",
              "      <th>14171</th>\n",
              "      <td>Panel 801901201</td>\n",
              "      <td>Beverages</td>\n",
              "      <td>99.8</td>\n",
              "    </tr>\n",
              "    <tr>\n",
              "      <th>14176</th>\n",
              "      <td>Panel 801903201</td>\n",
              "      <td>Beverages</td>\n",
              "      <td>99.6</td>\n",
              "    </tr>\n",
              "    <tr>\n",
              "      <th>14181</th>\n",
              "      <td>Panel 801903801</td>\n",
              "      <td>Beverages</td>\n",
              "      <td>74.5</td>\n",
              "    </tr>\n",
              "    <tr>\n",
              "      <th>14186</th>\n",
              "      <td>Panel 801912801</td>\n",
              "      <td>Beverages</td>\n",
              "      <td>24.9</td>\n",
              "    </tr>\n",
              "  </tbody>\n",
              "</table>\n",
              "<p>2698 rows × 3 columns</p>\n",
              "</div>"
            ],
            "text/plain": [
              "              Panel ID Product Type   Spend\n",
              "1      Panel 101011101    Beverages   223.9\n",
              "6      Panel 101016101    Beverages   101.8\n",
              "11     Panel 101019101    Beverages  1714.8\n",
              "16     Panel 101024101    Beverages   973.7\n",
              "21     Panel 105009103    Beverages   886.5\n",
              "...                ...          ...     ...\n",
              "14166  Panel 801900701    Beverages    37.9\n",
              "14171  Panel 801901201    Beverages    99.8\n",
              "14176  Panel 801903201    Beverages    99.6\n",
              "14181  Panel 801903801    Beverages    74.5\n",
              "14186  Panel 801912801    Beverages    24.9\n",
              "\n",
              "[2698 rows x 3 columns]"
            ]
          },
          "metadata": {
            "tags": []
          },
          "execution_count": 16
        }
      ]
    },
    {
      "cell_type": "code",
      "metadata": {
        "id": "hQOaWZCEkemO",
        "colab": {
          "base_uri": "https://localhost:8080/",
          "height": 404
        },
        "outputId": "4a502174-5eae-4e77-f479-ac0fe2fd0580"
      },
      "source": [
        "# Total Spend of each customer over the 2 years\n",
        "transSum = transWithProducts.groupby(['Panel ID'])['Spend'].sum().reset_index()\n",
        "#transCount.rename(columns={'Date':'Total'}, inplace=True)\n",
        "transSum"
      ],
      "execution_count": null,
      "outputs": [
        {
          "output_type": "execute_result",
          "data": {
            "text/html": [
              "<div>\n",
              "<style scoped>\n",
              "    .dataframe tbody tr th:only-of-type {\n",
              "        vertical-align: middle;\n",
              "    }\n",
              "\n",
              "    .dataframe tbody tr th {\n",
              "        vertical-align: top;\n",
              "    }\n",
              "\n",
              "    .dataframe thead th {\n",
              "        text-align: right;\n",
              "    }\n",
              "</style>\n",
              "<table border=\"1\" class=\"dataframe\">\n",
              "  <thead>\n",
              "    <tr style=\"text-align: right;\">\n",
              "      <th></th>\n",
              "      <th>Panel ID</th>\n",
              "      <th>Spend</th>\n",
              "    </tr>\n",
              "  </thead>\n",
              "  <tbody>\n",
              "    <tr>\n",
              "      <th>0</th>\n",
              "      <td>Panel 101011101</td>\n",
              "      <td>2861.1</td>\n",
              "    </tr>\n",
              "    <tr>\n",
              "      <th>1</th>\n",
              "      <td>Panel 101016101</td>\n",
              "      <td>1224.6</td>\n",
              "    </tr>\n",
              "    <tr>\n",
              "      <th>2</th>\n",
              "      <td>Panel 101019101</td>\n",
              "      <td>5212.8</td>\n",
              "    </tr>\n",
              "    <tr>\n",
              "      <th>3</th>\n",
              "      <td>Panel 101024101</td>\n",
              "      <td>3960.7</td>\n",
              "    </tr>\n",
              "    <tr>\n",
              "      <th>4</th>\n",
              "      <td>Panel 105009103</td>\n",
              "      <td>3120.9</td>\n",
              "    </tr>\n",
              "    <tr>\n",
              "      <th>...</th>\n",
              "      <td>...</td>\n",
              "      <td>...</td>\n",
              "    </tr>\n",
              "    <tr>\n",
              "      <th>2782</th>\n",
              "      <td>Panel 801900701</td>\n",
              "      <td>213.1</td>\n",
              "    </tr>\n",
              "    <tr>\n",
              "      <th>2783</th>\n",
              "      <td>Panel 801901201</td>\n",
              "      <td>1165.0</td>\n",
              "    </tr>\n",
              "    <tr>\n",
              "      <th>2784</th>\n",
              "      <td>Panel 801903201</td>\n",
              "      <td>400.0</td>\n",
              "    </tr>\n",
              "    <tr>\n",
              "      <th>2785</th>\n",
              "      <td>Panel 801903801</td>\n",
              "      <td>278.6</td>\n",
              "    </tr>\n",
              "    <tr>\n",
              "      <th>2786</th>\n",
              "      <td>Panel 801912801</td>\n",
              "      <td>264.3</td>\n",
              "    </tr>\n",
              "  </tbody>\n",
              "</table>\n",
              "<p>2787 rows × 2 columns</p>\n",
              "</div>"
            ],
            "text/plain": [
              "             Panel ID   Spend\n",
              "0     Panel 101011101  2861.1\n",
              "1     Panel 101016101  1224.6\n",
              "2     Panel 101019101  5212.8\n",
              "3     Panel 101024101  3960.7\n",
              "4     Panel 105009103  3120.9\n",
              "...               ...     ...\n",
              "2782  Panel 801900701   213.1\n",
              "2783  Panel 801901201  1165.0\n",
              "2784  Panel 801903201   400.0\n",
              "2785  Panel 801903801   278.6\n",
              "2786  Panel 801912801   264.3\n",
              "\n",
              "[2787 rows x 2 columns]"
            ]
          },
          "metadata": {
            "tags": []
          },
          "execution_count": 23
        }
      ]
    },
    {
      "cell_type": "code",
      "metadata": {
        "id": "Gae38sAMztOi",
        "colab": {
          "base_uri": "https://localhost:8080/",
          "height": 234
        },
        "outputId": "1ce3554d-7c2e-4c6e-aca0-eab3565e137c"
      },
      "source": [
        "transfinal = transSum.copy() # to get just the absolute values of the spendings per category\n",
        "transfinal = transfinal.merge(transBeverage[['Panel ID', 'Spend']], how = 'left', on = 'Panel ID')\n",
        "transfinal.rename(columns={'Spend_x':'Total Spend','Spend_y':'Beverage'}, inplace=True)\n",
        "transfinal = transfinal.merge(transBabyCare[['Panel ID', 'Spend']], how = 'left', on = 'Panel ID')\n",
        "transfinal.rename(columns={'Spend':'BabyCare'}, inplace=True)\n",
        "transfinal = transfinal.merge(transFood[['Panel ID', 'Spend']], how = 'left', on = 'Panel ID')\n",
        "transfinal.rename(columns={'Spend':'PackagedFood'}, inplace=True)\n",
        "transfinal = transfinal.merge(transStaple[['Panel ID', 'Spend']], how = 'left', on = 'Panel ID')\n",
        "transfinal.rename(columns={'Spend':'StapleGoods'}, inplace=True)\n",
        "transfinal = transfinal.merge(transCooking[['Panel ID', 'Spend']], how = 'left', on = 'Panel ID')\n",
        "transfinal.rename(columns={'Spend':'CookingEssentials'}, inplace=True)\n",
        "transfinal = transfinal.merge(transBaking[['Panel ID', 'Spend']], how = 'left', on = 'Panel ID')\n",
        "transfinal.rename(columns={'Spend':'BakingAndSpreads'}, inplace=True)\n",
        "transfinal = transfinal.merge(transOther[['Panel ID', 'Spend']], how = 'left', on = 'Panel ID')\n",
        "transfinal.rename(columns={'Spend':'OtherProducts'}, inplace=True)\n",
        "transfinal.fillna(0.0, inplace=True)\n",
        "transfinal.drop(columns='Panel ID').values"
      ],
      "execution_count": null,
      "outputs": [
        {
          "output_type": "execute_result",
          "data": {
            "text/plain": [
              "array([[2.8611e+03, 2.2390e+02, 0.0000e+00, ..., 6.0750e+02, 8.6320e+02,\n",
              "        0.0000e+00],\n",
              "       [1.2246e+03, 1.0180e+02, 0.0000e+00, ..., 3.8530e+02, 1.9050e+02,\n",
              "        0.0000e+00],\n",
              "       [5.2128e+03, 1.7148e+03, 0.0000e+00, ..., 7.9260e+02, 5.8510e+02,\n",
              "        0.0000e+00],\n",
              "       ...,\n",
              "       [4.0000e+02, 9.9600e+01, 0.0000e+00, ..., 4.3300e+01, 5.2000e+00,\n",
              "        0.0000e+00],\n",
              "       [2.7860e+02, 7.4500e+01, 0.0000e+00, ..., 2.4700e+01, 6.6000e+00,\n",
              "        0.0000e+00],\n",
              "       [2.6430e+02, 2.4900e+01, 0.0000e+00, ..., 1.0870e+02, 2.9600e+01,\n",
              "        0.0000e+00]])"
            ]
          },
          "metadata": {
            "tags": []
          },
          "execution_count": 24
        }
      ]
    },
    {
      "cell_type": "code",
      "metadata": {
        "id": "p6Y_mEazmTDY",
        "colab": {
          "base_uri": "https://localhost:8080/",
          "height": 256
        },
        "outputId": "d3466591-d7fb-4b9e-f570-03bae87db88c"
      },
      "source": [
        "scaler = StandardScaler()\n",
        "scaled_features = scaler.fit_transform(transfinal.drop(columns=['Panel ID', 'Total Spend']).values)\n",
        "scaled_pattern_df = pd.DataFrame(scaled_features, index=transfinal.drop(columns=['Panel ID', 'Total Spend']).index, columns=transfinal.drop(columns=['Panel ID', 'Total Spend']).columns)\n",
        "\n",
        "scaled_pattern_df.corr()"
      ],
      "execution_count": null,
      "outputs": [
        {
          "output_type": "execute_result",
          "data": {
            "text/html": [
              "<div>\n",
              "<style scoped>\n",
              "    .dataframe tbody tr th:only-of-type {\n",
              "        vertical-align: middle;\n",
              "    }\n",
              "\n",
              "    .dataframe tbody tr th {\n",
              "        vertical-align: top;\n",
              "    }\n",
              "\n",
              "    .dataframe thead th {\n",
              "        text-align: right;\n",
              "    }\n",
              "</style>\n",
              "<table border=\"1\" class=\"dataframe\">\n",
              "  <thead>\n",
              "    <tr style=\"text-align: right;\">\n",
              "      <th></th>\n",
              "      <th>Beverage</th>\n",
              "      <th>BabyCare</th>\n",
              "      <th>PackagedFood</th>\n",
              "      <th>StapleGoods</th>\n",
              "      <th>CookingEssentials</th>\n",
              "      <th>BakingAndSpreads</th>\n",
              "      <th>OtherProducts</th>\n",
              "    </tr>\n",
              "  </thead>\n",
              "  <tbody>\n",
              "    <tr>\n",
              "      <th>Beverage</th>\n",
              "      <td>1.000000</td>\n",
              "      <td>0.020414</td>\n",
              "      <td>0.592844</td>\n",
              "      <td>0.403588</td>\n",
              "      <td>0.482955</td>\n",
              "      <td>0.474829</td>\n",
              "      <td>0.295836</td>\n",
              "    </tr>\n",
              "    <tr>\n",
              "      <th>BabyCare</th>\n",
              "      <td>0.020414</td>\n",
              "      <td>1.000000</td>\n",
              "      <td>0.051780</td>\n",
              "      <td>0.194302</td>\n",
              "      <td>0.045525</td>\n",
              "      <td>0.021776</td>\n",
              "      <td>0.002963</td>\n",
              "    </tr>\n",
              "    <tr>\n",
              "      <th>PackagedFood</th>\n",
              "      <td>0.592844</td>\n",
              "      <td>0.051780</td>\n",
              "      <td>1.000000</td>\n",
              "      <td>0.499333</td>\n",
              "      <td>0.535168</td>\n",
              "      <td>0.578004</td>\n",
              "      <td>0.202308</td>\n",
              "    </tr>\n",
              "    <tr>\n",
              "      <th>StapleGoods</th>\n",
              "      <td>0.403588</td>\n",
              "      <td>0.194302</td>\n",
              "      <td>0.499333</td>\n",
              "      <td>1.000000</td>\n",
              "      <td>0.559292</td>\n",
              "      <td>0.512963</td>\n",
              "      <td>0.154004</td>\n",
              "    </tr>\n",
              "    <tr>\n",
              "      <th>CookingEssentials</th>\n",
              "      <td>0.482955</td>\n",
              "      <td>0.045525</td>\n",
              "      <td>0.535168</td>\n",
              "      <td>0.559292</td>\n",
              "      <td>1.000000</td>\n",
              "      <td>0.725824</td>\n",
              "      <td>0.090856</td>\n",
              "    </tr>\n",
              "    <tr>\n",
              "      <th>BakingAndSpreads</th>\n",
              "      <td>0.474829</td>\n",
              "      <td>0.021776</td>\n",
              "      <td>0.578004</td>\n",
              "      <td>0.512963</td>\n",
              "      <td>0.725824</td>\n",
              "      <td>1.000000</td>\n",
              "      <td>0.151394</td>\n",
              "    </tr>\n",
              "    <tr>\n",
              "      <th>OtherProducts</th>\n",
              "      <td>0.295836</td>\n",
              "      <td>0.002963</td>\n",
              "      <td>0.202308</td>\n",
              "      <td>0.154004</td>\n",
              "      <td>0.090856</td>\n",
              "      <td>0.151394</td>\n",
              "      <td>1.000000</td>\n",
              "    </tr>\n",
              "  </tbody>\n",
              "</table>\n",
              "</div>"
            ],
            "text/plain": [
              "                   Beverage  BabyCare  ...  BakingAndSpreads  OtherProducts\n",
              "Beverage           1.000000  0.020414  ...          0.474829       0.295836\n",
              "BabyCare           0.020414  1.000000  ...          0.021776       0.002963\n",
              "PackagedFood       0.592844  0.051780  ...          0.578004       0.202308\n",
              "StapleGoods        0.403588  0.194302  ...          0.512963       0.154004\n",
              "CookingEssentials  0.482955  0.045525  ...          0.725824       0.090856\n",
              "BakingAndSpreads   0.474829  0.021776  ...          1.000000       0.151394\n",
              "OtherProducts      0.295836  0.002963  ...          0.151394       1.000000\n",
              "\n",
              "[7 rows x 7 columns]"
            ]
          },
          "metadata": {
            "tags": []
          },
          "execution_count": 25
        }
      ]
    },
    {
      "cell_type": "code",
      "metadata": {
        "id": "M_H2rIjvzu1O",
        "colab": {
          "base_uri": "https://localhost:8080/",
          "height": 338
        },
        "outputId": "8bd8c4a5-c73a-464c-ca32-3806e258132b"
      },
      "source": [
        "pip install factor_analyzer"
      ],
      "execution_count": null,
      "outputs": [
        {
          "output_type": "stream",
          "text": [
            "Collecting factor_analyzer\n",
            "\u001b[?25l  Downloading https://files.pythonhosted.org/packages/44/b5/cbd83484ca6dd4c6562c6d66a6a3a0ecf526e79b2b575b9fb4bf5ad172dd/factor_analyzer-0.3.2.tar.gz (40kB)\n",
            "\r\u001b[K     |████████▏                       | 10kB 18.7MB/s eta 0:00:01\r\u001b[K     |████████████████▍               | 20kB 1.8MB/s eta 0:00:01\r\u001b[K     |████████████████████████▌       | 30kB 2.3MB/s eta 0:00:01\r\u001b[K     |████████████████████████████████| 40kB 1.9MB/s \n",
            "\u001b[?25hRequirement already satisfied: pandas in /usr/local/lib/python3.6/dist-packages (from factor_analyzer) (1.1.2)\n",
            "Requirement already satisfied: scipy in /usr/local/lib/python3.6/dist-packages (from factor_analyzer) (1.4.1)\n",
            "Requirement already satisfied: numpy in /usr/local/lib/python3.6/dist-packages (from factor_analyzer) (1.18.5)\n",
            "Requirement already satisfied: scikit-learn in /usr/local/lib/python3.6/dist-packages (from factor_analyzer) (0.22.2.post1)\n",
            "Requirement already satisfied: pytz>=2017.2 in /usr/local/lib/python3.6/dist-packages (from pandas->factor_analyzer) (2018.9)\n",
            "Requirement already satisfied: python-dateutil>=2.7.3 in /usr/local/lib/python3.6/dist-packages (from pandas->factor_analyzer) (2.8.1)\n",
            "Requirement already satisfied: joblib>=0.11 in /usr/local/lib/python3.6/dist-packages (from scikit-learn->factor_analyzer) (0.16.0)\n",
            "Requirement already satisfied: six>=1.5 in /usr/local/lib/python3.6/dist-packages (from python-dateutil>=2.7.3->pandas->factor_analyzer) (1.15.0)\n",
            "Building wheels for collected packages: factor-analyzer\n",
            "  Building wheel for factor-analyzer (setup.py) ... \u001b[?25l\u001b[?25hdone\n",
            "  Created wheel for factor-analyzer: filename=factor_analyzer-0.3.2-cp36-none-any.whl size=40382 sha256=3a4d4fd38e1c22f3313f92dc2ce604c43d305a455c2fe5b52580b9f69d2191cc\n",
            "  Stored in directory: /root/.cache/pip/wheels/4a/d0/57/f1330cb9c80e82d8d05391c74c94ed61ce3f03bf6157f3d6db\n",
            "Successfully built factor-analyzer\n",
            "Installing collected packages: factor-analyzer\n",
            "Successfully installed factor-analyzer-0.3.2\n"
          ],
          "name": "stdout"
        }
      ]
    },
    {
      "cell_type": "code",
      "metadata": {
        "id": "Xkcwr92TzpGf"
      },
      "source": [
        "from factor_analyzer.factor_analyzer import calculate_bartlett_sphericity\n",
        "from factor_analyzer.factor_analyzer import calculate_kmo"
      ],
      "execution_count": null,
      "outputs": []
    },
    {
      "cell_type": "code",
      "metadata": {
        "id": "zLyYMNvUzIg-"
      },
      "source": [
        ""
      ],
      "execution_count": null,
      "outputs": []
    },
    {
      "cell_type": "code",
      "metadata": {
        "id": "zyWjgDfTzJQ1"
      },
      "source": [
        ""
      ],
      "execution_count": null,
      "outputs": []
    },
    {
      "cell_type": "code",
      "metadata": {
        "id": "TnWn08J4oQOf",
        "colab": {
          "base_uri": "https://localhost:8080/",
          "height": 404
        },
        "outputId": "21325ea8-0cfa-464c-a96b-c00f4f997198"
      },
      "source": [
        "transProductPerc = transSum.copy()\n",
        "transProductPerc = transProductPerc.merge(transBeverage[['Panel ID', 'Spend']], how = 'left', on = 'Panel ID')\n",
        "transProductPerc.rename(columns={'Spend_x':'Total Spend','Spend_y':'Beverage'}, inplace=True)\n",
        "transProductPerc = transProductPerc.merge(transBabyCare[['Panel ID', 'Spend']], how = 'left', on = 'Panel ID')\n",
        "transProductPerc.rename(columns={'Spend':'BabyCare'}, inplace=True)\n",
        "transProductPerc = transProductPerc.merge(transFood[['Panel ID', 'Spend']], how = 'left', on = 'Panel ID')\n",
        "transProductPerc.rename(columns={'Spend':'PackagedFood'}, inplace=True)\n",
        "transProductPerc = transProductPerc.merge(transStaple[['Panel ID', 'Spend']], how = 'left', on = 'Panel ID')\n",
        "transProductPerc.rename(columns={'Spend':'StapleGoods'}, inplace=True)\n",
        "transProductPerc = transProductPerc.merge(transCooking[['Panel ID', 'Spend']], how = 'left', on = 'Panel ID')\n",
        "transProductPerc.rename(columns={'Spend':'CookingEssentials'}, inplace=True)\n",
        "transProductPerc = transProductPerc.merge(transBaking[['Panel ID', 'Spend']], how = 'left', on = 'Panel ID')\n",
        "transProductPerc.rename(columns={'Spend':'BakingAndSpreads'}, inplace=True)\n",
        "transProductPerc = transProductPerc.merge(transOther[['Panel ID', 'Spend']], how = 'left', on = 'Panel ID')\n",
        "transProductPerc.rename(columns={'Spend':'OtherProducts'}, inplace=True)\n",
        "transProductPerc.fillna(0.0, inplace=True)\n",
        "transProductPerc"
      ],
      "execution_count": null,
      "outputs": [
        {
          "output_type": "execute_result",
          "data": {
            "text/html": [
              "<div>\n",
              "<style scoped>\n",
              "    .dataframe tbody tr th:only-of-type {\n",
              "        vertical-align: middle;\n",
              "    }\n",
              "\n",
              "    .dataframe tbody tr th {\n",
              "        vertical-align: top;\n",
              "    }\n",
              "\n",
              "    .dataframe thead th {\n",
              "        text-align: right;\n",
              "    }\n",
              "</style>\n",
              "<table border=\"1\" class=\"dataframe\">\n",
              "  <thead>\n",
              "    <tr style=\"text-align: right;\">\n",
              "      <th></th>\n",
              "      <th>Panel ID</th>\n",
              "      <th>Total Spend</th>\n",
              "      <th>Beverage</th>\n",
              "      <th>BabyCare</th>\n",
              "      <th>PackagedFood</th>\n",
              "      <th>StapleGoods</th>\n",
              "      <th>CookingEssentials</th>\n",
              "      <th>BakingAndSpreads</th>\n",
              "      <th>OtherProducts</th>\n",
              "    </tr>\n",
              "  </thead>\n",
              "  <tbody>\n",
              "    <tr>\n",
              "      <th>0</th>\n",
              "      <td>Panel 101011101</td>\n",
              "      <td>2861.1</td>\n",
              "      <td>223.9</td>\n",
              "      <td>0.0</td>\n",
              "      <td>240.3</td>\n",
              "      <td>926.2</td>\n",
              "      <td>607.5</td>\n",
              "      <td>863.2</td>\n",
              "      <td>0.0</td>\n",
              "    </tr>\n",
              "    <tr>\n",
              "      <th>1</th>\n",
              "      <td>Panel 101016101</td>\n",
              "      <td>1224.6</td>\n",
              "      <td>101.8</td>\n",
              "      <td>0.0</td>\n",
              "      <td>55.5</td>\n",
              "      <td>491.5</td>\n",
              "      <td>385.3</td>\n",
              "      <td>190.5</td>\n",
              "      <td>0.0</td>\n",
              "    </tr>\n",
              "    <tr>\n",
              "      <th>2</th>\n",
              "      <td>Panel 101019101</td>\n",
              "      <td>5212.8</td>\n",
              "      <td>1714.8</td>\n",
              "      <td>0.0</td>\n",
              "      <td>505.2</td>\n",
              "      <td>1615.1</td>\n",
              "      <td>792.6</td>\n",
              "      <td>585.1</td>\n",
              "      <td>0.0</td>\n",
              "    </tr>\n",
              "    <tr>\n",
              "      <th>3</th>\n",
              "      <td>Panel 101024101</td>\n",
              "      <td>3960.7</td>\n",
              "      <td>973.7</td>\n",
              "      <td>0.0</td>\n",
              "      <td>1824.5</td>\n",
              "      <td>649.0</td>\n",
              "      <td>308.4</td>\n",
              "      <td>205.1</td>\n",
              "      <td>0.0</td>\n",
              "    </tr>\n",
              "    <tr>\n",
              "      <th>4</th>\n",
              "      <td>Panel 105009103</td>\n",
              "      <td>3120.9</td>\n",
              "      <td>886.5</td>\n",
              "      <td>0.0</td>\n",
              "      <td>542.9</td>\n",
              "      <td>836.0</td>\n",
              "      <td>830.6</td>\n",
              "      <td>24.9</td>\n",
              "      <td>0.0</td>\n",
              "    </tr>\n",
              "    <tr>\n",
              "      <th>...</th>\n",
              "      <td>...</td>\n",
              "      <td>...</td>\n",
              "      <td>...</td>\n",
              "      <td>...</td>\n",
              "      <td>...</td>\n",
              "      <td>...</td>\n",
              "      <td>...</td>\n",
              "      <td>...</td>\n",
              "      <td>...</td>\n",
              "    </tr>\n",
              "    <tr>\n",
              "      <th>2782</th>\n",
              "      <td>Panel 801900701</td>\n",
              "      <td>213.1</td>\n",
              "      <td>37.9</td>\n",
              "      <td>0.0</td>\n",
              "      <td>28.4</td>\n",
              "      <td>92.1</td>\n",
              "      <td>53.3</td>\n",
              "      <td>1.4</td>\n",
              "      <td>0.0</td>\n",
              "    </tr>\n",
              "    <tr>\n",
              "      <th>2783</th>\n",
              "      <td>Panel 801901201</td>\n",
              "      <td>1165.0</td>\n",
              "      <td>99.8</td>\n",
              "      <td>0.0</td>\n",
              "      <td>321.3</td>\n",
              "      <td>475.0</td>\n",
              "      <td>180.1</td>\n",
              "      <td>88.8</td>\n",
              "      <td>0.0</td>\n",
              "    </tr>\n",
              "    <tr>\n",
              "      <th>2784</th>\n",
              "      <td>Panel 801903201</td>\n",
              "      <td>400.0</td>\n",
              "      <td>99.6</td>\n",
              "      <td>0.0</td>\n",
              "      <td>107.6</td>\n",
              "      <td>144.3</td>\n",
              "      <td>43.3</td>\n",
              "      <td>5.2</td>\n",
              "      <td>0.0</td>\n",
              "    </tr>\n",
              "    <tr>\n",
              "      <th>2785</th>\n",
              "      <td>Panel 801903801</td>\n",
              "      <td>278.6</td>\n",
              "      <td>74.5</td>\n",
              "      <td>0.0</td>\n",
              "      <td>129.1</td>\n",
              "      <td>43.7</td>\n",
              "      <td>24.7</td>\n",
              "      <td>6.6</td>\n",
              "      <td>0.0</td>\n",
              "    </tr>\n",
              "    <tr>\n",
              "      <th>2786</th>\n",
              "      <td>Panel 801912801</td>\n",
              "      <td>264.3</td>\n",
              "      <td>24.9</td>\n",
              "      <td>0.0</td>\n",
              "      <td>8.0</td>\n",
              "      <td>93.1</td>\n",
              "      <td>108.7</td>\n",
              "      <td>29.6</td>\n",
              "      <td>0.0</td>\n",
              "    </tr>\n",
              "  </tbody>\n",
              "</table>\n",
              "<p>2787 rows × 9 columns</p>\n",
              "</div>"
            ],
            "text/plain": [
              "             Panel ID  Total Spend  ...  BakingAndSpreads  OtherProducts\n",
              "0     Panel 101011101       2861.1  ...             863.2            0.0\n",
              "1     Panel 101016101       1224.6  ...             190.5            0.0\n",
              "2     Panel 101019101       5212.8  ...             585.1            0.0\n",
              "3     Panel 101024101       3960.7  ...             205.1            0.0\n",
              "4     Panel 105009103       3120.9  ...              24.9            0.0\n",
              "...               ...          ...  ...               ...            ...\n",
              "2782  Panel 801900701        213.1  ...               1.4            0.0\n",
              "2783  Panel 801901201       1165.0  ...              88.8            0.0\n",
              "2784  Panel 801903201        400.0  ...               5.2            0.0\n",
              "2785  Panel 801903801        278.6  ...               6.6            0.0\n",
              "2786  Panel 801912801        264.3  ...              29.6            0.0\n",
              "\n",
              "[2787 rows x 9 columns]"
            ]
          },
          "metadata": {
            "tags": []
          },
          "execution_count": 28
        }
      ]
    },
    {
      "cell_type": "code",
      "metadata": {
        "id": "WPdbeHuT7HfK"
      },
      "source": [
        "# (Unused)\n",
        "# Note: To not run more than once (to avoid changing the percentages)\n",
        "# transProductPerc['%Beverage'] = transProductPerc['%Beverage'] * 100 / transProductPerc['Total Spend']\n",
        "# transProductPerc['%BabyCare'] = transProductPerc['%BabyCare'] * 100 / transProductPerc['Total Spend']\n",
        "# transProductPerc['%StapleGoods'] = transProductPerc['%StapleGoods'] * 100 / transProductPerc['Total Spend']\n",
        "# transProductPerc['%CookingEssentials'] = transProductPerc['%CookingEssentials'] * 100 / transProductPerc['Total Spend']\n",
        "# transProductPerc['%BakingAndSpreads'] = transProductPerc['%BakingAndSpreads'] * 100 / transProductPerc['Total Spend']\n",
        "# transProductPerc['%PackagedFood'] = transProductPerc['%PackagedFood'] * 100 / transProductPerc['Total Spend']\n",
        "# transProductPerc['%OtherProducts'] = transProductPerc['%OtherProducts'] * 100 / transProductPerc['Total Spend']"
      ],
      "execution_count": null,
      "outputs": []
    },
    {
      "cell_type": "code",
      "metadata": {
        "id": "vqCuLcJ6O_Em"
      },
      "source": [
        "# transProductPerc"
      ],
      "execution_count": null,
      "outputs": []
    },
    {
      "cell_type": "markdown",
      "metadata": {
        "id": "q-RsDfJEsQEE"
      },
      "source": [
        "## K-Means Clustering on the Percentage Spend of Each Product Type\n",
        "\n",
        "Using the proportion of how much each customer spent on each Product Type, clustering similar purchase patterns into the same group might help us to understand what customers of specific demographics might want and therefore allows us to propose clear solutions for both the client's and customers' benefit, such as which product(s) to recommend to certain groups of customers.  "
      ]
    },
    {
      "cell_type": "markdown",
      "metadata": {
        "id": "ptRhKHNN2f0d"
      },
      "source": [
        "### Unscaled Data"
      ]
    },
    {
      "cell_type": "code",
      "metadata": {
        "id": "qGIWrPmR4bRh",
        "colab": {
          "base_uri": "https://localhost:8080/",
          "height": 134
        },
        "outputId": "6d3796d1-580e-4727-d6a3-f2f836969eeb"
      },
      "source": [
        "# kmeans on the absolute spending on product categories \n",
        "kmeanstransfinal = transfinal[['Beverage', 'BabyCare', 'PackagedFood', 'StapleGoods', 'CookingEssentials', 'BakingAndSpreads', 'OtherProducts']].to_numpy()\n",
        "kmeanstransfinal"
      ],
      "execution_count": null,
      "outputs": [
        {
          "output_type": "execute_result",
          "data": {
            "text/plain": [
              "array([[ 223.9,    0. ,  240.3, ...,  607.5,  863.2,    0. ],\n",
              "       [ 101.8,    0. ,   55.5, ...,  385.3,  190.5,    0. ],\n",
              "       [1714.8,    0. ,  505.2, ...,  792.6,  585.1,    0. ],\n",
              "       ...,\n",
              "       [  99.6,    0. ,  107.6, ...,   43.3,    5.2,    0. ],\n",
              "       [  74.5,    0. ,  129.1, ...,   24.7,    6.6,    0. ],\n",
              "       [  24.9,    0. ,    8. , ...,  108.7,   29.6,    0. ]])"
            ]
          },
          "metadata": {
            "tags": []
          },
          "execution_count": 31
        }
      ]
    },
    {
      "cell_type": "code",
      "metadata": {
        "id": "s9AA0bdv46HH"
      },
      "source": [
        "# kmeans on the absolute spending on product categories \n",
        "wcss = []\n",
        "max_k = 15\n",
        "kmeans_kwargs = {\"init\" : \"random\",\n",
        "                 \"n_init\" : 10,\n",
        "                 \"max_iter\" : 300,\n",
        "                 \"random_state\" : 42,}\n",
        "\n",
        "for k in range(1, max_k+1):\n",
        "    kmeans_transfinal = KMeans(n_clusters=k, **kmeans_kwargs)\n",
        "    kmeans_transfinal.fit(kmeanstransfinal)\n",
        "    wcss.append(kmeans_transfinal.inertia_)"
      ],
      "execution_count": null,
      "outputs": []
    },
    {
      "cell_type": "code",
      "metadata": {
        "id": "0p1aO1lD5Yrt",
        "colab": {
          "base_uri": "https://localhost:8080/",
          "height": 467
        },
        "outputId": "652810c8-384b-49e2-973c-5aff095b704c"
      },
      "source": [
        "sns.set(font_scale = 1)\n",
        "plt.figure(figsize=(10, 7)) \n",
        "plt.plot(range(1, max_k+1), wcss,linestyle='--', marker='o', color='b',linewidth=1)\n",
        "plt.xticks(range(1, max_k+1))\n",
        "plt.title('Scatterplot of Total WCSS vs K')\n",
        "plt.xlabel(\"Number of Clusters\")\n",
        "plt.ylabel(\"Total WCSS\")\n",
        "plt.show()"
      ],
      "execution_count": null,
      "outputs": [
        {
          "output_type": "display_data",
          "data": {
            "image/png": "[encoded data removed]",
            "text/plain": [
              "<Figure size 720x504 with 1 Axes>"
            ]
          },
          "metadata": {
            "tags": []
          }
        }
      ]
    },
    {
      "cell_type": "code",
      "metadata": {
        "id": "Ee8TcilZ5sGJ",
        "colab": {
          "base_uri": "https://localhost:8080/",
          "height": 33
        },
        "outputId": "42ec21da-dd24-45bb-a4a3-54dd0ca30d1f"
      },
      "source": [
        "k0 = KneeLocator(range(1, max_k+1), wcss, curve=\"convex\", direction=\"decreasing\")\n",
        "\n",
        "k0.elbow\n",
        "\n",
        "#To locate the elbow point of the curve using kneed package"
      ],
      "execution_count": null,
      "outputs": [
        {
          "output_type": "execute_result",
          "data": {
            "text/plain": [
              "4"
            ]
          },
          "metadata": {
            "tags": []
          },
          "execution_count": 34
        }
      ]
    },
    {
      "cell_type": "code",
      "metadata": {
        "id": "dfXi3If96O5P"
      },
      "source": [
        "# silhouette analysis on the absolute spending on product categories \n",
        "# A list holds the silhouette coefficients for each k\n",
        "silhouette_coefficients1 = []\n",
        "\n",
        "# Start at 2 clusters for silhouette coefficient\n",
        "for k in range(2, max_k):\n",
        "    kmeans = KMeans(n_clusters=k, **kmeans_kwargs)\n",
        "    kmeans.fit(kmeanstransfinal)\n",
        "    score = silhouette_score(kmeanstransfinal, kmeans.labels_,metric = 'euclidean')\n",
        "    silhouette_coefficients1.append(score)"
      ],
      "execution_count": null,
      "outputs": []
    },
    {
      "cell_type": "code",
      "metadata": {
        "id": "Ig77q0K46fRD",
        "colab": {
          "base_uri": "https://localhost:8080/",
          "height": 450
        },
        "outputId": "8f1fc310-1b03-4d3d-85d1-c134c7ead6e2"
      },
      "source": [
        "plt.figure(figsize=(10, 7)) \n",
        "plt.style.use(\"fivethirtyeight\")\n",
        "plt.plot(range(2, max_k), silhouette_coefficients1,linestyle='--', marker='o', color='b',linewidth=1)\n",
        "plt.xticks(range(2, max_k))\n",
        "plt.xlabel(\"Number of Clusters\")\n",
        "plt.ylabel(\"Average Silhouette Width\")\n",
        "plt.show()"
      ],
      "execution_count": null,
      "outputs": [
        {
          "output_type": "display_data",
          "data": {
            "image/png": "[encoded data removed]",
            "text/plain": [
              "<Figure size 720x504 with 1 Axes>"
            ]
          },
          "metadata": {
            "tags": []
          }
        }
      ]
    },
    {
      "cell_type": "markdown",
      "metadata": {
        "id": "ZWk_jjN7YOe6"
      },
      "source": [
        "### K = 2 for K-Means Clustering of Customers According to Spends of Product Types (Unscaled)"
      ]
    },
    {
      "cell_type": "code",
      "metadata": {
        "id": "6Qpe6gLz8Amw"
      },
      "source": [
        "# k = 2 on absolute spending \n",
        "kmeans_transfinal = KMeans(init=\"random\",n_clusters=2 , n_init = 10, max_iter = 300, random_state = 42)\n",
        "kmeans_transfinal.fit(kmeanstransfinal)\n",
        "clustergroups_transfinal = kmeans_transfinal.labels_ #The cluster number for each row"
      ],
      "execution_count": null,
      "outputs": []
    },
    {
      "cell_type": "code",
      "metadata": {
        "id": "weBdZet58UwH"
      },
      "source": [
        "Clustercenters_transfinal = pd.DataFrame(kmeans_transfinal.cluster_centers_) #Dataframe of cluster centers\n",
        "Clustercenters_transfinal.rename(columns={0:'Beverage', 1:'BabyCare', 2:'PackagedFood', 3:'StapleGoods', 4:'CookingEssentials', 5:'BakingAndSpreads', 6:'OtherProducts'},inplace=True)\n",
        "Clustercenters_transfinal.index.name = \"Clusters\""
      ],
      "execution_count": null,
      "outputs": []
    },
    {
      "cell_type": "code",
      "metadata": {
        "id": "Yw_gtgrQ8rGz",
        "colab": {
          "base_uri": "https://localhost:8080/",
          "height": 67
        },
        "outputId": "8b192108-507c-47d6-8078-956f45065f9d"
      },
      "source": [
        "test0 = pd.Series(clustergroups_transfinal)\n",
        "test0.value_counts()"
      ],
      "execution_count": null,
      "outputs": [
        {
          "output_type": "execute_result",
          "data": {
            "text/plain": [
              "1    2061\n",
              "0     726\n",
              "dtype: int64"
            ]
          },
          "metadata": {
            "tags": []
          },
          "execution_count": 39
        }
      ]
    },
    {
      "cell_type": "code",
      "metadata": {
        "id": "LFNwGElA9Dmi",
        "colab": {
          "base_uri": "https://localhost:8080/",
          "height": 137
        },
        "outputId": "25938a57-6a2a-4ba3-e24c-15ca0c08dd34"
      },
      "source": [
        "Clustercenters_transfinal"
      ],
      "execution_count": null,
      "outputs": [
        {
          "output_type": "execute_result",
          "data": {
            "text/html": [
              "<div>\n",
              "<style scoped>\n",
              "    .dataframe tbody tr th:only-of-type {\n",
              "        vertical-align: middle;\n",
              "    }\n",
              "\n",
              "    .dataframe tbody tr th {\n",
              "        vertical-align: top;\n",
              "    }\n",
              "\n",
              "    .dataframe thead th {\n",
              "        text-align: right;\n",
              "    }\n",
              "</style>\n",
              "<table border=\"1\" class=\"dataframe\">\n",
              "  <thead>\n",
              "    <tr style=\"text-align: right;\">\n",
              "      <th></th>\n",
              "      <th>Beverage</th>\n",
              "      <th>BabyCare</th>\n",
              "      <th>PackagedFood</th>\n",
              "      <th>StapleGoods</th>\n",
              "      <th>CookingEssentials</th>\n",
              "      <th>BakingAndSpreads</th>\n",
              "      <th>OtherProducts</th>\n",
              "    </tr>\n",
              "    <tr>\n",
              "      <th>Clusters</th>\n",
              "      <th></th>\n",
              "      <th></th>\n",
              "      <th></th>\n",
              "      <th></th>\n",
              "      <th></th>\n",
              "      <th></th>\n",
              "      <th></th>\n",
              "    </tr>\n",
              "  </thead>\n",
              "  <tbody>\n",
              "    <tr>\n",
              "      <th>0</th>\n",
              "      <td>1064.708528</td>\n",
              "      <td>93.801788</td>\n",
              "      <td>1355.949794</td>\n",
              "      <td>2320.707153</td>\n",
              "      <td>925.414443</td>\n",
              "      <td>467.166713</td>\n",
              "      <td>33.193398</td>\n",
              "    </tr>\n",
              "    <tr>\n",
              "      <th>1</th>\n",
              "      <td>303.258495</td>\n",
              "      <td>30.392136</td>\n",
              "      <td>363.780194</td>\n",
              "      <td>631.009417</td>\n",
              "      <td>319.453301</td>\n",
              "      <td>159.494854</td>\n",
              "      <td>8.070340</td>\n",
              "    </tr>\n",
              "  </tbody>\n",
              "</table>\n",
              "</div>"
            ],
            "text/plain": [
              "             Beverage   BabyCare  ...  BakingAndSpreads  OtherProducts\n",
              "Clusters                          ...                                 \n",
              "0         1064.708528  93.801788  ...        467.166713      33.193398\n",
              "1          303.258495  30.392136  ...        159.494854       8.070340\n",
              "\n",
              "[2 rows x 7 columns]"
            ]
          },
          "metadata": {
            "tags": []
          },
          "execution_count": 40
        }
      ]
    },
    {
      "cell_type": "markdown",
      "metadata": {
        "id": "TkYaGnzSYmhn"
      },
      "source": [
        "### K = 3 for K-Means Clustering of Customers According to Spends of Product Types (Unscaled)\n"
      ]
    },
    {
      "cell_type": "code",
      "metadata": {
        "id": "edqs-RY0-NPH"
      },
      "source": [
        "# k = 3 on absolute spending \n",
        "kmeans_transfinal = KMeans(init=\"random\",n_clusters=3 , n_init = 10, max_iter = 300, random_state = 42)\n",
        "kmeans_transfinal.fit(kmeanstransfinal)\n",
        "clustergroups_transfinal = kmeans_transfinal.labels_ #The cluster number for each row"
      ],
      "execution_count": null,
      "outputs": []
    },
    {
      "cell_type": "code",
      "metadata": {
        "id": "bYX_piOE-U-M"
      },
      "source": [
        "Clustercenters_transfinal = pd.DataFrame(kmeans_transfinal.cluster_centers_) #Dataframe of cluster centers\n",
        "Clustercenters_transfinal.rename(columns={0:'Beverage', 1:'BabyCare', 2:'PackagedFood', 3:'StapleGoods', 4:'CookingEssentials', 5:'BakingAndSpreads', 6:'OtherProducts'},inplace=True)\n",
        "Clustercenters_transfinal.index.name = \"Clusters\""
      ],
      "execution_count": null,
      "outputs": []
    },
    {
      "cell_type": "code",
      "metadata": {
        "id": "HfdHzRRy-ZcQ",
        "colab": {
          "base_uri": "https://localhost:8080/",
          "height": 84
        },
        "outputId": "05c56d36-17a1-4b9f-801a-83014a9c5d6e"
      },
      "source": [
        "test0 = pd.Series(clustergroups_transfinal)\n",
        "test0.value_counts()"
      ],
      "execution_count": null,
      "outputs": [
        {
          "output_type": "execute_result",
          "data": {
            "text/plain": [
              "0    1677\n",
              "2     976\n",
              "1     134\n",
              "dtype: int64"
            ]
          },
          "metadata": {
            "tags": []
          },
          "execution_count": 43
        }
      ]
    },
    {
      "cell_type": "code",
      "metadata": {
        "id": "JxO-ScRC-eL3",
        "colab": {
          "base_uri": "https://localhost:8080/",
          "height": 166
        },
        "outputId": "8e29a61e-61c0-4573-a6d4-441d8683cf74"
      },
      "source": [
        "Clustercenters_transfinal"
      ],
      "execution_count": null,
      "outputs": [
        {
          "output_type": "execute_result",
          "data": {
            "text/html": [
              "<div>\n",
              "<style scoped>\n",
              "    .dataframe tbody tr th:only-of-type {\n",
              "        vertical-align: middle;\n",
              "    }\n",
              "\n",
              "    .dataframe tbody tr th {\n",
              "        vertical-align: top;\n",
              "    }\n",
              "\n",
              "    .dataframe thead th {\n",
              "        text-align: right;\n",
              "    }\n",
              "</style>\n",
              "<table border=\"1\" class=\"dataframe\">\n",
              "  <thead>\n",
              "    <tr style=\"text-align: right;\">\n",
              "      <th></th>\n",
              "      <th>Beverage</th>\n",
              "      <th>BabyCare</th>\n",
              "      <th>PackagedFood</th>\n",
              "      <th>StapleGoods</th>\n",
              "      <th>CookingEssentials</th>\n",
              "      <th>BakingAndSpreads</th>\n",
              "      <th>OtherProducts</th>\n",
              "    </tr>\n",
              "    <tr>\n",
              "      <th>Clusters</th>\n",
              "      <th></th>\n",
              "      <th></th>\n",
              "      <th></th>\n",
              "      <th></th>\n",
              "      <th></th>\n",
              "      <th></th>\n",
              "      <th></th>\n",
              "    </tr>\n",
              "  </thead>\n",
              "  <tbody>\n",
              "    <tr>\n",
              "      <th>0</th>\n",
              "      <td>235.283831</td>\n",
              "      <td>26.557458</td>\n",
              "      <td>275.635024</td>\n",
              "      <td>491.708413</td>\n",
              "      <td>250.081384</td>\n",
              "      <td>125.455131</td>\n",
              "      <td>6.841169</td>\n",
              "    </tr>\n",
              "    <tr>\n",
              "      <th>1</th>\n",
              "      <td>1636.564925</td>\n",
              "      <td>216.853731</td>\n",
              "      <td>1742.479851</td>\n",
              "      <td>4245.622388</td>\n",
              "      <td>1193.384328</td>\n",
              "      <td>590.154478</td>\n",
              "      <td>74.520896</td>\n",
              "    </tr>\n",
              "    <tr>\n",
              "      <th>2</th>\n",
              "      <td>803.603071</td>\n",
              "      <td>58.580348</td>\n",
              "      <td>1064.182293</td>\n",
              "      <td>1631.542272</td>\n",
              "      <td>769.498669</td>\n",
              "      <td>387.764688</td>\n",
              "      <td>19.759365</td>\n",
              "    </tr>\n",
              "  </tbody>\n",
              "</table>\n",
              "</div>"
            ],
            "text/plain": [
              "             Beverage    BabyCare  ...  BakingAndSpreads  OtherProducts\n",
              "Clusters                           ...                                 \n",
              "0          235.283831   26.557458  ...        125.455131       6.841169\n",
              "1         1636.564925  216.853731  ...        590.154478      74.520896\n",
              "2          803.603071   58.580348  ...        387.764688      19.759365\n",
              "\n",
              "[3 rows x 7 columns]"
            ]
          },
          "metadata": {
            "tags": []
          },
          "execution_count": 44
        }
      ]
    },
    {
      "cell_type": "markdown",
      "metadata": {
        "id": "UcRTVgG2X9fl"
      },
      "source": [
        "### K = 4 for K-Means Clustering of Customers According to Spends of Product Types (Unscaled)"
      ]
    },
    {
      "cell_type": "code",
      "metadata": {
        "id": "YxxZcVJWAtAS"
      },
      "source": [
        "# k = 4 on absolute spending \n",
        "kmeans_transfinal = KMeans(init=\"random\",n_clusters=4 , n_init = 10, max_iter = 300, random_state = 42)\n",
        "kmeans_transfinal.fit(kmeanstransfinal)\n",
        "clustergroups_transfinal = kmeans_transfinal.labels_ #The cluster number for each row"
      ],
      "execution_count": null,
      "outputs": []
    },
    {
      "cell_type": "code",
      "metadata": {
        "id": "sNBIxuOqAzRc"
      },
      "source": [
        "Clustercenters_transfinal = pd.DataFrame(kmeans_transfinal.cluster_centers_) #Dataframe of cluster centers\n",
        "Clustercenters_transfinal.rename(columns={0:'Beverage', 1:'BabyCare', 2:'PackagedFood', 3:'StapleGoods', 4:'CookingEssentials', 5:'BakingAndSpreads', 6:'OtherProducts'},inplace=True)\n",
        "Clustercenters_transfinal.index.name = \"Clusters\""
      ],
      "execution_count": null,
      "outputs": []
    },
    {
      "cell_type": "code",
      "metadata": {
        "id": "BnLc1vaqA3DV",
        "colab": {
          "base_uri": "https://localhost:8080/",
          "height": 100
        },
        "outputId": "db5f8931-3d48-4936-9e79-f20f9fe850fc"
      },
      "source": [
        "test0 = pd.Series(clustergroups_transfinal)\n",
        "test0.value_counts()"
      ],
      "execution_count": null,
      "outputs": [
        {
          "output_type": "execute_result",
          "data": {
            "text/plain": [
              "1    1426\n",
              "0    1006\n",
              "3     268\n",
              "2      87\n",
              "dtype: int64"
            ]
          },
          "metadata": {
            "tags": []
          },
          "execution_count": 47
        }
      ]
    },
    {
      "cell_type": "code",
      "metadata": {
        "id": "3NHNYbeVA7Dt",
        "colab": {
          "base_uri": "https://localhost:8080/",
          "height": 196
        },
        "outputId": "91a3ced3-3f30-4a90-ee0a-e9859c8bcb24"
      },
      "source": [
        "Clustercenters_transfinal"
      ],
      "execution_count": null,
      "outputs": [
        {
          "output_type": "execute_result",
          "data": {
            "text/html": [
              "<div>\n",
              "<style scoped>\n",
              "    .dataframe tbody tr th:only-of-type {\n",
              "        vertical-align: middle;\n",
              "    }\n",
              "\n",
              "    .dataframe tbody tr th {\n",
              "        vertical-align: top;\n",
              "    }\n",
              "\n",
              "    .dataframe thead th {\n",
              "        text-align: right;\n",
              "    }\n",
              "</style>\n",
              "<table border=\"1\" class=\"dataframe\">\n",
              "  <thead>\n",
              "    <tr style=\"text-align: right;\">\n",
              "      <th></th>\n",
              "      <th>Beverage</th>\n",
              "      <th>BabyCare</th>\n",
              "      <th>PackagedFood</th>\n",
              "      <th>StapleGoods</th>\n",
              "      <th>CookingEssentials</th>\n",
              "      <th>BakingAndSpreads</th>\n",
              "      <th>OtherProducts</th>\n",
              "    </tr>\n",
              "    <tr>\n",
              "      <th>Clusters</th>\n",
              "      <th></th>\n",
              "      <th></th>\n",
              "      <th></th>\n",
              "      <th></th>\n",
              "      <th></th>\n",
              "      <th></th>\n",
              "      <th></th>\n",
              "    </tr>\n",
              "  </thead>\n",
              "  <tbody>\n",
              "    <tr>\n",
              "      <th>0</th>\n",
              "      <td>603.045427</td>\n",
              "      <td>61.839563</td>\n",
              "      <td>738.743340</td>\n",
              "      <td>1439.014414</td>\n",
              "      <td>651.376640</td>\n",
              "      <td>319.478231</td>\n",
              "      <td>16.025348</td>\n",
              "    </tr>\n",
              "    <tr>\n",
              "      <th>1</th>\n",
              "      <td>198.198247</td>\n",
              "      <td>24.395582</td>\n",
              "      <td>240.918794</td>\n",
              "      <td>397.456592</td>\n",
              "      <td>205.636886</td>\n",
              "      <td>103.822791</td>\n",
              "      <td>6.427209</td>\n",
              "    </tr>\n",
              "    <tr>\n",
              "      <th>2</th>\n",
              "      <td>1059.048276</td>\n",
              "      <td>215.840230</td>\n",
              "      <td>1295.216092</td>\n",
              "      <td>4953.766667</td>\n",
              "      <td>963.285057</td>\n",
              "      <td>478.045977</td>\n",
              "      <td>71.101149</td>\n",
              "    </tr>\n",
              "    <tr>\n",
              "      <th>3</th>\n",
              "      <td>1557.179104</td>\n",
              "      <td>56.063060</td>\n",
              "      <td>1999.077985</td>\n",
              "      <td>2021.023134</td>\n",
              "      <td>1113.885075</td>\n",
              "      <td>586.392537</td>\n",
              "      <td>34.641791</td>\n",
              "    </tr>\n",
              "  </tbody>\n",
              "</table>\n",
              "</div>"
            ],
            "text/plain": [
              "             Beverage    BabyCare  ...  BakingAndSpreads  OtherProducts\n",
              "Clusters                           ...                                 \n",
              "0          603.045427   61.839563  ...        319.478231      16.025348\n",
              "1          198.198247   24.395582  ...        103.822791       6.427209\n",
              "2         1059.048276  215.840230  ...        478.045977      71.101149\n",
              "3         1557.179104   56.063060  ...        586.392537      34.641791\n",
              "\n",
              "[4 rows x 7 columns]"
            ]
          },
          "metadata": {
            "tags": []
          },
          "execution_count": 48
        }
      ]
    },
    {
      "cell_type": "code",
      "metadata": {
        "id": "_0_MzemkNOK6"
      },
      "source": [
        ""
      ],
      "execution_count": null,
      "outputs": []
    },
    {
      "cell_type": "markdown",
      "metadata": {
        "id": "--NvIVc5Z-5O"
      },
      "source": [
        "### K-Means Clustering with Scaled Data"
      ]
    },
    {
      "cell_type": "code",
      "metadata": {
        "id": "0VF8DYCvIFn2"
      },
      "source": [
        "# kmeans with scaled data on absolute spending \n",
        "scaler = StandardScaler()\n",
        "kmeanstransfinal_scaled = scaler.fit_transform(kmeanstransfinal)"
      ],
      "execution_count": null,
      "outputs": []
    },
    {
      "cell_type": "code",
      "metadata": {
        "id": "gFPCL-nhIrcd",
        "colab": {
          "base_uri": "https://localhost:8080/",
          "height": 234
        },
        "outputId": "f9640724-bcbd-4b37-db08-d66073dd8e0b"
      },
      "source": [
        "kmeanstransfinal_scaled"
      ],
      "execution_count": null,
      "outputs": [
        {
          "output_type": "execute_result",
          "data": {
            "text/plain": [
              "array([[-0.39839108, -0.19298067, -0.55270428, ...,  0.27424031,\n",
              "         2.42348281, -0.17486314],\n",
              "       [-0.57337685, -0.19298067, -0.81988189, ..., -0.1945742 ,\n",
              "        -0.19145479, -0.17486314],\n",
              "       [ 1.7382697 , -0.19298067, -0.16972078, ...,  0.66477842,\n",
              "         1.34244498, -0.17486314],\n",
              "       ...,\n",
              "       [-0.57652975, -0.19298067, -0.74455747, ..., -0.9161519 ,\n",
              "        -0.91175795, -0.17486314],\n",
              "       [-0.61250143, -0.19298067, -0.71347349, ..., -0.9553956 ,\n",
              "        -0.90631583, -0.17486314],\n",
              "       [-0.68358492, -0.19298067, -0.88855579, ..., -0.77816599,\n",
              "        -0.81690961, -0.17486314]])"
            ]
          },
          "metadata": {
            "tags": []
          },
          "execution_count": 50
        }
      ]
    },
    {
      "cell_type": "code",
      "metadata": {
        "id": "bhajHDcUIwst"
      },
      "source": [
        "wcss = []\n",
        "max_k = 15\n",
        "kmeans_kwargs = {\"init\" : \"random\",\n",
        "                 \"n_init\" : 10,\n",
        "                 \"max_iter\" : 300,\n",
        "                 \"random_state\" : 42,}\n",
        "\n",
        "for k in range(1, max_k+1):\n",
        "    kmeans_transfinal_scaled = KMeans(n_clusters=k, **kmeans_kwargs)\n",
        "    kmeans_transfinal_scaled.fit(kmeanstransfinal_scaled)\n",
        "    wcss.append(kmeans_transfinal_scaled.inertia_)"
      ],
      "execution_count": null,
      "outputs": []
    },
    {
      "cell_type": "code",
      "metadata": {
        "id": "6R5--PeLJRF_",
        "colab": {
          "base_uri": "https://localhost:8080/",
          "height": 495
        },
        "outputId": "aea5b06d-a819-4f7d-ce19-ca22536bee60"
      },
      "source": [
        "sns.set(font_scale = 1)\n",
        "plt.figure(figsize=(10, 7)) \n",
        "plt.plot(range(1, max_k+1), wcss,linestyle='--', marker='o', color='b',linewidth=1)\n",
        "plt.xticks(range(1, max_k+1))\n",
        "plt.title('Scatterplot of Total WCSS vs K')\n",
        "plt.xlabel(\"Number of Clusters\")\n",
        "plt.ylabel(\"Total WCSS\")\n",
        "plt.show()"
      ],
      "execution_count": null,
      "outputs": [
        {
          "output_type": "display_data",
          "data": {
            "image/png": "[encoded data removed]",
            "text/plain": [
              "<Figure size 720x504 with 1 Axes>"
            ]
          },
          "metadata": {
            "tags": []
          }
        }
      ]
    },
    {
      "cell_type": "code",
      "metadata": {
        "id": "hF-hDknYJdHN",
        "colab": {
          "base_uri": "https://localhost:8080/",
          "height": 33
        },
        "outputId": "dfe924a4-f35e-4586-f767-2f7fef2f86b4"
      },
      "source": [
        "kl = KneeLocator(range(1, max_k+1), wcss, curve=\"convex\", direction=\"decreasing\")\n",
        "\n",
        "kl.elbow\n",
        "\n",
        "#To locate the elbow point of the curve using kneed package"
      ],
      "execution_count": null,
      "outputs": [
        {
          "output_type": "execute_result",
          "data": {
            "text/plain": [
              "5"
            ]
          },
          "metadata": {
            "tags": []
          },
          "execution_count": 53
        }
      ]
    },
    {
      "cell_type": "code",
      "metadata": {
        "id": "tF4CizY2JlvS"
      },
      "source": [
        "# A list holds the silhouette coefficients for each k\n",
        "silhouette_coefficients0 = []\n",
        "\n",
        "# Start at 2 clusters for silhouette coefficient\n",
        "for k in range(2, max_k):\n",
        "    kmeans = KMeans(n_clusters=k, **kmeans_kwargs)\n",
        "    kmeans.fit(kmeanstransfinal_scaled)\n",
        "    score = silhouette_score(kmeanstransfinal_scaled, kmeans.labels_,metric = 'euclidean')\n",
        "    silhouette_coefficients0.append(score)"
      ],
      "execution_count": null,
      "outputs": []
    },
    {
      "cell_type": "code",
      "metadata": {
        "id": "XNdbDiXWJyar",
        "colab": {
          "base_uri": "https://localhost:8080/",
          "height": 478
        },
        "outputId": "711ce9f8-04bc-44ae-92c8-1956ecbd7fbd"
      },
      "source": [
        "plt.figure(figsize=(10, 7)) \n",
        "plt.style.use(\"fivethirtyeight\")\n",
        "plt.plot(range(2, max_k), silhouette_coefficients0,linestyle='--', marker='o', color='b',linewidth=1)\n",
        "plt.xticks(range(2, max_k))\n",
        "plt.xlabel(\"Number of Clusters\")\n",
        "plt.ylabel(\"Average Silhouette Width\")\n",
        "plt.show()"
      ],
      "execution_count": null,
      "outputs": [
        {
          "output_type": "display_data",
          "data": {
            "image/png": "[encoded data removed]",
            "text/plain": [
              "<Figure size 720x504 with 1 Axes>"
            ]
          },
          "metadata": {
            "tags": []
          }
        }
      ]
    },
    {
      "cell_type": "code",
      "metadata": {
        "id": "Y-BM6eAiJ9lq"
      },
      "source": [
        "kmeans_transfinal_scaled = KMeans(init=\"random\",n_clusters=5, n_init = 10, max_iter = 300, random_state = 42)\n",
        "kmeans_transfinal_scaled.fit(kmeanstransfinal_scaled)\n",
        "clustergroups_transfinal_scaled = kmeans_transfinal_scaled.labels_ #The cluster number for each row"
      ],
      "execution_count": null,
      "outputs": []
    },
    {
      "cell_type": "code",
      "metadata": {
        "id": "tN1Qtlo_KNct"
      },
      "source": [
        "Clustercenters_transfinal_scaled = pd.DataFrame(kmeans_transfinal_scaled.cluster_centers_) #Dataframe of cluster centers\n",
        "Clustercenters_transfinal_scaled.rename(columns={0:'Beverage', 1:'BabyCare', 2:'PackagedFood', 3:'StapleGoods', 4:'CookingEssentials', 5:'BakingAndSpreads', 6:'OtherProducts'},inplace=True)\n",
        "Clustercenters_transfinal_scaled.index.name = \"Clusters\""
      ],
      "execution_count": null,
      "outputs": []
    },
    {
      "cell_type": "code",
      "metadata": {
        "id": "4HbJWSQcKZ5r",
        "colab": {
          "base_uri": "https://localhost:8080/",
          "height": 117
        },
        "outputId": "e271c0fb-c9ee-4e78-d4bc-a9384ce93331"
      },
      "source": [
        "test3 = pd.Series(clustergroups_transfinal_scaled)\n",
        "test3.value_counts()"
      ],
      "execution_count": null,
      "outputs": [
        {
          "output_type": "execute_result",
          "data": {
            "text/plain": [
              "4    1425\n",
              "1    1009\n",
              "0     284\n",
              "3      49\n",
              "2      20\n",
              "dtype: int64"
            ]
          },
          "metadata": {
            "tags": []
          },
          "execution_count": 58
        }
      ]
    },
    {
      "cell_type": "code",
      "metadata": {
        "id": "nIUE4OxgKijM",
        "colab": {
          "base_uri": "https://localhost:8080/",
          "height": 226
        },
        "outputId": "05346a4c-b9e8-454f-d294-30baefb64ada"
      },
      "source": [
        "Clustercenters_transfinal_scaled"
      ],
      "execution_count": null,
      "outputs": [
        {
          "output_type": "execute_result",
          "data": {
            "text/html": [
              "<div>\n",
              "<style scoped>\n",
              "    .dataframe tbody tr th:only-of-type {\n",
              "        vertical-align: middle;\n",
              "    }\n",
              "\n",
              "    .dataframe tbody tr th {\n",
              "        vertical-align: top;\n",
              "    }\n",
              "\n",
              "    .dataframe thead th {\n",
              "        text-align: right;\n",
              "    }\n",
              "</style>\n",
              "<table border=\"1\" class=\"dataframe\">\n",
              "  <thead>\n",
              "    <tr style=\"text-align: right;\">\n",
              "      <th></th>\n",
              "      <th>Beverage</th>\n",
              "      <th>BabyCare</th>\n",
              "      <th>PackagedFood</th>\n",
              "      <th>StapleGoods</th>\n",
              "      <th>CookingEssentials</th>\n",
              "      <th>BakingAndSpreads</th>\n",
              "      <th>OtherProducts</th>\n",
              "    </tr>\n",
              "    <tr>\n",
              "      <th>Clusters</th>\n",
              "      <th></th>\n",
              "      <th></th>\n",
              "      <th></th>\n",
              "      <th></th>\n",
              "      <th></th>\n",
              "      <th></th>\n",
              "      <th></th>\n",
              "    </tr>\n",
              "  </thead>\n",
              "  <tbody>\n",
              "    <tr>\n",
              "      <th>0</th>\n",
              "      <td>1.196391</td>\n",
              "      <td>-0.108342</td>\n",
              "      <td>1.656883</td>\n",
              "      <td>1.322567</td>\n",
              "      <td>1.708782</td>\n",
              "      <td>1.716258</td>\n",
              "      <td>0.000040</td>\n",
              "    </tr>\n",
              "    <tr>\n",
              "      <th>1</th>\n",
              "      <td>0.213659</td>\n",
              "      <td>-0.125272</td>\n",
              "      <td>0.283363</td>\n",
              "      <td>0.353187</td>\n",
              "      <td>0.341149</td>\n",
              "      <td>0.307459</td>\n",
              "      <td>0.016814</td>\n",
              "    </tr>\n",
              "    <tr>\n",
              "      <th>2</th>\n",
              "      <td>3.846339</td>\n",
              "      <td>-0.103404</td>\n",
              "      <td>2.135864</td>\n",
              "      <td>1.280971</td>\n",
              "      <td>1.353463</td>\n",
              "      <td>1.885257</td>\n",
              "      <td>8.763087</td>\n",
              "    </tr>\n",
              "    <tr>\n",
              "      <th>3</th>\n",
              "      <td>0.127853</td>\n",
              "      <td>6.452023</td>\n",
              "      <td>0.368134</td>\n",
              "      <td>1.322462</td>\n",
              "      <td>0.274830</td>\n",
              "      <td>0.150788</td>\n",
              "      <td>-0.017318</td>\n",
              "    </tr>\n",
              "    <tr>\n",
              "      <th>4</th>\n",
              "      <td>-0.448104</td>\n",
              "      <td>-0.110114</td>\n",
              "      <td>-0.573491</td>\n",
              "      <td>-0.577119</td>\n",
              "      <td>-0.610561</td>\n",
              "      <td>-0.591395</td>\n",
              "      <td>-0.134309</td>\n",
              "    </tr>\n",
              "  </tbody>\n",
              "</table>\n",
              "</div>"
            ],
            "text/plain": [
              "          Beverage  BabyCare  ...  BakingAndSpreads  OtherProducts\n",
              "Clusters                      ...                                 \n",
              "0         1.196391 -0.108342  ...          1.716258       0.000040\n",
              "1         0.213659 -0.125272  ...          0.307459       0.016814\n",
              "2         3.846339 -0.103404  ...          1.885257       8.763087\n",
              "3         0.127853  6.452023  ...          0.150788      -0.017318\n",
              "4        -0.448104 -0.110114  ...         -0.591395      -0.134309\n",
              "\n",
              "[5 rows x 7 columns]"
            ]
          },
          "metadata": {
            "tags": []
          },
          "execution_count": 59
        }
      ]
    },
    {
      "cell_type": "markdown",
      "metadata": {
        "id": "tpCqoKeTu6lU"
      },
      "source": [
        "<a id='actionable'></a>\n",
        "\n",
        "### K-Means Clustering with K=3 for Scaled Data\n"
      ]
    },
    {
      "cell_type": "code",
      "metadata": {
        "id": "raCfr9oBVFeg"
      },
      "source": [
        "kmeans_transfinal_scaled = KMeans(init=\"random\",n_clusters=3, n_init = 10, max_iter = 300, random_state = 42)\n",
        "kmeans_transfinal_scaled.fit(kmeanstransfinal_scaled)\n",
        "clustergroups_transfinal_scaled = kmeans_transfinal_scaled.labels_ #The cluster number for each row"
      ],
      "execution_count": null,
      "outputs": []
    },
    {
      "cell_type": "code",
      "metadata": {
        "id": "uvhNKjZXo0FN"
      },
      "source": [
        "Clustercenters_transfinal_scaled = pd.DataFrame(kmeans_transfinal_scaled.cluster_centers_) #Dataframe of cluster centers\n",
        "Clustercenters_transfinal_scaled.rename(columns={0:'Beverage', 1:'BabyCare', 2:'PackagedFood', 3:'StapleGoods', 4:'CookingEssentials', 5:'BakingAndSpreads', 6:'OtherProducts'},inplace=True)\n",
        "Clustercenters_transfinal_scaled.index.name = \"Clusters\""
      ],
      "execution_count": null,
      "outputs": []
    },
    {
      "cell_type": "code",
      "metadata": {
        "id": "VIsPAMg-o8U2",
        "colab": {
          "base_uri": "https://localhost:8080/",
          "height": 84
        },
        "outputId": "1417dcdd-a4e6-4c93-e464-04fd0cac061e"
      },
      "source": [
        "test3 = pd.Series(clustergroups_transfinal_scaled)\n",
        "test3.value_counts()"
      ],
      "execution_count": null,
      "outputs": [
        {
          "output_type": "execute_result",
          "data": {
            "text/plain": [
              "0    1975\n",
              "1     762\n",
              "2      50\n",
              "dtype: int64"
            ]
          },
          "metadata": {
            "tags": []
          },
          "execution_count": 62
        }
      ]
    },
    {
      "cell_type": "code",
      "metadata": {
        "id": "8ESTZduUo-I3",
        "colab": {
          "base_uri": "https://localhost:8080/",
          "height": 166
        },
        "outputId": "0687e0f3-96b9-4e91-b38a-5ed8410232c0"
      },
      "source": [
        "Clustercenters_transfinal_scaled\n",
        "\n",
        "# Cluster 0: Customers who hardly spend on any product?\n",
        "# Cluster 1: Customers who spend on Packaged Food, Cooking Essentials, Staple Goods, Beverages and Baking and Spreads. These are customers who love convenience.\n",
        "# Cluster 2: Customers who purchase mainly baby care and staple goods products from the retail outlet. Here for only basic needs."
      ],
      "execution_count": null,
      "outputs": [
        {
          "output_type": "execute_result",
          "data": {
            "text/html": [
              "<div>\n",
              "<style scoped>\n",
              "    .dataframe tbody tr th:only-of-type {\n",
              "        vertical-align: middle;\n",
              "    }\n",
              "\n",
              "    .dataframe tbody tr th {\n",
              "        vertical-align: top;\n",
              "    }\n",
              "\n",
              "    .dataframe thead th {\n",
              "        text-align: right;\n",
              "    }\n",
              "</style>\n",
              "<table border=\"1\" class=\"dataframe\">\n",
              "  <thead>\n",
              "    <tr style=\"text-align: right;\">\n",
              "      <th></th>\n",
              "      <th>Beverage</th>\n",
              "      <th>BabyCare</th>\n",
              "      <th>PackagedFood</th>\n",
              "      <th>StapleGoods</th>\n",
              "      <th>CookingEssentials</th>\n",
              "      <th>BakingAndSpreads</th>\n",
              "      <th>OtherProducts</th>\n",
              "    </tr>\n",
              "    <tr>\n",
              "      <th>Clusters</th>\n",
              "      <th></th>\n",
              "      <th></th>\n",
              "      <th></th>\n",
              "      <th></th>\n",
              "      <th></th>\n",
              "      <th></th>\n",
              "      <th></th>\n",
              "    </tr>\n",
              "  </thead>\n",
              "  <tbody>\n",
              "    <tr>\n",
              "      <th>0</th>\n",
              "      <td>-0.309772</td>\n",
              "      <td>-0.113884</td>\n",
              "      <td>-0.41123</td>\n",
              "      <td>-0.378813</td>\n",
              "      <td>-0.411797</td>\n",
              "      <td>-0.405664</td>\n",
              "      <td>-0.111915</td>\n",
              "    </tr>\n",
              "    <tr>\n",
              "      <th>1</th>\n",
              "      <td>0.793205</td>\n",
              "      <td>-0.124045</td>\n",
              "      <td>1.04037</td>\n",
              "      <td>0.895351</td>\n",
              "      <td>1.047594</td>\n",
              "      <td>1.040046</td>\n",
              "      <td>0.290883</td>\n",
              "    </tr>\n",
              "    <tr>\n",
              "      <th>2</th>\n",
              "      <td>0.125497</td>\n",
              "      <td>6.389049</td>\n",
              "      <td>0.35932</td>\n",
              "      <td>1.292491</td>\n",
              "      <td>0.271451</td>\n",
              "      <td>0.144510</td>\n",
              "      <td>-0.020469</td>\n",
              "    </tr>\n",
              "  </tbody>\n",
              "</table>\n",
              "</div>"
            ],
            "text/plain": [
              "          Beverage  BabyCare  ...  BakingAndSpreads  OtherProducts\n",
              "Clusters                      ...                                 \n",
              "0        -0.309772 -0.113884  ...         -0.405664      -0.111915\n",
              "1         0.793205 -0.124045  ...          1.040046       0.290883\n",
              "2         0.125497  6.389049  ...          0.144510      -0.020469\n",
              "\n",
              "[3 rows x 7 columns]"
            ]
          },
          "metadata": {
            "tags": []
          },
          "execution_count": 63
        }
      ]
    },
    {
      "cell_type": "markdown",
      "metadata": {
        "id": "rVUS52Hq3onj"
      },
      "source": [
        "### K-Means Clustering with K=4 for Scaled Data"
      ]
    },
    {
      "cell_type": "code",
      "metadata": {
        "id": "XVRXNRbHpbTd"
      },
      "source": [
        "kmeans_transfinal_scaled = KMeans(init=\"random\",n_clusters=4, n_init = 10, max_iter = 300, random_state = 42)\n",
        "kmeans_transfinal_scaled.fit(kmeanstransfinal_scaled)\n",
        "clustergroups_transfinal_scaled = kmeans_transfinal_scaled.labels_ #The cluster number for each row"
      ],
      "execution_count": null,
      "outputs": []
    },
    {
      "cell_type": "code",
      "metadata": {
        "id": "UWWXSFpFpfBr"
      },
      "source": [
        "Clustercenters_transfinal_scaled = pd.DataFrame(kmeans_transfinal_scaled.cluster_centers_) #Dataframe of cluster centers\n",
        "Clustercenters_transfinal_scaled.rename(columns={0:'Beverage', 1:'BabyCare', 2:'PackagedFood', 3:'StapleGoods', 4:'CookingEssentials', 5:'BakingAndSpreads', 6:'OtherProducts'},inplace=True)\n",
        "Clustercenters_transfinal_scaled.index.name = \"Clusters\""
      ],
      "execution_count": null,
      "outputs": []
    },
    {
      "cell_type": "code",
      "metadata": {
        "id": "8mNpw4hZpgVV",
        "colab": {
          "base_uri": "https://localhost:8080/",
          "height": 100
        },
        "outputId": "b49852d4-ec8b-4f1f-ca26-ba27271721a6"
      },
      "source": [
        "test3 = pd.Series(clustergroups_transfinal_scaled)\n",
        "test3.value_counts()"
      ],
      "execution_count": null,
      "outputs": [
        {
          "output_type": "execute_result",
          "data": {
            "text/plain": [
              "1    1486\n",
              "0    1019\n",
              "3     232\n",
              "2      50\n",
              "dtype: int64"
            ]
          },
          "metadata": {
            "tags": []
          },
          "execution_count": 66
        }
      ]
    },
    {
      "cell_type": "code",
      "metadata": {
        "id": "8SdKxBkfpiqw",
        "colab": {
          "base_uri": "https://localhost:8080/",
          "height": 196
        },
        "outputId": "55e174d9-53d2-4a42-db41-192f1f8a1db8"
      },
      "source": [
        "Clustercenters_transfinal_scaled\n",
        "\n",
        "# Cluster 0: Customers who spend on Packaged Food, Cooking Essentials, Staple Goods, Beverages and Baking and Spreads. These are customers who love convenience.\n",
        "# But these customers spend an average amount on these goods. \n",
        "# Cluster 1: Customers who hardly spend on any product?\n",
        "# Cluster 2: Customers who purchase mainly baby care and staple goods products from the retail outlet. Here for only basic needs.\n",
        "# Cluster 3: Customers who spend on Packaged Food, Cooking Essentials, Staple Goods, Beverages and Baking and Spreads. These are customers who love convenience.\n",
        "# But these customers spend a lot more than average on these goods. This could mean that they are best/loyal customers (or slightly above average)."
      ],
      "execution_count": null,
      "outputs": [
        {
          "output_type": "execute_result",
          "data": {
            "text/html": [
              "<div>\n",
              "<style scoped>\n",
              "    .dataframe tbody tr th:only-of-type {\n",
              "        vertical-align: middle;\n",
              "    }\n",
              "\n",
              "    .dataframe tbody tr th {\n",
              "        vertical-align: top;\n",
              "    }\n",
              "\n",
              "    .dataframe thead th {\n",
              "        text-align: right;\n",
              "    }\n",
              "</style>\n",
              "<table border=\"1\" class=\"dataframe\">\n",
              "  <thead>\n",
              "    <tr style=\"text-align: right;\">\n",
              "      <th></th>\n",
              "      <th>Beverage</th>\n",
              "      <th>BabyCare</th>\n",
              "      <th>PackagedFood</th>\n",
              "      <th>StapleGoods</th>\n",
              "      <th>CookingEssentials</th>\n",
              "      <th>BakingAndSpreads</th>\n",
              "      <th>OtherProducts</th>\n",
              "    </tr>\n",
              "    <tr>\n",
              "      <th>Clusters</th>\n",
              "      <th></th>\n",
              "      <th></th>\n",
              "      <th></th>\n",
              "      <th></th>\n",
              "      <th></th>\n",
              "      <th></th>\n",
              "      <th></th>\n",
              "    </tr>\n",
              "  </thead>\n",
              "  <tbody>\n",
              "    <tr>\n",
              "      <th>0</th>\n",
              "      <td>0.241438</td>\n",
              "      <td>-0.128215</td>\n",
              "      <td>0.355385</td>\n",
              "      <td>0.414660</td>\n",
              "      <td>0.431604</td>\n",
              "      <td>0.394496</td>\n",
              "      <td>0.035670</td>\n",
              "    </tr>\n",
              "    <tr>\n",
              "      <th>1</th>\n",
              "      <td>-0.430342</td>\n",
              "      <td>-0.109253</td>\n",
              "      <td>-0.555480</td>\n",
              "      <td>-0.555927</td>\n",
              "      <td>-0.592217</td>\n",
              "      <td>-0.574770</td>\n",
              "      <td>-0.127647</td>\n",
              "    </tr>\n",
              "    <tr>\n",
              "      <th>2</th>\n",
              "      <td>0.125497</td>\n",
              "      <td>6.389049</td>\n",
              "      <td>0.359320</td>\n",
              "      <td>1.292491</td>\n",
              "      <td>0.271451</td>\n",
              "      <td>0.144510</td>\n",
              "      <td>-0.020469</td>\n",
              "    </tr>\n",
              "    <tr>\n",
              "      <th>3</th>\n",
              "      <td>1.666021</td>\n",
              "      <td>-0.113934</td>\n",
              "      <td>1.915643</td>\n",
              "      <td>1.456784</td>\n",
              "      <td>1.834626</td>\n",
              "      <td>1.913457</td>\n",
              "      <td>0.664637</td>\n",
              "    </tr>\n",
              "  </tbody>\n",
              "</table>\n",
              "</div>"
            ],
            "text/plain": [
              "          Beverage  BabyCare  ...  BakingAndSpreads  OtherProducts\n",
              "Clusters                      ...                                 \n",
              "0         0.241438 -0.128215  ...          0.394496       0.035670\n",
              "1        -0.430342 -0.109253  ...         -0.574770      -0.127647\n",
              "2         0.125497  6.389049  ...          0.144510      -0.020469\n",
              "3         1.666021 -0.113934  ...          1.913457       0.664637\n",
              "\n",
              "[4 rows x 7 columns]"
            ]
          },
          "metadata": {
            "tags": []
          },
          "execution_count": 67
        }
      ]
    },
    {
      "cell_type": "markdown",
      "metadata": {
        "id": "M1oau7b43x1w"
      },
      "source": [
        "### K-Means Clustering with K=6 for Scaled Data"
      ]
    },
    {
      "cell_type": "code",
      "metadata": {
        "id": "ROU09kErp9p4"
      },
      "source": [
        "kmeans_transfinal_scaled = KMeans(init=\"random\",n_clusters=6, n_init = 10, max_iter = 300, random_state = 42)\n",
        "kmeans_transfinal_scaled.fit(kmeanstransfinal_scaled)\n",
        "clustergroups_transfinal_scaled = kmeans_transfinal_scaled.labels_ #The cluster number for each row"
      ],
      "execution_count": null,
      "outputs": []
    },
    {
      "cell_type": "code",
      "metadata": {
        "id": "ozWsoJxOqCef"
      },
      "source": [
        "Clustercenters_transfinal_scaled = pd.DataFrame(kmeans_transfinal_scaled.cluster_centers_) #Dataframe of cluster centers\n",
        "Clustercenters_transfinal_scaled.rename(columns={0:'Beverage', 1:'BabyCare', 2:'PackagedFood', 3:'StapleGoods', 4:'CookingEssentials', 5:'BakingAndSpreads', 6:'OtherProducts'},inplace=True)\n",
        "Clustercenters_transfinal_scaled.index.name = \"Clusters\""
      ],
      "execution_count": null,
      "outputs": []
    },
    {
      "cell_type": "code",
      "metadata": {
        "id": "bw9e3tBSqGLQ",
        "colab": {
          "base_uri": "https://localhost:8080/",
          "height": 134
        },
        "outputId": "9ee7994a-d016-4a1c-c3c8-53e9e4782f16"
      },
      "source": [
        "test3 = pd.Series(clustergroups_transfinal_scaled)\n",
        "test3.value_counts()"
      ],
      "execution_count": null,
      "outputs": [
        {
          "output_type": "execute_result",
          "data": {
            "text/plain": [
              "3    1359\n",
              "1     988\n",
              "4     337\n",
              "0      49\n",
              "2      44\n",
              "5      10\n",
              "dtype: int64"
            ]
          },
          "metadata": {
            "tags": []
          },
          "execution_count": 70
        }
      ]
    },
    {
      "cell_type": "code",
      "metadata": {
        "id": "BgGsxszVqIhM",
        "colab": {
          "base_uri": "https://localhost:8080/",
          "height": 256
        },
        "outputId": "020b5bb8-1698-4d43-891d-84ca885fb69b"
      },
      "source": [
        "Clustercenters_transfinal_scaled\n",
        "\n",
        "# Cluster 0: Customers who purchase mainly baby care and staple goods products from the retail outlet. Here for only basic needs.\n",
        "# Cluster 1: Customers who spend on Packaged Food, Cooking Essentials, Staple Goods, Beverages and Baking and Spreads. These are customers who love convenience.\n",
        "# But these customers spend an average amount on these goods. \n",
        "# Cluster 2: Customers who are here for mainly more \"exotic\" other products such as Bird Nest / Chicken Essence.\n",
        "# Cluster 3: Customers who hardly spend on any product?\n",
        "# Cluster 4: Customers who spend on Packaged Food, Cooking Essentials, Staple Goods, Beverages and Baking and Spreads. These are customers who love convenience.\n",
        "# But these customers spend slightly above average on these goods. Slightly above average tier. \n",
        "# Cluster 5: Customers who spend on Packaged Food, Cooking Essentials, Staple Goods, Beverages and Baking and Spreads.\n",
        "# But they are also willing to go out of their way to purchase Other Products as well.\n",
        "# This could mean that they are best/loyal customers."
      ],
      "execution_count": null,
      "outputs": [
        {
          "output_type": "execute_result",
          "data": {
            "text/html": [
              "<div>\n",
              "<style scoped>\n",
              "    .dataframe tbody tr th:only-of-type {\n",
              "        vertical-align: middle;\n",
              "    }\n",
              "\n",
              "    .dataframe tbody tr th {\n",
              "        vertical-align: top;\n",
              "    }\n",
              "\n",
              "    .dataframe thead th {\n",
              "        text-align: right;\n",
              "    }\n",
              "</style>\n",
              "<table border=\"1\" class=\"dataframe\">\n",
              "  <thead>\n",
              "    <tr style=\"text-align: right;\">\n",
              "      <th></th>\n",
              "      <th>Beverage</th>\n",
              "      <th>BabyCare</th>\n",
              "      <th>PackagedFood</th>\n",
              "      <th>StapleGoods</th>\n",
              "      <th>CookingEssentials</th>\n",
              "      <th>BakingAndSpreads</th>\n",
              "      <th>OtherProducts</th>\n",
              "    </tr>\n",
              "    <tr>\n",
              "      <th>Clusters</th>\n",
              "      <th></th>\n",
              "      <th></th>\n",
              "      <th></th>\n",
              "      <th></th>\n",
              "      <th></th>\n",
              "      <th></th>\n",
              "      <th></th>\n",
              "    </tr>\n",
              "  </thead>\n",
              "  <tbody>\n",
              "    <tr>\n",
              "      <th>0</th>\n",
              "      <td>0.127853</td>\n",
              "      <td>6.452023</td>\n",
              "      <td>0.368134</td>\n",
              "      <td>1.322462</td>\n",
              "      <td>0.274830</td>\n",
              "      <td>0.150788</td>\n",
              "      <td>-0.017318</td>\n",
              "    </tr>\n",
              "    <tr>\n",
              "      <th>1</th>\n",
              "      <td>0.168547</td>\n",
              "      <td>-0.124251</td>\n",
              "      <td>0.205506</td>\n",
              "      <td>0.279679</td>\n",
              "      <td>0.276480</td>\n",
              "      <td>0.242298</td>\n",
              "      <td>-0.084598</td>\n",
              "    </tr>\n",
              "    <tr>\n",
              "      <th>2</th>\n",
              "      <td>0.617907</td>\n",
              "      <td>-0.140620</td>\n",
              "      <td>0.762036</td>\n",
              "      <td>0.783751</td>\n",
              "      <td>0.168512</td>\n",
              "      <td>0.275975</td>\n",
              "      <td>5.670316</td>\n",
              "    </tr>\n",
              "    <tr>\n",
              "      <th>3</th>\n",
              "      <td>-0.463368</td>\n",
              "      <td>-0.108369</td>\n",
              "      <td>-0.591610</td>\n",
              "      <td>-0.596944</td>\n",
              "      <td>-0.635879</td>\n",
              "      <td>-0.612490</td>\n",
              "      <td>-0.136417</td>\n",
              "    </tr>\n",
              "    <tr>\n",
              "      <th>4</th>\n",
              "      <td>1.019994</td>\n",
              "      <td>-0.117977</td>\n",
              "      <td>1.496845</td>\n",
              "      <td>1.193827</td>\n",
              "      <td>1.530499</td>\n",
              "      <td>1.550233</td>\n",
              "      <td>-0.071103</td>\n",
              "    </tr>\n",
              "    <tr>\n",
              "      <th>5</th>\n",
              "      <td>8.473817</td>\n",
              "      <td>-0.013827</td>\n",
              "      <td>4.335909</td>\n",
              "      <td>3.156477</td>\n",
              "      <td>5.251270</td>\n",
              "      <td>4.931327</td>\n",
              "      <td>4.418589</td>\n",
              "    </tr>\n",
              "  </tbody>\n",
              "</table>\n",
              "</div>"
            ],
            "text/plain": [
              "          Beverage  BabyCare  ...  BakingAndSpreads  OtherProducts\n",
              "Clusters                      ...                                 \n",
              "0         0.127853  6.452023  ...          0.150788      -0.017318\n",
              "1         0.168547 -0.124251  ...          0.242298      -0.084598\n",
              "2         0.617907 -0.140620  ...          0.275975       5.670316\n",
              "3        -0.463368 -0.108369  ...         -0.612490      -0.136417\n",
              "4         1.019994 -0.117977  ...          1.550233      -0.071103\n",
              "5         8.473817 -0.013827  ...          4.931327       4.418589\n",
              "\n",
              "[6 rows x 7 columns]"
            ]
          },
          "metadata": {
            "tags": []
          },
          "execution_count": 71
        }
      ]
    },
    {
      "cell_type": "markdown",
      "metadata": {
        "id": "epbj-3gf3-rx"
      },
      "source": [
        "We ultimately decide to go with K = 5 since we can gather many insights out of these individual clusters.\n",
        "\n",
        "### K-Means Clustering with K=5 for Scaled Data (Final)"
      ]
    },
    {
      "cell_type": "code",
      "metadata": {
        "id": "g2EIcId839se"
      },
      "source": [
        "kmeans_transfinal_scaled = KMeans(init=\"random\",n_clusters=5, n_init = 10, max_iter = 300, random_state = 42)\n",
        "kmeans_transfinal_scaled.fit(kmeanstransfinal_scaled)\n",
        "clustergroups_transfinal_scaled = kmeans_transfinal_scaled.labels_ #The cluster number for each row"
      ],
      "execution_count": null,
      "outputs": []
    },
    {
      "cell_type": "code",
      "metadata": {
        "id": "sHjmTemk4P0y"
      },
      "source": [
        "Clustercenters_transfinal_scaled = pd.DataFrame(kmeans_transfinal_scaled.cluster_centers_) #Dataframe of cluster centers\n",
        "Clustercenters_transfinal_scaled.rename(columns={0:'Beverage', 1:'BabyCare', 2:'PackagedFood', 3:'StapleGoods', 4:'CookingEssentials', 5:'BakingAndSpreads', 6:'OtherProducts'},inplace=True)\n",
        "Clustercenters_transfinal_scaled.index.name = \"Clusters\""
      ],
      "execution_count": null,
      "outputs": []
    },
    {
      "cell_type": "code",
      "metadata": {
        "id": "4LJcYJxh4TpS",
        "colab": {
          "base_uri": "https://localhost:8080/",
          "height": 117
        },
        "outputId": "5ab9c619-9a6a-4c41-f303-eee0e983f43b"
      },
      "source": [
        "test3 = pd.Series(clustergroups_transfinal_scaled)\n",
        "test3.value_counts()"
      ],
      "execution_count": null,
      "outputs": [
        {
          "output_type": "execute_result",
          "data": {
            "text/plain": [
              "4    1425\n",
              "1    1009\n",
              "0     284\n",
              "3      49\n",
              "2      20\n",
              "dtype: int64"
            ]
          },
          "metadata": {
            "tags": []
          },
          "execution_count": 74
        }
      ]
    },
    {
      "cell_type": "code",
      "metadata": {
        "id": "JQ6yF3lO4WFQ",
        "colab": {
          "base_uri": "https://localhost:8080/",
          "height": 226
        },
        "outputId": "e30e060a-dfed-4269-f7e9-41f009216980"
      },
      "source": [
        "Clustercenters_transfinal_scaled"
      ],
      "execution_count": null,
      "outputs": [
        {
          "output_type": "execute_result",
          "data": {
            "text/html": [
              "<div>\n",
              "<style scoped>\n",
              "    .dataframe tbody tr th:only-of-type {\n",
              "        vertical-align: middle;\n",
              "    }\n",
              "\n",
              "    .dataframe tbody tr th {\n",
              "        vertical-align: top;\n",
              "    }\n",
              "\n",
              "    .dataframe thead th {\n",
              "        text-align: right;\n",
              "    }\n",
              "</style>\n",
              "<table border=\"1\" class=\"dataframe\">\n",
              "  <thead>\n",
              "    <tr style=\"text-align: right;\">\n",
              "      <th></th>\n",
              "      <th>Beverage</th>\n",
              "      <th>BabyCare</th>\n",
              "      <th>PackagedFood</th>\n",
              "      <th>StapleGoods</th>\n",
              "      <th>CookingEssentials</th>\n",
              "      <th>BakingAndSpreads</th>\n",
              "      <th>OtherProducts</th>\n",
              "    </tr>\n",
              "    <tr>\n",
              "      <th>Clusters</th>\n",
              "      <th></th>\n",
              "      <th></th>\n",
              "      <th></th>\n",
              "      <th></th>\n",
              "      <th></th>\n",
              "      <th></th>\n",
              "      <th></th>\n",
              "    </tr>\n",
              "  </thead>\n",
              "  <tbody>\n",
              "    <tr>\n",
              "      <th>0</th>\n",
              "      <td>1.196391</td>\n",
              "      <td>-0.108342</td>\n",
              "      <td>1.656883</td>\n",
              "      <td>1.322567</td>\n",
              "      <td>1.708782</td>\n",
              "      <td>1.716258</td>\n",
              "      <td>0.000040</td>\n",
              "    </tr>\n",
              "    <tr>\n",
              "      <th>1</th>\n",
              "      <td>0.213659</td>\n",
              "      <td>-0.125272</td>\n",
              "      <td>0.283363</td>\n",
              "      <td>0.353187</td>\n",
              "      <td>0.341149</td>\n",
              "      <td>0.307459</td>\n",
              "      <td>0.016814</td>\n",
              "    </tr>\n",
              "    <tr>\n",
              "      <th>2</th>\n",
              "      <td>3.846339</td>\n",
              "      <td>-0.103404</td>\n",
              "      <td>2.135864</td>\n",
              "      <td>1.280971</td>\n",
              "      <td>1.353463</td>\n",
              "      <td>1.885257</td>\n",
              "      <td>8.763087</td>\n",
              "    </tr>\n",
              "    <tr>\n",
              "      <th>3</th>\n",
              "      <td>0.127853</td>\n",
              "      <td>6.452023</td>\n",
              "      <td>0.368134</td>\n",
              "      <td>1.322462</td>\n",
              "      <td>0.274830</td>\n",
              "      <td>0.150788</td>\n",
              "      <td>-0.017318</td>\n",
              "    </tr>\n",
              "    <tr>\n",
              "      <th>4</th>\n",
              "      <td>-0.448104</td>\n",
              "      <td>-0.110114</td>\n",
              "      <td>-0.573491</td>\n",
              "      <td>-0.577119</td>\n",
              "      <td>-0.610561</td>\n",
              "      <td>-0.591395</td>\n",
              "      <td>-0.134309</td>\n",
              "    </tr>\n",
              "  </tbody>\n",
              "</table>\n",
              "</div>"
            ],
            "text/plain": [
              "          Beverage  BabyCare  ...  BakingAndSpreads  OtherProducts\n",
              "Clusters                      ...                                 \n",
              "0         1.196391 -0.108342  ...          1.716258       0.000040\n",
              "1         0.213659 -0.125272  ...          0.307459       0.016814\n",
              "2         3.846339 -0.103404  ...          1.885257       8.763087\n",
              "3         0.127853  6.452023  ...          0.150788      -0.017318\n",
              "4        -0.448104 -0.110114  ...         -0.591395      -0.134309\n",
              "\n",
              "[5 rows x 7 columns]"
            ]
          },
          "metadata": {
            "tags": []
          },
          "execution_count": 75
        }
      ]
    },
    {
      "cell_type": "markdown",
      "metadata": {
        "id": "4ufrlI3v6Wpa"
      },
      "source": [
        "Some initial observations:\n",
        "\n",
        "* Cluster 0: Customers who loves convenience. Spends slightly above average of what the average consumer spends.\n",
        "* Cluster 1: Similar to Cluster 0, but their spending is average.\n",
        "* Cluster 2: Spends a high amount on Other Products and Beverages. These could be customers who purchase more expensive products for special occasions.\n",
        "* Cluster 3: Customers who spend a significant amount on Baby Care Products on average.\n",
        "* Cluster 4: Customers who love convenience, but spend below average on every product type. \n",
        "\n",
        "To target Clusters 0, 1 and 4 (customers who love convenience as they buy products of almost every Product Type off the retail markets), we can consider promoting some products by giving discounts/other free products, which we would elaborate about below. \n",
        "\n",
        "Also, Cluster 2 is a really small market with an acquired taste of Beverages and Other Products. Could the products being purchased be expensive such that their average spending on these Product Types are higher than the other clusters?"
      ]
    },
    {
      "cell_type": "markdown",
      "metadata": {
        "id": "d15TKKXj4pEJ"
      },
      "source": [
        "\n",
        "## Exploratory Data Analysis with 5 Clusters"
      ]
    },
    {
      "cell_type": "code",
      "metadata": {
        "id": "DT0w9tF6Qpva",
        "colab": {
          "base_uri": "https://localhost:8080/",
          "height": 404
        },
        "outputId": "627c91a1-40e4-47af-d8da-1cce73ab4c96"
      },
      "source": [
        "# For K = 5 clusters\n",
        "\n",
        "def assign_income_cat(x):\n",
        "    if ((x == \"Income < 1500\") or (x == \"Income 1500 - 1999\")):\n",
        "        return \"Low\"\n",
        "    elif ((x == \"Income 2000 - 2999\") or (x == \"Income 3000 - 3999\") or (x == \"Income 4000 - 4999\")):\n",
        "        return \"Average\"\n",
        "    else:\n",
        "        return \"High\"\n",
        "\n",
        "def assign_HH_cat(x):\n",
        "    if (x == \"1-3 Member HH\"):\n",
        "        return \"Low\"\n",
        "    elif ((x == \"4 Member HH\") or (x == \"5 Member HH\")):\n",
        "        return \"Average\"\n",
        "    else:\n",
        "        return \"High\"\n",
        "\n",
        "demo_abs = demographics.copy()\n",
        "demo_abs = demo_abs[demo_abs['Panel ID'].isin(transactions_clean['Panel ID'])]\n",
        "demo_abs['Cluster'] = clustergroups_transfinal_scaled\n",
        "demo_abs = demo_abs.reset_index()\n",
        "demo_abs.drop('index', axis = 1, inplace=True)\n",
        "demo_abs[\"#HH\"] = demo_abs[\"#HH\"].apply(lambda x: assign_HH_cat(x)) #assign value\n",
        "demo_abs['#HH'] = pd.Categorical(demo_abs['#HH'], \n",
        "                      categories=[\"Low\", \"Average\", \"High\"],\n",
        "                      ordered=True)\n",
        "demo_abs[\"Income\"] = demo_abs[\"Income\"].apply(lambda x: assign_income_cat(x)) #assign value\n",
        "demo_abs['Income'] = pd.Categorical(demo_abs['Income'], \n",
        "                      categories=[\"Low\", \"Average\", \"High\"],\n",
        "                      ordered=True)\n",
        "\n",
        "demo_abs"
      ],
      "execution_count": null,
      "outputs": [
        {
          "output_type": "execute_result",
          "data": {
            "text/html": [
              "<div>\n",
              "<style scoped>\n",
              "    .dataframe tbody tr th:only-of-type {\n",
              "        vertical-align: middle;\n",
              "    }\n",
              "\n",
              "    .dataframe tbody tr th {\n",
              "        vertical-align: top;\n",
              "    }\n",
              "\n",
              "    .dataframe thead th {\n",
              "        text-align: right;\n",
              "    }\n",
              "</style>\n",
              "<table border=\"1\" class=\"dataframe\">\n",
              "  <thead>\n",
              "    <tr style=\"text-align: right;\">\n",
              "      <th></th>\n",
              "      <th>Panel ID</th>\n",
              "      <th>BMI</th>\n",
              "      <th>Income</th>\n",
              "      <th>Ethnicity</th>\n",
              "      <th>Lifestage</th>\n",
              "      <th>Strata</th>\n",
              "      <th>#HH</th>\n",
              "      <th>location</th>\n",
              "      <th>Cluster</th>\n",
              "    </tr>\n",
              "  </thead>\n",
              "  <tbody>\n",
              "    <tr>\n",
              "      <th>0</th>\n",
              "      <td>Panel 101011101</td>\n",
              "      <td>Obese</td>\n",
              "      <td>Low</td>\n",
              "      <td>Malay</td>\n",
              "      <td>Empty Nesters</td>\n",
              "      <td>Urban</td>\n",
              "      <td>Low</td>\n",
              "      <td>North</td>\n",
              "      <td>1</td>\n",
              "    </tr>\n",
              "    <tr>\n",
              "      <th>1</th>\n",
              "      <td>Panel 101016101</td>\n",
              "      <td>Healthy</td>\n",
              "      <td>Low</td>\n",
              "      <td>Malay</td>\n",
              "      <td>Teens Aches</td>\n",
              "      <td>Urban</td>\n",
              "      <td>Low</td>\n",
              "      <td>North</td>\n",
              "      <td>4</td>\n",
              "    </tr>\n",
              "    <tr>\n",
              "      <th>2</th>\n",
              "      <td>Panel 101019101</td>\n",
              "      <td>Obese</td>\n",
              "      <td>Low</td>\n",
              "      <td>Malay</td>\n",
              "      <td>Teens Aches</td>\n",
              "      <td>Urban</td>\n",
              "      <td>Average</td>\n",
              "      <td>North</td>\n",
              "      <td>1</td>\n",
              "    </tr>\n",
              "    <tr>\n",
              "      <th>3</th>\n",
              "      <td>Panel 101024101</td>\n",
              "      <td>Over Weight</td>\n",
              "      <td>Low</td>\n",
              "      <td>Chinese</td>\n",
              "      <td>Nesting Families</td>\n",
              "      <td>Urban</td>\n",
              "      <td>Low</td>\n",
              "      <td>North</td>\n",
              "      <td>1</td>\n",
              "    </tr>\n",
              "    <tr>\n",
              "      <th>4</th>\n",
              "      <td>Panel 105009103</td>\n",
              "      <td>Over Weight</td>\n",
              "      <td>Low</td>\n",
              "      <td>Malay</td>\n",
              "      <td>Empty Nesters</td>\n",
              "      <td>Rural</td>\n",
              "      <td>Low</td>\n",
              "      <td>North</td>\n",
              "      <td>1</td>\n",
              "    </tr>\n",
              "    <tr>\n",
              "      <th>...</th>\n",
              "      <td>...</td>\n",
              "      <td>...</td>\n",
              "      <td>...</td>\n",
              "      <td>...</td>\n",
              "      <td>...</td>\n",
              "      <td>...</td>\n",
              "      <td>...</td>\n",
              "      <td>...</td>\n",
              "      <td>...</td>\n",
              "    </tr>\n",
              "    <tr>\n",
              "      <th>2782</th>\n",
              "      <td>Panel 801900701</td>\n",
              "      <td>Healthy</td>\n",
              "      <td>High</td>\n",
              "      <td>Others</td>\n",
              "      <td>Yankys</td>\n",
              "      <td>Urban</td>\n",
              "      <td>Low</td>\n",
              "      <td>Central</td>\n",
              "      <td>4</td>\n",
              "    </tr>\n",
              "    <tr>\n",
              "      <th>2783</th>\n",
              "      <td>Panel 801901201</td>\n",
              "      <td>Over Weight</td>\n",
              "      <td>High</td>\n",
              "      <td>Malay</td>\n",
              "      <td>Teens and Toddlers</td>\n",
              "      <td>Urban</td>\n",
              "      <td>High</td>\n",
              "      <td>Central</td>\n",
              "      <td>4</td>\n",
              "    </tr>\n",
              "    <tr>\n",
              "      <th>2784</th>\n",
              "      <td>Panel 801903201</td>\n",
              "      <td>Obese</td>\n",
              "      <td>Average</td>\n",
              "      <td>Malay</td>\n",
              "      <td>Teens and Toddlers</td>\n",
              "      <td>Urban</td>\n",
              "      <td>High</td>\n",
              "      <td>Central</td>\n",
              "      <td>4</td>\n",
              "    </tr>\n",
              "    <tr>\n",
              "      <th>2785</th>\n",
              "      <td>Panel 801903801</td>\n",
              "      <td>Healthy</td>\n",
              "      <td>Low</td>\n",
              "      <td>Malay</td>\n",
              "      <td>Yankys</td>\n",
              "      <td>Urban</td>\n",
              "      <td>Low</td>\n",
              "      <td>Central</td>\n",
              "      <td>4</td>\n",
              "    </tr>\n",
              "    <tr>\n",
              "      <th>2786</th>\n",
              "      <td>Panel 801912801</td>\n",
              "      <td>Obese</td>\n",
              "      <td>Average</td>\n",
              "      <td>Malay</td>\n",
              "      <td>Teens Aches</td>\n",
              "      <td>Urban</td>\n",
              "      <td>Average</td>\n",
              "      <td>East Coast</td>\n",
              "      <td>4</td>\n",
              "    </tr>\n",
              "  </tbody>\n",
              "</table>\n",
              "<p>2787 rows × 9 columns</p>\n",
              "</div>"
            ],
            "text/plain": [
              "             Panel ID          BMI   Income  ...      #HH    location Cluster\n",
              "0     Panel 101011101        Obese      Low  ...      Low       North       1\n",
              "1     Panel 101016101      Healthy      Low  ...      Low       North       4\n",
              "2     Panel 101019101        Obese      Low  ...  Average       North       1\n",
              "3     Panel 101024101  Over Weight      Low  ...      Low       North       1\n",
              "4     Panel 105009103  Over Weight      Low  ...      Low       North       1\n",
              "...               ...          ...      ...  ...      ...         ...     ...\n",
              "2782  Panel 801900701      Healthy     High  ...      Low     Central       4\n",
              "2783  Panel 801901201  Over Weight     High  ...     High     Central       4\n",
              "2784  Panel 801903201        Obese  Average  ...     High     Central       4\n",
              "2785  Panel 801903801      Healthy      Low  ...      Low     Central       4\n",
              "2786  Panel 801912801        Obese  Average  ...  Average  East Coast       4\n",
              "\n",
              "[2787 rows x 9 columns]"
            ]
          },
          "metadata": {
            "tags": []
          },
          "execution_count": 76
        }
      ]
    },
    {
      "cell_type": "code",
      "metadata": {
        "id": "3byS-kB8ojuF"
      },
      "source": [
        "# demo_abs.groupby(['Income', '#HH', 'Cluster']).count()['Panel ID'].unstack().fillna(0)"
      ],
      "execution_count": null,
      "outputs": []
    },
    {
      "cell_type": "code",
      "metadata": {
        "id": "6nXgbrO4AUfL",
        "colab": {
          "base_uri": "https://localhost:8080/",
          "height": 77
        },
        "outputId": "28a9d1ad-fbf3-4124-8568-c1a861e92d28"
      },
      "source": [
        "nominated = ['Panel 201204101', 'Panel 205002101', 'Panel 206077101', 'Panel 207035101', 'Panel 209066101', 'Panel 209070101',\n",
        "             'Panel 211043101', 'Panel 211096101', 'Panel 214048101', 'Panel 225150101', 'Panel 240033101', 'Panel 801498301',\n",
        "             'Panel 801643401', 'Panel 801880801']\n",
        "demo_abs[demo_abs['Panel ID'] == 'Panel 214048101']"
      ],
      "execution_count": null,
      "outputs": [
        {
          "output_type": "execute_result",
          "data": {
            "text/html": [
              "<div>\n",
              "<style scoped>\n",
              "    .dataframe tbody tr th:only-of-type {\n",
              "        vertical-align: middle;\n",
              "    }\n",
              "\n",
              "    .dataframe tbody tr th {\n",
              "        vertical-align: top;\n",
              "    }\n",
              "\n",
              "    .dataframe thead th {\n",
              "        text-align: right;\n",
              "    }\n",
              "</style>\n",
              "<table border=\"1\" class=\"dataframe\">\n",
              "  <thead>\n",
              "    <tr style=\"text-align: right;\">\n",
              "      <th></th>\n",
              "      <th>Panel ID</th>\n",
              "      <th>BMI</th>\n",
              "      <th>Income</th>\n",
              "      <th>Ethnicity</th>\n",
              "      <th>Lifestage</th>\n",
              "      <th>Strata</th>\n",
              "      <th>#HH</th>\n",
              "      <th>location</th>\n",
              "      <th>Cluster</th>\n",
              "    </tr>\n",
              "  </thead>\n",
              "  <tbody>\n",
              "    <tr>\n",
              "      <th>728</th>\n",
              "      <td>Panel 214048101</td>\n",
              "      <td>Healthy</td>\n",
              "      <td>High</td>\n",
              "      <td>Malay</td>\n",
              "      <td>Teens and Toddlers</td>\n",
              "      <td>Urban</td>\n",
              "      <td>High</td>\n",
              "      <td>Central</td>\n",
              "      <td>0</td>\n",
              "    </tr>\n",
              "  </tbody>\n",
              "</table>\n",
              "</div>"
            ],
            "text/plain": [
              "            Panel ID      BMI Income Ethnicity  ... Strata   #HH location Cluster\n",
              "728  Panel 214048101  Healthy   High     Malay  ...  Urban  High  Central       0\n",
              "\n",
              "[1 rows x 9 columns]"
            ]
          },
          "metadata": {
            "tags": []
          },
          "execution_count": 78
        }
      ]
    },
    {
      "cell_type": "code",
      "metadata": {
        "id": "HtTNn2vBqlKo",
        "colab": {
          "base_uri": "https://localhost:8080/",
          "height": 166
        },
        "outputId": "5681685e-f025-46c6-c484-61a7289b9ac0"
      },
      "source": [
        "demo_abs.groupby(['#HH', 'Cluster']).count()['Panel ID'].unstack().fillna(0)"
      ],
      "execution_count": null,
      "outputs": [
        {
          "output_type": "execute_result",
          "data": {
            "text/html": [
              "<div>\n",
              "<style scoped>\n",
              "    .dataframe tbody tr th:only-of-type {\n",
              "        vertical-align: middle;\n",
              "    }\n",
              "\n",
              "    .dataframe tbody tr th {\n",
              "        vertical-align: top;\n",
              "    }\n",
              "\n",
              "    .dataframe thead th {\n",
              "        text-align: right;\n",
              "    }\n",
              "</style>\n",
              "<table border=\"1\" class=\"dataframe\">\n",
              "  <thead>\n",
              "    <tr style=\"text-align: right;\">\n",
              "      <th>Cluster</th>\n",
              "      <th>0</th>\n",
              "      <th>1</th>\n",
              "      <th>2</th>\n",
              "      <th>3</th>\n",
              "      <th>4</th>\n",
              "    </tr>\n",
              "    <tr>\n",
              "      <th>#HH</th>\n",
              "      <th></th>\n",
              "      <th></th>\n",
              "      <th></th>\n",
              "      <th></th>\n",
              "      <th></th>\n",
              "    </tr>\n",
              "  </thead>\n",
              "  <tbody>\n",
              "    <tr>\n",
              "      <th>Low</th>\n",
              "      <td>58</td>\n",
              "      <td>287</td>\n",
              "      <td>11</td>\n",
              "      <td>6</td>\n",
              "      <td>454</td>\n",
              "    </tr>\n",
              "    <tr>\n",
              "      <th>Average</th>\n",
              "      <td>126</td>\n",
              "      <td>469</td>\n",
              "      <td>8</td>\n",
              "      <td>24</td>\n",
              "      <td>612</td>\n",
              "    </tr>\n",
              "    <tr>\n",
              "      <th>High</th>\n",
              "      <td>100</td>\n",
              "      <td>253</td>\n",
              "      <td>1</td>\n",
              "      <td>19</td>\n",
              "      <td>359</td>\n",
              "    </tr>\n",
              "  </tbody>\n",
              "</table>\n",
              "</div>"
            ],
            "text/plain": [
              "Cluster    0    1   2   3    4\n",
              "#HH                           \n",
              "Low       58  287  11   6  454\n",
              "Average  126  469   8  24  612\n",
              "High     100  253   1  19  359"
            ]
          },
          "metadata": {
            "tags": []
          },
          "execution_count": 79
        }
      ]
    },
    {
      "cell_type": "code",
      "metadata": {
        "id": "9O29jIkvRGQE",
        "colab": {
          "base_uri": "https://localhost:8080/",
          "height": 166
        },
        "outputId": "10d025db-6c4a-40bc-8510-43832c27b38b"
      },
      "source": [
        "demo_abs.groupby(['Income', 'Cluster']).count()['Panel ID'].unstack().fillna(0)"
      ],
      "execution_count": null,
      "outputs": [
        {
          "output_type": "execute_result",
          "data": {
            "text/html": [
              "<div>\n",
              "<style scoped>\n",
              "    .dataframe tbody tr th:only-of-type {\n",
              "        vertical-align: middle;\n",
              "    }\n",
              "\n",
              "    .dataframe tbody tr th {\n",
              "        vertical-align: top;\n",
              "    }\n",
              "\n",
              "    .dataframe thead th {\n",
              "        text-align: right;\n",
              "    }\n",
              "</style>\n",
              "<table border=\"1\" class=\"dataframe\">\n",
              "  <thead>\n",
              "    <tr style=\"text-align: right;\">\n",
              "      <th>Cluster</th>\n",
              "      <th>0</th>\n",
              "      <th>1</th>\n",
              "      <th>2</th>\n",
              "      <th>3</th>\n",
              "      <th>4</th>\n",
              "    </tr>\n",
              "    <tr>\n",
              "      <th>Income</th>\n",
              "      <th></th>\n",
              "      <th></th>\n",
              "      <th></th>\n",
              "      <th></th>\n",
              "      <th></th>\n",
              "    </tr>\n",
              "  </thead>\n",
              "  <tbody>\n",
              "    <tr>\n",
              "      <th>Low</th>\n",
              "      <td>59</td>\n",
              "      <td>282</td>\n",
              "      <td>1</td>\n",
              "      <td>9</td>\n",
              "      <td>416</td>\n",
              "    </tr>\n",
              "    <tr>\n",
              "      <th>Average</th>\n",
              "      <td>147</td>\n",
              "      <td>462</td>\n",
              "      <td>7</td>\n",
              "      <td>21</td>\n",
              "      <td>672</td>\n",
              "    </tr>\n",
              "    <tr>\n",
              "      <th>High</th>\n",
              "      <td>78</td>\n",
              "      <td>265</td>\n",
              "      <td>12</td>\n",
              "      <td>19</td>\n",
              "      <td>337</td>\n",
              "    </tr>\n",
              "  </tbody>\n",
              "</table>\n",
              "</div>"
            ],
            "text/plain": [
              "Cluster    0    1   2   3    4\n",
              "Income                        \n",
              "Low       59  282   1   9  416\n",
              "Average  147  462   7  21  672\n",
              "High      78  265  12  19  337"
            ]
          },
          "metadata": {
            "tags": []
          },
          "execution_count": 80
        }
      ]
    },
    {
      "cell_type": "markdown",
      "metadata": {
        "id": "ocm2evux4_3a"
      },
      "source": [
        "Cluster 3 spends significantly more on Baby Care products than other clusters (though we should note that Cluster 3 is significantly smaller than other clusters).\n",
        "\n",
        "The other clusters contain a significant amount of customers who are either in Nesting Families or in families with Teens and Toddlers.\n",
        "* Cluster 0: 43.3% \n",
        "* Cluster 1: 37.0%\n",
        "* Cluster 2: 20.0%\n",
        "* Cluster 3: 93.9%\n",
        "* Cluster 4: 49.7%\n",
        "\n",
        "A sizeable proportion of customers in the biggest Clusters (0, 1 and 4) are either in Nesting Families or in families with Teens and Toddlers.\n",
        "Cluster 3 is significantly smaller than these 3 clusters. Therefore, more should be done to promote Baby Care products to these significantly bigger clusters."
      ]
    },
    {
      "cell_type": "markdown",
      "metadata": {
        "id": "81ynDZxN5cWm"
      },
      "source": [
        "Next, we take a look at Cluster 2, where the customers had spent significantly more on Other Products and Beverages than other clusters. Could it be because they had bought high-priced items such as Beer / Spirits, and Chicken Essence / Bird Nest?\n",
        "\n",
        "We can investigate this by looking at the Average Spend per Product (be it a Beverage or Other Products)."
      ]
    },
    {
      "cell_type": "code",
      "metadata": {
        "id": "RqVJ4kqWjegp",
        "colab": {
          "base_uri": "https://localhost:8080/",
          "height": 644
        },
        "outputId": "74ec4767-9c15-499d-d3a2-b370eb03efae"
      },
      "source": [
        "cluster0_IDs = demo_abs[demo_abs['Cluster'] == 0]['Panel ID']\n",
        "cluster0_spend = transactions_clean[transactions_clean['Panel ID'].isin(cluster0_IDs)].groupby('Category').sum().reset_index()\n",
        "cluster0_spend = cluster0_spend[['Category', 'Spend']].merge(categories[['Category', 'Product Type']], how = 'left', on = 'Category')\n",
        "cluster0_spend['Average Spend'] = cluster0_spend['Spend'] / cluster0_IDs.size\n",
        "#cluster0_spend[cluster0_spend['Product Type'].isin(['Staple Goods', 'Cooking Essentials'])].sort_values(by = 'Average Spend', ascending = False)\n",
        "cluster0_spend[cluster0_spend['Product Type'].isin(['Beverages', 'Other Products'])].sort_values(by = 'Average Spend', ascending = False)"
      ],
      "execution_count": null,
      "outputs": [
        {
          "output_type": "execute_result",
          "data": {
            "text/html": [
              "<div>\n",
              "<style scoped>\n",
              "    .dataframe tbody tr th:only-of-type {\n",
              "        vertical-align: middle;\n",
              "    }\n",
              "\n",
              "    .dataframe tbody tr th {\n",
              "        vertical-align: top;\n",
              "    }\n",
              "\n",
              "    .dataframe thead th {\n",
              "        text-align: right;\n",
              "    }\n",
              "</style>\n",
              "<table border=\"1\" class=\"dataframe\">\n",
              "  <thead>\n",
              "    <tr style=\"text-align: right;\">\n",
              "      <th></th>\n",
              "      <th>Category</th>\n",
              "      <th>Spend</th>\n",
              "      <th>Product Type</th>\n",
              "      <th>Average Spend</th>\n",
              "    </tr>\n",
              "  </thead>\n",
              "  <tbody>\n",
              "    <tr>\n",
              "      <th>58</th>\n",
              "      <td>Tonic Food Drink</td>\n",
              "      <td>99823.8</td>\n",
              "      <td>Beverages</td>\n",
              "      <td>351.492254</td>\n",
              "    </tr>\n",
              "    <tr>\n",
              "      <th>17</th>\n",
              "      <td>Coffee</td>\n",
              "      <td>72200.2</td>\n",
              "      <td>Beverages</td>\n",
              "      <td>254.226056</td>\n",
              "    </tr>\n",
              "    <tr>\n",
              "      <th>1</th>\n",
              "      <td>Beer</td>\n",
              "      <td>33939.2</td>\n",
              "      <td>Beverages</td>\n",
              "      <td>119.504225</td>\n",
              "    </tr>\n",
              "    <tr>\n",
              "      <th>22</th>\n",
              "      <td>Cordials</td>\n",
              "      <td>26284.2</td>\n",
              "      <td>Beverages</td>\n",
              "      <td>92.550000</td>\n",
              "    </tr>\n",
              "    <tr>\n",
              "      <th>57</th>\n",
              "      <td>Tea</td>\n",
              "      <td>26012.2</td>\n",
              "      <td>Beverages</td>\n",
              "      <td>91.592254</td>\n",
              "    </tr>\n",
              "    <tr>\n",
              "      <th>24</th>\n",
              "      <td>Cultured Milk</td>\n",
              "      <td>21743.0</td>\n",
              "      <td>Beverages</td>\n",
              "      <td>76.559859</td>\n",
              "    </tr>\n",
              "    <tr>\n",
              "      <th>7</th>\n",
              "      <td>CSD</td>\n",
              "      <td>16151.2</td>\n",
              "      <td>Beverages</td>\n",
              "      <td>56.870423</td>\n",
              "    </tr>\n",
              "    <tr>\n",
              "      <th>30</th>\n",
              "      <td>Fruit/Veg Juices</td>\n",
              "      <td>15411.9</td>\n",
              "      <td>Beverages</td>\n",
              "      <td>54.267254</td>\n",
              "    </tr>\n",
              "    <tr>\n",
              "      <th>36</th>\n",
              "      <td>Isotonic Drinks</td>\n",
              "      <td>14902.9</td>\n",
              "      <td>Beverages</td>\n",
              "      <td>52.475000</td>\n",
              "    </tr>\n",
              "    <tr>\n",
              "      <th>25</th>\n",
              "      <td>Drinking Water</td>\n",
              "      <td>10555.0</td>\n",
              "      <td>Beverages</td>\n",
              "      <td>37.165493</td>\n",
              "    </tr>\n",
              "    <tr>\n",
              "      <th>59</th>\n",
              "      <td>Wine</td>\n",
              "      <td>9828.1</td>\n",
              "      <td>Beverages</td>\n",
              "      <td>34.605986</td>\n",
              "    </tr>\n",
              "    <tr>\n",
              "      <th>60</th>\n",
              "      <td>Yoghurt Drink</td>\n",
              "      <td>7786.6</td>\n",
              "      <td>Beverages</td>\n",
              "      <td>27.417606</td>\n",
              "    </tr>\n",
              "    <tr>\n",
              "      <th>55</th>\n",
              "      <td>Spirits</td>\n",
              "      <td>6959.2</td>\n",
              "      <td>Beverages</td>\n",
              "      <td>24.504225</td>\n",
              "    </tr>\n",
              "    <tr>\n",
              "      <th>53</th>\n",
              "      <td>Soy Milk</td>\n",
              "      <td>6870.2</td>\n",
              "      <td>Beverages</td>\n",
              "      <td>24.190845</td>\n",
              "    </tr>\n",
              "    <tr>\n",
              "      <th>47</th>\n",
              "      <td>RTD Tea</td>\n",
              "      <td>6739.0</td>\n",
              "      <td>Beverages</td>\n",
              "      <td>23.728873</td>\n",
              "    </tr>\n",
              "    <tr>\n",
              "      <th>13</th>\n",
              "      <td>Chicken Essence</td>\n",
              "      <td>3454.5</td>\n",
              "      <td>Other Products</td>\n",
              "      <td>12.163732</td>\n",
              "    </tr>\n",
              "    <tr>\n",
              "      <th>46</th>\n",
              "      <td>RTD Coffee</td>\n",
              "      <td>1630.5</td>\n",
              "      <td>Beverages</td>\n",
              "      <td>5.741197</td>\n",
              "    </tr>\n",
              "    <tr>\n",
              "      <th>27</th>\n",
              "      <td>Energy Drinks</td>\n",
              "      <td>1594.2</td>\n",
              "      <td>Beverages</td>\n",
              "      <td>5.613380</td>\n",
              "    </tr>\n",
              "    <tr>\n",
              "      <th>23</th>\n",
              "      <td>Creamer</td>\n",
              "      <td>1189.3</td>\n",
              "      <td>Beverages</td>\n",
              "      <td>4.187676</td>\n",
              "    </tr>\n",
              "    <tr>\n",
              "      <th>3</th>\n",
              "      <td>Bird Nest</td>\n",
              "      <td>699.6</td>\n",
              "      <td>Other Products</td>\n",
              "      <td>2.463380</td>\n",
              "    </tr>\n",
              "  </tbody>\n",
              "</table>\n",
              "</div>"
            ],
            "text/plain": [
              "            Category    Spend    Product Type  Average Spend\n",
              "58  Tonic Food Drink  99823.8       Beverages     351.492254\n",
              "17            Coffee  72200.2       Beverages     254.226056\n",
              "1               Beer  33939.2       Beverages     119.504225\n",
              "22          Cordials  26284.2       Beverages      92.550000\n",
              "57               Tea  26012.2       Beverages      91.592254\n",
              "24     Cultured Milk  21743.0       Beverages      76.559859\n",
              "7                CSD  16151.2       Beverages      56.870423\n",
              "30  Fruit/Veg Juices  15411.9       Beverages      54.267254\n",
              "36   Isotonic Drinks  14902.9       Beverages      52.475000\n",
              "25    Drinking Water  10555.0       Beverages      37.165493\n",
              "59              Wine   9828.1       Beverages      34.605986\n",
              "60     Yoghurt Drink   7786.6       Beverages      27.417606\n",
              "55           Spirits   6959.2       Beverages      24.504225\n",
              "53          Soy Milk   6870.2       Beverages      24.190845\n",
              "47           RTD Tea   6739.0       Beverages      23.728873\n",
              "13   Chicken Essence   3454.5  Other Products      12.163732\n",
              "46        RTD Coffee   1630.5       Beverages       5.741197\n",
              "27     Energy Drinks   1594.2       Beverages       5.613380\n",
              "23           Creamer   1189.3       Beverages       4.187676\n",
              "3          Bird Nest    699.6  Other Products       2.463380"
            ]
          },
          "metadata": {
            "tags": []
          },
          "execution_count": 81
        }
      ]
    },
    {
      "cell_type": "code",
      "metadata": {
        "id": "h9KaW5EDg3HB",
        "colab": {
          "base_uri": "https://localhost:8080/",
          "height": 644
        },
        "outputId": "0e25718e-48af-4422-b4a2-16ece0c5433e"
      },
      "source": [
        "cluster1_IDs = demo_abs[demo_abs['Cluster'] == 1]['Panel ID']\n",
        "cluster1_spend = transactions_clean[transactions_clean['Panel ID'].isin(cluster1_IDs)].groupby('Category').sum().reset_index()\n",
        "cluster1_spend = cluster1_spend[['Category', 'Spend']].merge(categories[['Category', 'Product Type']], how = 'left', on = 'Category')\n",
        "cluster1_spend['Average Spend'] = cluster1_spend['Spend'] / cluster1_IDs.size\n",
        "cluster1_spend[cluster1_spend['Product Type'].isin(['Beverages', 'Other Products'])].sort_values(by = 'Average Spend', ascending = False)"
      ],
      "execution_count": null,
      "outputs": [
        {
          "output_type": "execute_result",
          "data": {
            "text/html": [
              "<div>\n",
              "<style scoped>\n",
              "    .dataframe tbody tr th:only-of-type {\n",
              "        vertical-align: middle;\n",
              "    }\n",
              "\n",
              "    .dataframe tbody tr th {\n",
              "        vertical-align: top;\n",
              "    }\n",
              "\n",
              "    .dataframe thead th {\n",
              "        text-align: right;\n",
              "    }\n",
              "</style>\n",
              "<table border=\"1\" class=\"dataframe\">\n",
              "  <thead>\n",
              "    <tr style=\"text-align: right;\">\n",
              "      <th></th>\n",
              "      <th>Category</th>\n",
              "      <th>Spend</th>\n",
              "      <th>Product Type</th>\n",
              "      <th>Average Spend</th>\n",
              "    </tr>\n",
              "  </thead>\n",
              "  <tbody>\n",
              "    <tr>\n",
              "      <th>58</th>\n",
              "      <td>Tonic Food Drink</td>\n",
              "      <td>218165.8</td>\n",
              "      <td>Beverages</td>\n",
              "      <td>216.219822</td>\n",
              "    </tr>\n",
              "    <tr>\n",
              "      <th>17</th>\n",
              "      <td>Coffee</td>\n",
              "      <td>134187.2</td>\n",
              "      <td>Beverages</td>\n",
              "      <td>132.990287</td>\n",
              "    </tr>\n",
              "    <tr>\n",
              "      <th>57</th>\n",
              "      <td>Tea</td>\n",
              "      <td>47090.7</td>\n",
              "      <td>Beverages</td>\n",
              "      <td>46.670664</td>\n",
              "    </tr>\n",
              "    <tr>\n",
              "      <th>22</th>\n",
              "      <td>Cordials</td>\n",
              "      <td>40036.6</td>\n",
              "      <td>Beverages</td>\n",
              "      <td>39.679485</td>\n",
              "    </tr>\n",
              "    <tr>\n",
              "      <th>1</th>\n",
              "      <td>Beer</td>\n",
              "      <td>37891.5</td>\n",
              "      <td>Beverages</td>\n",
              "      <td>37.553518</td>\n",
              "    </tr>\n",
              "    <tr>\n",
              "      <th>36</th>\n",
              "      <td>Isotonic Drinks</td>\n",
              "      <td>33450.6</td>\n",
              "      <td>Beverages</td>\n",
              "      <td>33.152230</td>\n",
              "    </tr>\n",
              "    <tr>\n",
              "      <th>24</th>\n",
              "      <td>Cultured Milk</td>\n",
              "      <td>31935.5</td>\n",
              "      <td>Beverages</td>\n",
              "      <td>31.650644</td>\n",
              "    </tr>\n",
              "    <tr>\n",
              "      <th>30</th>\n",
              "      <td>Fruit/Veg Juices</td>\n",
              "      <td>25939.1</td>\n",
              "      <td>Beverages</td>\n",
              "      <td>25.707730</td>\n",
              "    </tr>\n",
              "    <tr>\n",
              "      <th>7</th>\n",
              "      <td>CSD</td>\n",
              "      <td>22477.4</td>\n",
              "      <td>Beverages</td>\n",
              "      <td>22.276908</td>\n",
              "    </tr>\n",
              "    <tr>\n",
              "      <th>25</th>\n",
              "      <td>Drinking Water</td>\n",
              "      <td>13916.7</td>\n",
              "      <td>Beverages</td>\n",
              "      <td>13.792567</td>\n",
              "    </tr>\n",
              "    <tr>\n",
              "      <th>60</th>\n",
              "      <td>Yoghurt Drink</td>\n",
              "      <td>13093.1</td>\n",
              "      <td>Beverages</td>\n",
              "      <td>12.976313</td>\n",
              "    </tr>\n",
              "    <tr>\n",
              "      <th>13</th>\n",
              "      <td>Chicken Essence</td>\n",
              "      <td>12434.2</td>\n",
              "      <td>Other Products</td>\n",
              "      <td>12.323290</td>\n",
              "    </tr>\n",
              "    <tr>\n",
              "      <th>47</th>\n",
              "      <td>RTD Tea</td>\n",
              "      <td>11630.4</td>\n",
              "      <td>Beverages</td>\n",
              "      <td>11.526660</td>\n",
              "    </tr>\n",
              "    <tr>\n",
              "      <th>53</th>\n",
              "      <td>Soy Milk</td>\n",
              "      <td>11596.3</td>\n",
              "      <td>Beverages</td>\n",
              "      <td>11.492864</td>\n",
              "    </tr>\n",
              "    <tr>\n",
              "      <th>55</th>\n",
              "      <td>Spirits</td>\n",
              "      <td>4044.0</td>\n",
              "      <td>Beverages</td>\n",
              "      <td>4.007929</td>\n",
              "    </tr>\n",
              "    <tr>\n",
              "      <th>3</th>\n",
              "      <td>Bird Nest</td>\n",
              "      <td>3740.0</td>\n",
              "      <td>Other Products</td>\n",
              "      <td>3.706640</td>\n",
              "    </tr>\n",
              "    <tr>\n",
              "      <th>46</th>\n",
              "      <td>RTD Coffee</td>\n",
              "      <td>3483.3</td>\n",
              "      <td>Beverages</td>\n",
              "      <td>3.452230</td>\n",
              "    </tr>\n",
              "    <tr>\n",
              "      <th>59</th>\n",
              "      <td>Wine</td>\n",
              "      <td>3343.9</td>\n",
              "      <td>Beverages</td>\n",
              "      <td>3.314073</td>\n",
              "    </tr>\n",
              "    <tr>\n",
              "      <th>27</th>\n",
              "      <td>Energy Drinks</td>\n",
              "      <td>2549.9</td>\n",
              "      <td>Beverages</td>\n",
              "      <td>2.527156</td>\n",
              "    </tr>\n",
              "    <tr>\n",
              "      <th>23</th>\n",
              "      <td>Creamer</td>\n",
              "      <td>1997.4</td>\n",
              "      <td>Beverages</td>\n",
              "      <td>1.979584</td>\n",
              "    </tr>\n",
              "  </tbody>\n",
              "</table>\n",
              "</div>"
            ],
            "text/plain": [
              "            Category     Spend    Product Type  Average Spend\n",
              "58  Tonic Food Drink  218165.8       Beverages     216.219822\n",
              "17            Coffee  134187.2       Beverages     132.990287\n",
              "57               Tea   47090.7       Beverages      46.670664\n",
              "22          Cordials   40036.6       Beverages      39.679485\n",
              "1               Beer   37891.5       Beverages      37.553518\n",
              "36   Isotonic Drinks   33450.6       Beverages      33.152230\n",
              "24     Cultured Milk   31935.5       Beverages      31.650644\n",
              "30  Fruit/Veg Juices   25939.1       Beverages      25.707730\n",
              "7                CSD   22477.4       Beverages      22.276908\n",
              "25    Drinking Water   13916.7       Beverages      13.792567\n",
              "60     Yoghurt Drink   13093.1       Beverages      12.976313\n",
              "13   Chicken Essence   12434.2  Other Products      12.323290\n",
              "47           RTD Tea   11630.4       Beverages      11.526660\n",
              "53          Soy Milk   11596.3       Beverages      11.492864\n",
              "55           Spirits    4044.0       Beverages       4.007929\n",
              "3          Bird Nest    3740.0  Other Products       3.706640\n",
              "46        RTD Coffee    3483.3       Beverages       3.452230\n",
              "59              Wine    3343.9       Beverages       3.314073\n",
              "27     Energy Drinks    2549.9       Beverages       2.527156\n",
              "23           Creamer    1997.4       Beverages       1.979584"
            ]
          },
          "metadata": {
            "tags": []
          },
          "execution_count": 82
        }
      ]
    },
    {
      "cell_type": "code",
      "metadata": {
        "id": "qbk49a1xe9Qu",
        "colab": {
          "base_uri": "https://localhost:8080/",
          "height": 644
        },
        "outputId": "0bba6ad1-4244-470a-8f28-07cc48e0f23b"
      },
      "source": [
        "cluster2_IDs = demo_abs[demo_abs['Cluster'] == 2]['Panel ID']\n",
        "cluster2_spend = transactions_clean[transactions_clean['Panel ID'].isin(cluster2_IDs)].groupby('Category').sum().reset_index()\n",
        "cluster2_spend = cluster2_spend[['Category', 'Spend']].merge(categories[['Category', 'Product Type']], how = 'left', on = 'Category')\n",
        "cluster2_spend['Average Spend'] = cluster2_spend['Spend'] / cluster2_IDs.size\n",
        "cluster2_spend[cluster2_spend['Product Type'].isin(['Beverages', 'Other Products'])].sort_values(by = 'Average Spend', ascending = False)"
      ],
      "execution_count": null,
      "outputs": [
        {
          "output_type": "execute_result",
          "data": {
            "text/html": [
              "<div>\n",
              "<style scoped>\n",
              "    .dataframe tbody tr th:only-of-type {\n",
              "        vertical-align: middle;\n",
              "    }\n",
              "\n",
              "    .dataframe tbody tr th {\n",
              "        vertical-align: top;\n",
              "    }\n",
              "\n",
              "    .dataframe thead th {\n",
              "        text-align: right;\n",
              "    }\n",
              "</style>\n",
              "<table border=\"1\" class=\"dataframe\">\n",
              "  <thead>\n",
              "    <tr style=\"text-align: right;\">\n",
              "      <th></th>\n",
              "      <th>Category</th>\n",
              "      <th>Spend</th>\n",
              "      <th>Product Type</th>\n",
              "      <th>Average Spend</th>\n",
              "    </tr>\n",
              "  </thead>\n",
              "  <tbody>\n",
              "    <tr>\n",
              "      <th>1</th>\n",
              "      <td>Beer</td>\n",
              "      <td>20588.6</td>\n",
              "      <td>Beverages</td>\n",
              "      <td>1029.430</td>\n",
              "    </tr>\n",
              "    <tr>\n",
              "      <th>55</th>\n",
              "      <td>Spirits</td>\n",
              "      <td>11330.2</td>\n",
              "      <td>Beverages</td>\n",
              "      <td>566.510</td>\n",
              "    </tr>\n",
              "    <tr>\n",
              "      <th>13</th>\n",
              "      <td>Chicken Essence</td>\n",
              "      <td>8719.8</td>\n",
              "      <td>Other Products</td>\n",
              "      <td>435.990</td>\n",
              "    </tr>\n",
              "    <tr>\n",
              "      <th>17</th>\n",
              "      <td>Coffee</td>\n",
              "      <td>7289.3</td>\n",
              "      <td>Beverages</td>\n",
              "      <td>364.465</td>\n",
              "    </tr>\n",
              "    <tr>\n",
              "      <th>3</th>\n",
              "      <td>Bird Nest</td>\n",
              "      <td>6229.8</td>\n",
              "      <td>Other Products</td>\n",
              "      <td>311.490</td>\n",
              "    </tr>\n",
              "    <tr>\n",
              "      <th>58</th>\n",
              "      <td>Tonic Food Drink</td>\n",
              "      <td>5879.1</td>\n",
              "      <td>Beverages</td>\n",
              "      <td>293.955</td>\n",
              "    </tr>\n",
              "    <tr>\n",
              "      <th>59</th>\n",
              "      <td>Wine</td>\n",
              "      <td>2647.3</td>\n",
              "      <td>Beverages</td>\n",
              "      <td>132.365</td>\n",
              "    </tr>\n",
              "    <tr>\n",
              "      <th>36</th>\n",
              "      <td>Isotonic Drinks</td>\n",
              "      <td>2562.0</td>\n",
              "      <td>Beverages</td>\n",
              "      <td>128.100</td>\n",
              "    </tr>\n",
              "    <tr>\n",
              "      <th>57</th>\n",
              "      <td>Tea</td>\n",
              "      <td>2365.5</td>\n",
              "      <td>Beverages</td>\n",
              "      <td>118.275</td>\n",
              "    </tr>\n",
              "    <tr>\n",
              "      <th>30</th>\n",
              "      <td>Fruit/Veg Juices</td>\n",
              "      <td>2249.3</td>\n",
              "      <td>Beverages</td>\n",
              "      <td>112.465</td>\n",
              "    </tr>\n",
              "    <tr>\n",
              "      <th>22</th>\n",
              "      <td>Cordials</td>\n",
              "      <td>2091.7</td>\n",
              "      <td>Beverages</td>\n",
              "      <td>104.585</td>\n",
              "    </tr>\n",
              "    <tr>\n",
              "      <th>24</th>\n",
              "      <td>Cultured Milk</td>\n",
              "      <td>1423.4</td>\n",
              "      <td>Beverages</td>\n",
              "      <td>71.170</td>\n",
              "    </tr>\n",
              "    <tr>\n",
              "      <th>7</th>\n",
              "      <td>CSD</td>\n",
              "      <td>1250.6</td>\n",
              "      <td>Beverages</td>\n",
              "      <td>62.530</td>\n",
              "    </tr>\n",
              "    <tr>\n",
              "      <th>60</th>\n",
              "      <td>Yoghurt Drink</td>\n",
              "      <td>1085.1</td>\n",
              "      <td>Beverages</td>\n",
              "      <td>54.255</td>\n",
              "    </tr>\n",
              "    <tr>\n",
              "      <th>47</th>\n",
              "      <td>RTD Tea</td>\n",
              "      <td>763.5</td>\n",
              "      <td>Beverages</td>\n",
              "      <td>38.175</td>\n",
              "    </tr>\n",
              "    <tr>\n",
              "      <th>46</th>\n",
              "      <td>RTD Coffee</td>\n",
              "      <td>740.1</td>\n",
              "      <td>Beverages</td>\n",
              "      <td>37.005</td>\n",
              "    </tr>\n",
              "    <tr>\n",
              "      <th>25</th>\n",
              "      <td>Drinking Water</td>\n",
              "      <td>588.1</td>\n",
              "      <td>Beverages</td>\n",
              "      <td>29.405</td>\n",
              "    </tr>\n",
              "    <tr>\n",
              "      <th>53</th>\n",
              "      <td>Soy Milk</td>\n",
              "      <td>553.2</td>\n",
              "      <td>Beverages</td>\n",
              "      <td>27.660</td>\n",
              "    </tr>\n",
              "    <tr>\n",
              "      <th>23</th>\n",
              "      <td>Creamer</td>\n",
              "      <td>183.8</td>\n",
              "      <td>Beverages</td>\n",
              "      <td>9.190</td>\n",
              "    </tr>\n",
              "    <tr>\n",
              "      <th>27</th>\n",
              "      <td>Energy Drinks</td>\n",
              "      <td>124.2</td>\n",
              "      <td>Beverages</td>\n",
              "      <td>6.210</td>\n",
              "    </tr>\n",
              "  </tbody>\n",
              "</table>\n",
              "</div>"
            ],
            "text/plain": [
              "            Category    Spend    Product Type  Average Spend\n",
              "1               Beer  20588.6       Beverages       1029.430\n",
              "55           Spirits  11330.2       Beverages        566.510\n",
              "13   Chicken Essence   8719.8  Other Products        435.990\n",
              "17            Coffee   7289.3       Beverages        364.465\n",
              "3          Bird Nest   6229.8  Other Products        311.490\n",
              "58  Tonic Food Drink   5879.1       Beverages        293.955\n",
              "59              Wine   2647.3       Beverages        132.365\n",
              "36   Isotonic Drinks   2562.0       Beverages        128.100\n",
              "57               Tea   2365.5       Beverages        118.275\n",
              "30  Fruit/Veg Juices   2249.3       Beverages        112.465\n",
              "22          Cordials   2091.7       Beverages        104.585\n",
              "24     Cultured Milk   1423.4       Beverages         71.170\n",
              "7                CSD   1250.6       Beverages         62.530\n",
              "60     Yoghurt Drink   1085.1       Beverages         54.255\n",
              "47           RTD Tea    763.5       Beverages         38.175\n",
              "46        RTD Coffee    740.1       Beverages         37.005\n",
              "25    Drinking Water    588.1       Beverages         29.405\n",
              "53          Soy Milk    553.2       Beverages         27.660\n",
              "23           Creamer    183.8       Beverages          9.190\n",
              "27     Energy Drinks    124.2       Beverages          6.210"
            ]
          },
          "metadata": {
            "tags": []
          },
          "execution_count": 83
        }
      ]
    },
    {
      "cell_type": "code",
      "metadata": {
        "id": "kZe33mwBkqHZ",
        "colab": {
          "base_uri": "https://localhost:8080/",
          "height": 584
        },
        "outputId": "56f2d7a7-52ea-43b5-d035-9a99b7ba3186"
      },
      "source": [
        "cluster3_IDs = demo_abs[demo_abs['Cluster'] == 3]['Panel ID']\n",
        "cluster3_spend = transactions_clean[transactions_clean['Panel ID'].isin(cluster3_IDs)].groupby('Category').sum().reset_index()\n",
        "cluster3_spend = cluster3_spend[['Category', 'Spend']].merge(categories[['Category', 'Product Type']], how = 'left', on = 'Category')\n",
        "cluster3_spend['Average Spend'] = cluster3_spend['Spend'] / cluster3_IDs.size\n",
        "cluster3_spend[cluster3_spend['Product Type'].isin(['Beverages', 'Other Products'])].sort_values(by = 'Average Spend', ascending = False)"
      ],
      "execution_count": null,
      "outputs": [
        {
          "output_type": "execute_result",
          "data": {
            "text/html": [
              "<div>\n",
              "<style scoped>\n",
              "    .dataframe tbody tr th:only-of-type {\n",
              "        vertical-align: middle;\n",
              "    }\n",
              "\n",
              "    .dataframe tbody tr th {\n",
              "        vertical-align: top;\n",
              "    }\n",
              "\n",
              "    .dataframe thead th {\n",
              "        text-align: right;\n",
              "    }\n",
              "</style>\n",
              "<table border=\"1\" class=\"dataframe\">\n",
              "  <thead>\n",
              "    <tr style=\"text-align: right;\">\n",
              "      <th></th>\n",
              "      <th>Category</th>\n",
              "      <th>Spend</th>\n",
              "      <th>Product Type</th>\n",
              "      <th>Average Spend</th>\n",
              "    </tr>\n",
              "  </thead>\n",
              "  <tbody>\n",
              "    <tr>\n",
              "      <th>56</th>\n",
              "      <td>Tonic Food Drink</td>\n",
              "      <td>9711.0</td>\n",
              "      <td>Beverages</td>\n",
              "      <td>198.183673</td>\n",
              "    </tr>\n",
              "    <tr>\n",
              "      <th>16</th>\n",
              "      <td>Coffee</td>\n",
              "      <td>4352.3</td>\n",
              "      <td>Beverages</td>\n",
              "      <td>88.822449</td>\n",
              "    </tr>\n",
              "    <tr>\n",
              "      <th>23</th>\n",
              "      <td>Cultured Milk</td>\n",
              "      <td>2505.7</td>\n",
              "      <td>Beverages</td>\n",
              "      <td>51.136735</td>\n",
              "    </tr>\n",
              "    <tr>\n",
              "      <th>21</th>\n",
              "      <td>Cordials</td>\n",
              "      <td>2396.5</td>\n",
              "      <td>Beverages</td>\n",
              "      <td>48.908163</td>\n",
              "    </tr>\n",
              "    <tr>\n",
              "      <th>55</th>\n",
              "      <td>Tea</td>\n",
              "      <td>2233.2</td>\n",
              "      <td>Beverages</td>\n",
              "      <td>45.575510</td>\n",
              "    </tr>\n",
              "    <tr>\n",
              "      <th>29</th>\n",
              "      <td>Fruit/Veg Juices</td>\n",
              "      <td>1412.4</td>\n",
              "      <td>Beverages</td>\n",
              "      <td>28.824490</td>\n",
              "    </tr>\n",
              "    <tr>\n",
              "      <th>6</th>\n",
              "      <td>CSD</td>\n",
              "      <td>1100.7</td>\n",
              "      <td>Beverages</td>\n",
              "      <td>22.463265</td>\n",
              "    </tr>\n",
              "    <tr>\n",
              "      <th>35</th>\n",
              "      <td>Isotonic Drinks</td>\n",
              "      <td>1021.2</td>\n",
              "      <td>Beverages</td>\n",
              "      <td>20.840816</td>\n",
              "    </tr>\n",
              "    <tr>\n",
              "      <th>52</th>\n",
              "      <td>Soy Milk</td>\n",
              "      <td>803.4</td>\n",
              "      <td>Beverages</td>\n",
              "      <td>16.395918</td>\n",
              "    </tr>\n",
              "    <tr>\n",
              "      <th>58</th>\n",
              "      <td>Yoghurt Drink</td>\n",
              "      <td>775.3</td>\n",
              "      <td>Beverages</td>\n",
              "      <td>15.822449</td>\n",
              "    </tr>\n",
              "    <tr>\n",
              "      <th>1</th>\n",
              "      <td>Beer</td>\n",
              "      <td>708.9</td>\n",
              "      <td>Beverages</td>\n",
              "      <td>14.467347</td>\n",
              "    </tr>\n",
              "    <tr>\n",
              "      <th>24</th>\n",
              "      <td>Drinking Water</td>\n",
              "      <td>681.7</td>\n",
              "      <td>Beverages</td>\n",
              "      <td>13.912245</td>\n",
              "    </tr>\n",
              "    <tr>\n",
              "      <th>12</th>\n",
              "      <td>Chicken Essence</td>\n",
              "      <td>645.6</td>\n",
              "      <td>Other Products</td>\n",
              "      <td>13.175510</td>\n",
              "    </tr>\n",
              "    <tr>\n",
              "      <th>46</th>\n",
              "      <td>RTD Tea</td>\n",
              "      <td>504.4</td>\n",
              "      <td>Beverages</td>\n",
              "      <td>10.293878</td>\n",
              "    </tr>\n",
              "    <tr>\n",
              "      <th>57</th>\n",
              "      <td>Wine</td>\n",
              "      <td>477.7</td>\n",
              "      <td>Beverages</td>\n",
              "      <td>9.748980</td>\n",
              "    </tr>\n",
              "    <tr>\n",
              "      <th>45</th>\n",
              "      <td>RTD Coffee</td>\n",
              "      <td>134.5</td>\n",
              "      <td>Beverages</td>\n",
              "      <td>2.744898</td>\n",
              "    </tr>\n",
              "    <tr>\n",
              "      <th>22</th>\n",
              "      <td>Creamer</td>\n",
              "      <td>126.4</td>\n",
              "      <td>Beverages</td>\n",
              "      <td>2.579592</td>\n",
              "    </tr>\n",
              "    <tr>\n",
              "      <th>26</th>\n",
              "      <td>Energy Drinks</td>\n",
              "      <td>18.5</td>\n",
              "      <td>Beverages</td>\n",
              "      <td>0.377551</td>\n",
              "    </tr>\n",
              "  </tbody>\n",
              "</table>\n",
              "</div>"
            ],
            "text/plain": [
              "            Category   Spend    Product Type  Average Spend\n",
              "56  Tonic Food Drink  9711.0       Beverages     198.183673\n",
              "16            Coffee  4352.3       Beverages      88.822449\n",
              "23     Cultured Milk  2505.7       Beverages      51.136735\n",
              "21          Cordials  2396.5       Beverages      48.908163\n",
              "55               Tea  2233.2       Beverages      45.575510\n",
              "29  Fruit/Veg Juices  1412.4       Beverages      28.824490\n",
              "6                CSD  1100.7       Beverages      22.463265\n",
              "35   Isotonic Drinks  1021.2       Beverages      20.840816\n",
              "52          Soy Milk   803.4       Beverages      16.395918\n",
              "58     Yoghurt Drink   775.3       Beverages      15.822449\n",
              "1               Beer   708.9       Beverages      14.467347\n",
              "24    Drinking Water   681.7       Beverages      13.912245\n",
              "12   Chicken Essence   645.6  Other Products      13.175510\n",
              "46           RTD Tea   504.4       Beverages      10.293878\n",
              "57              Wine   477.7       Beverages       9.748980\n",
              "45        RTD Coffee   134.5       Beverages       2.744898\n",
              "22           Creamer   126.4       Beverages       2.579592\n",
              "26     Energy Drinks    18.5       Beverages       0.377551"
            ]
          },
          "metadata": {
            "tags": []
          },
          "execution_count": 84
        }
      ]
    },
    {
      "cell_type": "code",
      "metadata": {
        "id": "Xi-BkUUVk6Tc",
        "colab": {
          "base_uri": "https://localhost:8080/",
          "height": 644
        },
        "outputId": "df718dd7-7a16-47d2-f379-f596972088f3"
      },
      "source": [
        "cluster4_IDs = demo_abs[demo_abs['Cluster'] == 4]['Panel ID']\n",
        "cluster4_spend = transactions_clean[transactions_clean['Panel ID'].isin(cluster4_IDs)].groupby('Category').sum().reset_index()\n",
        "cluster4_spend = cluster4_spend[['Category', 'Spend']].merge(categories[['Category', 'Product Type']], how = 'left', on = 'Category')\n",
        "cluster4_spend['Average Spend'] = cluster4_spend['Spend'] / cluster4_IDs.size\n",
        "cluster4_spend[cluster4_spend['Product Type'].isin(['Beverages', 'Other Products'])].sort_values(by = 'Average Spend', ascending = False)"
      ],
      "execution_count": null,
      "outputs": [
        {
          "output_type": "execute_result",
          "data": {
            "text/html": [
              "<div>\n",
              "<style scoped>\n",
              "    .dataframe tbody tr th:only-of-type {\n",
              "        vertical-align: middle;\n",
              "    }\n",
              "\n",
              "    .dataframe tbody tr th {\n",
              "        vertical-align: top;\n",
              "    }\n",
              "\n",
              "    .dataframe thead th {\n",
              "        text-align: right;\n",
              "    }\n",
              "</style>\n",
              "<table border=\"1\" class=\"dataframe\">\n",
              "  <thead>\n",
              "    <tr style=\"text-align: right;\">\n",
              "      <th></th>\n",
              "      <th>Category</th>\n",
              "      <th>Spend</th>\n",
              "      <th>Product Type</th>\n",
              "      <th>Average Spend</th>\n",
              "    </tr>\n",
              "  </thead>\n",
              "  <tbody>\n",
              "    <tr>\n",
              "      <th>58</th>\n",
              "      <td>Tonic Food Drink</td>\n",
              "      <td>90401.8</td>\n",
              "      <td>Beverages</td>\n",
              "      <td>63.439860</td>\n",
              "    </tr>\n",
              "    <tr>\n",
              "      <th>17</th>\n",
              "      <td>Coffee</td>\n",
              "      <td>56136.2</td>\n",
              "      <td>Beverages</td>\n",
              "      <td>39.393825</td>\n",
              "    </tr>\n",
              "    <tr>\n",
              "      <th>57</th>\n",
              "      <td>Tea</td>\n",
              "      <td>20374.3</td>\n",
              "      <td>Beverages</td>\n",
              "      <td>14.297754</td>\n",
              "    </tr>\n",
              "    <tr>\n",
              "      <th>22</th>\n",
              "      <td>Cordials</td>\n",
              "      <td>16059.3</td>\n",
              "      <td>Beverages</td>\n",
              "      <td>11.269684</td>\n",
              "    </tr>\n",
              "    <tr>\n",
              "      <th>24</th>\n",
              "      <td>Cultured Milk</td>\n",
              "      <td>16004.6</td>\n",
              "      <td>Beverages</td>\n",
              "      <td>11.231298</td>\n",
              "    </tr>\n",
              "    <tr>\n",
              "      <th>36</th>\n",
              "      <td>Isotonic Drinks</td>\n",
              "      <td>13118.5</td>\n",
              "      <td>Beverages</td>\n",
              "      <td>9.205965</td>\n",
              "    </tr>\n",
              "    <tr>\n",
              "      <th>25</th>\n",
              "      <td>Drinking Water</td>\n",
              "      <td>10427.4</td>\n",
              "      <td>Beverages</td>\n",
              "      <td>7.317474</td>\n",
              "    </tr>\n",
              "    <tr>\n",
              "      <th>1</th>\n",
              "      <td>Beer</td>\n",
              "      <td>10105.6</td>\n",
              "      <td>Beverages</td>\n",
              "      <td>7.091649</td>\n",
              "    </tr>\n",
              "    <tr>\n",
              "      <th>7</th>\n",
              "      <td>CSD</td>\n",
              "      <td>9051.1</td>\n",
              "      <td>Beverages</td>\n",
              "      <td>6.351649</td>\n",
              "    </tr>\n",
              "    <tr>\n",
              "      <th>30</th>\n",
              "      <td>Fruit/Veg Juices</td>\n",
              "      <td>8983.4</td>\n",
              "      <td>Beverages</td>\n",
              "      <td>6.304140</td>\n",
              "    </tr>\n",
              "    <tr>\n",
              "      <th>60</th>\n",
              "      <td>Yoghurt Drink</td>\n",
              "      <td>5273.3</td>\n",
              "      <td>Beverages</td>\n",
              "      <td>3.700561</td>\n",
              "    </tr>\n",
              "    <tr>\n",
              "      <th>53</th>\n",
              "      <td>Soy Milk</td>\n",
              "      <td>5185.7</td>\n",
              "      <td>Beverages</td>\n",
              "      <td>3.639088</td>\n",
              "    </tr>\n",
              "    <tr>\n",
              "      <th>47</th>\n",
              "      <td>RTD Tea</td>\n",
              "      <td>4079.7</td>\n",
              "      <td>Beverages</td>\n",
              "      <td>2.862947</td>\n",
              "    </tr>\n",
              "    <tr>\n",
              "      <th>13</th>\n",
              "      <td>Chicken Essence</td>\n",
              "      <td>3340.1</td>\n",
              "      <td>Other Products</td>\n",
              "      <td>2.343930</td>\n",
              "    </tr>\n",
              "    <tr>\n",
              "      <th>46</th>\n",
              "      <td>RTD Coffee</td>\n",
              "      <td>2313.1</td>\n",
              "      <td>Beverages</td>\n",
              "      <td>1.623228</td>\n",
              "    </tr>\n",
              "    <tr>\n",
              "      <th>3</th>\n",
              "      <td>Bird Nest</td>\n",
              "      <td>1492.9</td>\n",
              "      <td>Other Products</td>\n",
              "      <td>1.047649</td>\n",
              "    </tr>\n",
              "    <tr>\n",
              "      <th>27</th>\n",
              "      <td>Energy Drinks</td>\n",
              "      <td>749.6</td>\n",
              "      <td>Beverages</td>\n",
              "      <td>0.526035</td>\n",
              "    </tr>\n",
              "    <tr>\n",
              "      <th>59</th>\n",
              "      <td>Wine</td>\n",
              "      <td>656.6</td>\n",
              "      <td>Beverages</td>\n",
              "      <td>0.460772</td>\n",
              "    </tr>\n",
              "    <tr>\n",
              "      <th>23</th>\n",
              "      <td>Creamer</td>\n",
              "      <td>542.1</td>\n",
              "      <td>Beverages</td>\n",
              "      <td>0.380421</td>\n",
              "    </tr>\n",
              "    <tr>\n",
              "      <th>55</th>\n",
              "      <td>Spirits</td>\n",
              "      <td>164.4</td>\n",
              "      <td>Beverages</td>\n",
              "      <td>0.115368</td>\n",
              "    </tr>\n",
              "  </tbody>\n",
              "</table>\n",
              "</div>"
            ],
            "text/plain": [
              "            Category    Spend    Product Type  Average Spend\n",
              "58  Tonic Food Drink  90401.8       Beverages      63.439860\n",
              "17            Coffee  56136.2       Beverages      39.393825\n",
              "57               Tea  20374.3       Beverages      14.297754\n",
              "22          Cordials  16059.3       Beverages      11.269684\n",
              "24     Cultured Milk  16004.6       Beverages      11.231298\n",
              "36   Isotonic Drinks  13118.5       Beverages       9.205965\n",
              "25    Drinking Water  10427.4       Beverages       7.317474\n",
              "1               Beer  10105.6       Beverages       7.091649\n",
              "7                CSD   9051.1       Beverages       6.351649\n",
              "30  Fruit/Veg Juices   8983.4       Beverages       6.304140\n",
              "60     Yoghurt Drink   5273.3       Beverages       3.700561\n",
              "53          Soy Milk   5185.7       Beverages       3.639088\n",
              "47           RTD Tea   4079.7       Beverages       2.862947\n",
              "13   Chicken Essence   3340.1  Other Products       2.343930\n",
              "46        RTD Coffee   2313.1       Beverages       1.623228\n",
              "3          Bird Nest   1492.9  Other Products       1.047649\n",
              "27     Energy Drinks    749.6       Beverages       0.526035\n",
              "59              Wine    656.6       Beverages       0.460772\n",
              "23           Creamer    542.1       Beverages       0.380421\n",
              "55           Spirits    164.4       Beverages       0.115368"
            ]
          },
          "metadata": {
            "tags": []
          },
          "execution_count": 85
        }
      ]
    },
    {
      "cell_type": "code",
      "metadata": {
        "id": "ioVgiL6TrJPS",
        "colab": {
          "base_uri": "https://localhost:8080/",
          "height": 196
        },
        "outputId": "400a0600-0e90-4a31-f6da-875094b187ce"
      },
      "source": [
        "clusters_spend = [cluster0_spend[['Category', 'Average Spend']], cluster1_spend[['Category', 'Average Spend']], cluster2_spend[['Category', 'Average Spend']], cluster3_spend[['Category', 'Average Spend']], cluster4_spend[['Category', 'Average Spend']]]\n",
        "clusters_avgSpend = reduce(lambda  left,right: pd.merge(left,right,on='Category',\n",
        "                                            how='left'), clusters_spend)\n",
        "clusters_avgSpend.columns = ['Category', 'AvgSpend0', 'AvgSpend1', 'AvgSpend2', 'AvgSpend3', 'AvgSpend4']\n",
        "clusters_avgSpend.fillna(0, inplace=True)\n",
        "clusters_avgSpend[clusters_avgSpend['Category'].isin(['Bird Nest', 'Wine', 'Chicken Essence', 'Spirits', 'Beer'])].reset_index().drop(columns='index')"
      ],
      "execution_count": null,
      "outputs": [
        {
          "output_type": "execute_result",
          "data": {
            "text/html": [
              "<div>\n",
              "<style scoped>\n",
              "    .dataframe tbody tr th:only-of-type {\n",
              "        vertical-align: middle;\n",
              "    }\n",
              "\n",
              "    .dataframe tbody tr th {\n",
              "        vertical-align: top;\n",
              "    }\n",
              "\n",
              "    .dataframe thead th {\n",
              "        text-align: right;\n",
              "    }\n",
              "</style>\n",
              "<table border=\"1\" class=\"dataframe\">\n",
              "  <thead>\n",
              "    <tr style=\"text-align: right;\">\n",
              "      <th></th>\n",
              "      <th>Category</th>\n",
              "      <th>AvgSpend0</th>\n",
              "      <th>AvgSpend1</th>\n",
              "      <th>AvgSpend2</th>\n",
              "      <th>AvgSpend3</th>\n",
              "      <th>AvgSpend4</th>\n",
              "    </tr>\n",
              "  </thead>\n",
              "  <tbody>\n",
              "    <tr>\n",
              "      <th>0</th>\n",
              "      <td>Beer</td>\n",
              "      <td>119.504225</td>\n",
              "      <td>37.553518</td>\n",
              "      <td>1029.430</td>\n",
              "      <td>14.467347</td>\n",
              "      <td>7.091649</td>\n",
              "    </tr>\n",
              "    <tr>\n",
              "      <th>1</th>\n",
              "      <td>Bird Nest</td>\n",
              "      <td>2.463380</td>\n",
              "      <td>3.706640</td>\n",
              "      <td>311.490</td>\n",
              "      <td>0.000000</td>\n",
              "      <td>1.047649</td>\n",
              "    </tr>\n",
              "    <tr>\n",
              "      <th>2</th>\n",
              "      <td>Chicken Essence</td>\n",
              "      <td>12.163732</td>\n",
              "      <td>12.323290</td>\n",
              "      <td>435.990</td>\n",
              "      <td>13.175510</td>\n",
              "      <td>2.343930</td>\n",
              "    </tr>\n",
              "    <tr>\n",
              "      <th>3</th>\n",
              "      <td>Spirits</td>\n",
              "      <td>24.504225</td>\n",
              "      <td>4.007929</td>\n",
              "      <td>566.510</td>\n",
              "      <td>0.000000</td>\n",
              "      <td>0.115368</td>\n",
              "    </tr>\n",
              "    <tr>\n",
              "      <th>4</th>\n",
              "      <td>Wine</td>\n",
              "      <td>34.605986</td>\n",
              "      <td>3.314073</td>\n",
              "      <td>132.365</td>\n",
              "      <td>9.748980</td>\n",
              "      <td>0.460772</td>\n",
              "    </tr>\n",
              "  </tbody>\n",
              "</table>\n",
              "</div>"
            ],
            "text/plain": [
              "          Category   AvgSpend0  AvgSpend1  AvgSpend2  AvgSpend3  AvgSpend4\n",
              "0             Beer  119.504225  37.553518   1029.430  14.467347   7.091649\n",
              "1        Bird Nest    2.463380   3.706640    311.490   0.000000   1.047649\n",
              "2  Chicken Essence   12.163732  12.323290    435.990  13.175510   2.343930\n",
              "3          Spirits   24.504225   4.007929    566.510   0.000000   0.115368\n",
              "4             Wine   34.605986   3.314073    132.365   9.748980   0.460772"
            ]
          },
          "metadata": {
            "tags": []
          },
          "execution_count": 86
        }
      ]
    },
    {
      "cell_type": "code",
      "metadata": {
        "id": "Xad8hWGHneAY",
        "colab": {
          "base_uri": "https://localhost:8080/",
          "height": 84
        },
        "outputId": "b166ed45-ac3f-40dc-81c9-312217c8e54a"
      },
      "source": [
        "demo_abs[demo_abs['Cluster'] == 2]['Ethnicity'].value_counts()"
      ],
      "execution_count": null,
      "outputs": [
        {
          "output_type": "execute_result",
          "data": {
            "text/plain": [
              "Chinese    16\n",
              "Malay       2\n",
              "Others      2\n",
              "Name: Ethnicity, dtype: int64"
            ]
          },
          "metadata": {
            "tags": []
          },
          "execution_count": 87
        }
      ]
    },
    {
      "cell_type": "markdown",
      "metadata": {
        "id": "_K0MRnwZnLZa"
      },
      "source": [
        "From here, we can tell that Cluster 2 has a significantly higher average spending on expensive products such as Wine, Bird Nest, Chicken Essence, Spirits and Beer. But majority of the people in Cluster 2 are Chinese; Muslims cannot consume alcoholic drinks due to their religion. This might explain the huge spending on Beer and Spirits in Cluster 2.\n"
      ]
    },
    {
      "cell_type": "markdown",
      "metadata": {
        "id": "4uWY3CV69VIR"
      },
      "source": [
        "## Actionable Insights\n",
        "\n",
        "Using the insights we have gathered above, we design our actionable insights into three packages as explained:"
      ]
    },
    {
      "cell_type": "markdown",
      "metadata": {
        "id": "z7VMvKx3ihWX"
      },
      "source": [
        "### Package 1 - The Daily Essentials Package\n",
        "\n"
      ]
    },
    {
      "cell_type": "markdown",
      "metadata": {
        "id": "-jz1LNQ_7977"
      },
      "source": [
        "In order to entice customers from Cluster 0 to purchase more Cooking Essentials and Staple Goods, the Daily Essentials Package could be introduced. As customers from Cluster 0 tend to purchase Cooking Essentials and Staple Goods together more often than the other customers, introducing packages like this provides discounts and at the same time convenience. Thus, they would then be more inclined to purchase more, generating more revenue in the process.\n",
        "\n",
        "The Daily Essentials Package, which includes a carton of 10 eggs, Milk Powder (either Kids or Adults) and a bottle of cooking oil, could be sold at the price of 2 Milk Powder packets. \n"
      ]
    },
    {
      "cell_type": "code",
      "metadata": {
        "id": "vZIHZRLpilqJ",
        "colab": {
          "base_uri": "https://localhost:8080/",
          "height": 404
        },
        "outputId": "d524d6f9-62f2-4da6-b18c-fec210ae1742"
      },
      "source": [
        "# Get all transactions in Cluster 0\n",
        "cluster0_transactions = transactions_clean[transactions_clean['Panel ID'].isin(cluster0_IDs)]\n",
        "cluster0_transactions"
      ],
      "execution_count": null,
      "outputs": [
        {
          "output_type": "execute_result",
          "data": {
            "text/html": [
              "<div>\n",
              "<style scoped>\n",
              "    .dataframe tbody tr th:only-of-type {\n",
              "        vertical-align: middle;\n",
              "    }\n",
              "\n",
              "    .dataframe tbody tr th {\n",
              "        vertical-align: top;\n",
              "    }\n",
              "\n",
              "    .dataframe thead th {\n",
              "        text-align: right;\n",
              "    }\n",
              "</style>\n",
              "<table border=\"1\" class=\"dataframe\">\n",
              "  <thead>\n",
              "    <tr style=\"text-align: right;\">\n",
              "      <th></th>\n",
              "      <th>Panel ID</th>\n",
              "      <th>Date</th>\n",
              "      <th>Category</th>\n",
              "      <th>Pack Size</th>\n",
              "      <th>Volume</th>\n",
              "      <th>Spend</th>\n",
              "    </tr>\n",
              "  </thead>\n",
              "  <tbody>\n",
              "    <tr>\n",
              "      <th>5703</th>\n",
              "      <td>Panel 105021106</td>\n",
              "      <td>2018-06-17</td>\n",
              "      <td>Cooking Oils</td>\n",
              "      <td>2</td>\n",
              "      <td>2.0</td>\n",
              "      <td>5.0</td>\n",
              "    </tr>\n",
              "    <tr>\n",
              "      <th>5704</th>\n",
              "      <td>Panel 105021106</td>\n",
              "      <td>2018-06-17</td>\n",
              "      <td>Rice</td>\n",
              "      <td>1</td>\n",
              "      <td>10.0</td>\n",
              "      <td>24.9</td>\n",
              "    </tr>\n",
              "    <tr>\n",
              "      <th>5705</th>\n",
              "      <td>Panel 105021106</td>\n",
              "      <td>2018-06-17</td>\n",
              "      <td>Sugar</td>\n",
              "      <td>2</td>\n",
              "      <td>2.0</td>\n",
              "      <td>5.8</td>\n",
              "    </tr>\n",
              "    <tr>\n",
              "      <th>5706</th>\n",
              "      <td>Panel 105021106</td>\n",
              "      <td>2018-06-17</td>\n",
              "      <td>Coffee</td>\n",
              "      <td>2</td>\n",
              "      <td>0.6</td>\n",
              "      <td>9.0</td>\n",
              "    </tr>\n",
              "    <tr>\n",
              "      <th>5707</th>\n",
              "      <td>Panel 105021106</td>\n",
              "      <td>2018-06-17</td>\n",
              "      <td>Eggs</td>\n",
              "      <td>1</td>\n",
              "      <td>30.0</td>\n",
              "      <td>9.9</td>\n",
              "    </tr>\n",
              "    <tr>\n",
              "      <th>...</th>\n",
              "      <td>...</td>\n",
              "      <td>...</td>\n",
              "      <td>...</td>\n",
              "      <td>...</td>\n",
              "      <td>...</td>\n",
              "      <td>...</td>\n",
              "    </tr>\n",
              "    <tr>\n",
              "      <th>1313271</th>\n",
              "      <td>Panel 801822301</td>\n",
              "      <td>2020-06-14</td>\n",
              "      <td>Cooking Sauces</td>\n",
              "      <td>1</td>\n",
              "      <td>0.3</td>\n",
              "      <td>3.3</td>\n",
              "    </tr>\n",
              "    <tr>\n",
              "      <th>1313272</th>\n",
              "      <td>Panel 801822301</td>\n",
              "      <td>2020-06-14</td>\n",
              "      <td>Beer</td>\n",
              "      <td>7</td>\n",
              "      <td>2.2</td>\n",
              "      <td>41.9</td>\n",
              "    </tr>\n",
              "    <tr>\n",
              "      <th>1313273</th>\n",
              "      <td>Panel 801822301</td>\n",
              "      <td>2020-06-14</td>\n",
              "      <td>Eggs</td>\n",
              "      <td>1</td>\n",
              "      <td>10.0</td>\n",
              "      <td>3.7</td>\n",
              "    </tr>\n",
              "    <tr>\n",
              "      <th>1313274</th>\n",
              "      <td>Panel 801822301</td>\n",
              "      <td>2020-06-14</td>\n",
              "      <td>Beer</td>\n",
              "      <td>36</td>\n",
              "      <td>11.5</td>\n",
              "      <td>215.6</td>\n",
              "    </tr>\n",
              "    <tr>\n",
              "      <th>1313275</th>\n",
              "      <td>Panel 801822301</td>\n",
              "      <td>2020-06-14</td>\n",
              "      <td>Beer</td>\n",
              "      <td>1</td>\n",
              "      <td>0.3</td>\n",
              "      <td>8.0</td>\n",
              "    </tr>\n",
              "  </tbody>\n",
              "</table>\n",
              "<p>228722 rows × 6 columns</p>\n",
              "</div>"
            ],
            "text/plain": [
              "                Panel ID       Date        Category  Pack Size  Volume  Spend\n",
              "5703     Panel 105021106 2018-06-17    Cooking Oils          2     2.0    5.0\n",
              "5704     Panel 105021106 2018-06-17            Rice          1    10.0   24.9\n",
              "5705     Panel 105021106 2018-06-17           Sugar          2     2.0    5.8\n",
              "5706     Panel 105021106 2018-06-17          Coffee          2     0.6    9.0\n",
              "5707     Panel 105021106 2018-06-17            Eggs          1    30.0    9.9\n",
              "...                  ...        ...             ...        ...     ...    ...\n",
              "1313271  Panel 801822301 2020-06-14  Cooking Sauces          1     0.3    3.3\n",
              "1313272  Panel 801822301 2020-06-14            Beer          7     2.2   41.9\n",
              "1313273  Panel 801822301 2020-06-14            Eggs          1    10.0    3.7\n",
              "1313274  Panel 801822301 2020-06-14            Beer         36    11.5  215.6\n",
              "1313275  Panel 801822301 2020-06-14            Beer          1     0.3    8.0\n",
              "\n",
              "[228722 rows x 6 columns]"
            ]
          },
          "metadata": {
            "tags": []
          },
          "execution_count": 88
        }
      ]
    },
    {
      "cell_type": "code",
      "metadata": {
        "id": "gvHIaGaai4tT",
        "colab": {
          "base_uri": "https://localhost:8080/",
          "height": 33
        },
        "outputId": "72878ea4-b279-4e0f-b5dd-4e756be56559"
      },
      "source": [
        "# Check how many customers in cluster 0 have purchased 'Milk Powder-Kids' before\n",
        "cluster0_transactions[cluster0_transactions['Category'] == 'Milk Powder-Kids']['Panel ID'].nunique()"
      ],
      "execution_count": null,
      "outputs": [
        {
          "output_type": "execute_result",
          "data": {
            "text/plain": [
              "103"
            ]
          },
          "metadata": {
            "tags": []
          },
          "execution_count": 89
        }
      ]
    },
    {
      "cell_type": "code",
      "metadata": {
        "id": "w7z_BHMRj9RZ",
        "colab": {
          "base_uri": "https://localhost:8080/",
          "height": 33
        },
        "outputId": "16b680d4-0b16-4d8d-f548-9328477dcbd5"
      },
      "source": [
        "# Check how many customers in cluster 0 have purchased 'Milk Powder-Adult' before\n",
        "cluster0_transactions[cluster0_transactions['Category'] == 'Milk Powder-Adult']['Panel ID'].nunique()"
      ],
      "execution_count": null,
      "outputs": [
        {
          "output_type": "execute_result",
          "data": {
            "text/plain": [
              "198"
            ]
          },
          "metadata": {
            "tags": []
          },
          "execution_count": 90
        }
      ]
    },
    {
      "cell_type": "markdown",
      "metadata": {
        "id": "b8zIRZpQmR0l"
      },
      "source": [
        "### Package 2 - The Exquisite Taste Buds Package"
      ]
    },
    {
      "cell_type": "markdown",
      "metadata": {
        "id": "uH7PB-Jt8Whj"
      },
      "source": [
        "In order to entice customers from Cluster 2 to purchase more Beverages and Other Products, the Exquisite Taste Buds Package could be introduced. As customers from Cluster 2 tend to purchase Beverages and Other Products together more often than the other customers, introducing packages like this provides discounts and at the same time convenience. Thus, they would then be more inclined to purchase more, generating more revenue in the process.\n",
        "\n",
        "As such, the Exquisite Taste Buds Package, which includes 2 bottles of Beer, either Chicken Essence or Bird Nest, could be sold at the price of 2 Spirits.\n"
      ]
    },
    {
      "cell_type": "code",
      "metadata": {
        "id": "_uGcuhzTmW9m",
        "colab": {
          "base_uri": "https://localhost:8080/",
          "height": 137
        },
        "outputId": "d53d5b0d-38c6-442d-83ce-9ff0ee4106dd"
      },
      "source": [
        "categories[categories['Category'].isin(['Beer', 'Chicken Essence', 'Bird Nest'])]\n",
        "# categories[categories['Product Type'].isin(['Beverages'])].sort_values(by = 'Price per Volume', ascending = False)"
      ],
      "execution_count": null,
      "outputs": [
        {
          "output_type": "execute_result",
          "data": {
            "text/html": [
              "<div>\n",
              "<style scoped>\n",
              "    .dataframe tbody tr th:only-of-type {\n",
              "        vertical-align: middle;\n",
              "    }\n",
              "\n",
              "    .dataframe tbody tr th {\n",
              "        vertical-align: top;\n",
              "    }\n",
              "\n",
              "    .dataframe thead th {\n",
              "        text-align: right;\n",
              "    }\n",
              "</style>\n",
              "<table border=\"1\" class=\"dataframe\">\n",
              "  <thead>\n",
              "    <tr style=\"text-align: right;\">\n",
              "      <th></th>\n",
              "      <th>Category</th>\n",
              "      <th>Calories/100g</th>\n",
              "      <th>Price per Volume</th>\n",
              "      <th>Product Type</th>\n",
              "    </tr>\n",
              "  </thead>\n",
              "  <tbody>\n",
              "    <tr>\n",
              "      <th>1</th>\n",
              "      <td>Beer</td>\n",
              "      <td>43</td>\n",
              "      <td>15.12</td>\n",
              "      <td>Beverages</td>\n",
              "    </tr>\n",
              "    <tr>\n",
              "      <th>3</th>\n",
              "      <td>Bird Nest</td>\n",
              "      <td>46</td>\n",
              "      <td>73.45</td>\n",
              "      <td>Other Products</td>\n",
              "    </tr>\n",
              "    <tr>\n",
              "      <th>12</th>\n",
              "      <td>Chicken Essence</td>\n",
              "      <td>267</td>\n",
              "      <td>76.54</td>\n",
              "      <td>Other Products</td>\n",
              "    </tr>\n",
              "  </tbody>\n",
              "</table>\n",
              "</div>"
            ],
            "text/plain": [
              "           Category  Calories/100g  Price per Volume    Product Type\n",
              "1              Beer             43             15.12       Beverages\n",
              "3         Bird Nest             46             73.45  Other Products\n",
              "12  Chicken Essence            267             76.54  Other Products"
            ]
          },
          "metadata": {
            "tags": []
          },
          "execution_count": 91
        }
      ]
    },
    {
      "cell_type": "code",
      "metadata": {
        "id": "DOkvXQV5o0um",
        "colab": {
          "base_uri": "https://localhost:8080/",
          "height": 404
        },
        "outputId": "df16c39e-7f1e-44e7-8114-3661e42ae553"
      },
      "source": [
        "# Get all transactions in Cluster 2\n",
        "cluster2_transactions = transactions_clean[transactions_clean['Panel ID'].isin(cluster2_IDs)]\n",
        "cluster2_transactions"
      ],
      "execution_count": null,
      "outputs": [
        {
          "output_type": "execute_result",
          "data": {
            "text/html": [
              "<div>\n",
              "<style scoped>\n",
              "    .dataframe tbody tr th:only-of-type {\n",
              "        vertical-align: middle;\n",
              "    }\n",
              "\n",
              "    .dataframe tbody tr th {\n",
              "        vertical-align: top;\n",
              "    }\n",
              "\n",
              "    .dataframe thead th {\n",
              "        text-align: right;\n",
              "    }\n",
              "</style>\n",
              "<table border=\"1\" class=\"dataframe\">\n",
              "  <thead>\n",
              "    <tr style=\"text-align: right;\">\n",
              "      <th></th>\n",
              "      <th>Panel ID</th>\n",
              "      <th>Date</th>\n",
              "      <th>Category</th>\n",
              "      <th>Pack Size</th>\n",
              "      <th>Volume</th>\n",
              "      <th>Spend</th>\n",
              "    </tr>\n",
              "  </thead>\n",
              "  <tbody>\n",
              "    <tr>\n",
              "      <th>20242</th>\n",
              "      <td>Panel 106061101</td>\n",
              "      <td>2018-06-17</td>\n",
              "      <td>Canned Product</td>\n",
              "      <td>1</td>\n",
              "      <td>0.3</td>\n",
              "      <td>4.0</td>\n",
              "    </tr>\n",
              "    <tr>\n",
              "      <th>20243</th>\n",
              "      <td>Panel 106061101</td>\n",
              "      <td>2018-06-17</td>\n",
              "      <td>Snack</td>\n",
              "      <td>1</td>\n",
              "      <td>0.2</td>\n",
              "      <td>3.4</td>\n",
              "    </tr>\n",
              "    <tr>\n",
              "      <th>20244</th>\n",
              "      <td>Panel 106061101</td>\n",
              "      <td>2018-06-17</td>\n",
              "      <td>Biscuits</td>\n",
              "      <td>1</td>\n",
              "      <td>0.1</td>\n",
              "      <td>1.0</td>\n",
              "    </tr>\n",
              "    <tr>\n",
              "      <th>20245</th>\n",
              "      <td>Panel 106061101</td>\n",
              "      <td>2018-06-17</td>\n",
              "      <td>Isotonic Drinks</td>\n",
              "      <td>1</td>\n",
              "      <td>1.5</td>\n",
              "      <td>2.6</td>\n",
              "    </tr>\n",
              "    <tr>\n",
              "      <th>20246</th>\n",
              "      <td>Panel 106061101</td>\n",
              "      <td>2018-06-17</td>\n",
              "      <td>Snack</td>\n",
              "      <td>1</td>\n",
              "      <td>0.2</td>\n",
              "      <td>2.8</td>\n",
              "    </tr>\n",
              "    <tr>\n",
              "      <th>...</th>\n",
              "      <td>...</td>\n",
              "      <td>...</td>\n",
              "      <td>...</td>\n",
              "      <td>...</td>\n",
              "      <td>...</td>\n",
              "      <td>...</td>\n",
              "    </tr>\n",
              "    <tr>\n",
              "      <th>1305503</th>\n",
              "      <td>Panel 801792301</td>\n",
              "      <td>2020-05-31</td>\n",
              "      <td>Bouilon</td>\n",
              "      <td>1</td>\n",
              "      <td>0.3</td>\n",
              "      <td>6.5</td>\n",
              "    </tr>\n",
              "    <tr>\n",
              "      <th>1305504</th>\n",
              "      <td>Panel 801792301</td>\n",
              "      <td>2020-06-07</td>\n",
              "      <td>Bird Nest</td>\n",
              "      <td>20</td>\n",
              "      <td>1.4</td>\n",
              "      <td>108.0</td>\n",
              "    </tr>\n",
              "    <tr>\n",
              "      <th>1305505</th>\n",
              "      <td>Panel 801792301</td>\n",
              "      <td>2020-06-07</td>\n",
              "      <td>Soy Milk</td>\n",
              "      <td>1</td>\n",
              "      <td>1.0</td>\n",
              "      <td>5.8</td>\n",
              "    </tr>\n",
              "    <tr>\n",
              "      <th>1305506</th>\n",
              "      <td>Panel 801792301</td>\n",
              "      <td>2020-06-07</td>\n",
              "      <td>Liquid Milk</td>\n",
              "      <td>1</td>\n",
              "      <td>1.0</td>\n",
              "      <td>5.4</td>\n",
              "    </tr>\n",
              "    <tr>\n",
              "      <th>1305507</th>\n",
              "      <td>Panel 801792301</td>\n",
              "      <td>2020-06-14</td>\n",
              "      <td>Liquid Milk</td>\n",
              "      <td>2</td>\n",
              "      <td>2.0</td>\n",
              "      <td>9.8</td>\n",
              "    </tr>\n",
              "  </tbody>\n",
              "</table>\n",
              "<p>14062 rows × 6 columns</p>\n",
              "</div>"
            ],
            "text/plain": [
              "                Panel ID       Date         Category  Pack Size  Volume  Spend\n",
              "20242    Panel 106061101 2018-06-17   Canned Product          1     0.3    4.0\n",
              "20243    Panel 106061101 2018-06-17            Snack          1     0.2    3.4\n",
              "20244    Panel 106061101 2018-06-17         Biscuits          1     0.1    1.0\n",
              "20245    Panel 106061101 2018-06-17  Isotonic Drinks          1     1.5    2.6\n",
              "20246    Panel 106061101 2018-06-17            Snack          1     0.2    2.8\n",
              "...                  ...        ...              ...        ...     ...    ...\n",
              "1305503  Panel 801792301 2020-05-31          Bouilon          1     0.3    6.5\n",
              "1305504  Panel 801792301 2020-06-07        Bird Nest         20     1.4  108.0\n",
              "1305505  Panel 801792301 2020-06-07         Soy Milk          1     1.0    5.8\n",
              "1305506  Panel 801792301 2020-06-07      Liquid Milk          1     1.0    5.4\n",
              "1305507  Panel 801792301 2020-06-14      Liquid Milk          2     2.0    9.8\n",
              "\n",
              "[14062 rows x 6 columns]"
            ]
          },
          "metadata": {
            "tags": []
          },
          "execution_count": 92
        }
      ]
    },
    {
      "cell_type": "code",
      "metadata": {
        "id": "67NTEBnXofgp",
        "colab": {
          "base_uri": "https://localhost:8080/",
          "height": 33
        },
        "outputId": "502f08a6-4b67-4891-dd18-4213c04ca14c"
      },
      "source": [
        "# Check how many customers in cluster 2 have purchased 'Bird Nest' before\n",
        "cluster2_transactions[cluster2_transactions['Category'] == 'Bird Nest']['Panel ID'].nunique()"
      ],
      "execution_count": null,
      "outputs": [
        {
          "output_type": "execute_result",
          "data": {
            "text/plain": [
              "12"
            ]
          },
          "metadata": {
            "tags": []
          },
          "execution_count": 93
        }
      ]
    },
    {
      "cell_type": "code",
      "metadata": {
        "id": "1zpBaA6aOLjh",
        "colab": {
          "base_uri": "https://localhost:8080/",
          "height": 33
        },
        "outputId": "257e55fe-e208-477a-bec9-4b772517fc1b"
      },
      "source": [
        "# Check how many customers in cluster 2 have purchased 'Bird Nest' before\n",
        "cluster2_transactions[cluster2_transactions['Category'] == 'Chicken Essence']['Panel ID'].nunique()"
      ],
      "execution_count": null,
      "outputs": [
        {
          "output_type": "execute_result",
          "data": {
            "text/plain": [
              "17"
            ]
          },
          "metadata": {
            "tags": []
          },
          "execution_count": 94
        }
      ]
    },
    {
      "cell_type": "markdown",
      "metadata": {
        "id": "qwyyMIXlneJl"
      },
      "source": [
        "### Package 3 - The Family Starter Package"
      ]
    },
    {
      "cell_type": "markdown",
      "metadata": {
        "id": "FKc3y07E8f5p"
      },
      "source": [
        "In order to entice customers from Cluster 3 to purchase more Baby Care products, the Family Starter Package could be introduced. As customers from Cluster 3 tend to purchase Baby Care products more often than the other customers, introducing packages like this provides discounts and at the same time convenience. Thus, they would then be more inclined to purchase more, generating more revenue in the process. \n",
        "\n",
        "As such, the Family Starter Package, which includes a carton of 2 Milk Powder packets for Infants, and a Baby Cereal, could be sold at the price of 2 Milk Powder packets for Infants."
      ]
    },
    {
      "cell_type": "code",
      "metadata": {
        "id": "5aULeXGjnjR0",
        "colab": {
          "base_uri": "https://localhost:8080/",
          "height": 107
        },
        "outputId": "b5bd4e65-fa93-46e2-abaa-5537466132ef"
      },
      "source": [
        "categories[categories['Category'].isin(['Baby Cereal', 'Milk Powder-Infant'])]"
      ],
      "execution_count": null,
      "outputs": [
        {
          "output_type": "execute_result",
          "data": {
            "text/html": [
              "<div>\n",
              "<style scoped>\n",
              "    .dataframe tbody tr th:only-of-type {\n",
              "        vertical-align: middle;\n",
              "    }\n",
              "\n",
              "    .dataframe tbody tr th {\n",
              "        vertical-align: top;\n",
              "    }\n",
              "\n",
              "    .dataframe thead th {\n",
              "        text-align: right;\n",
              "    }\n",
              "</style>\n",
              "<table border=\"1\" class=\"dataframe\">\n",
              "  <thead>\n",
              "    <tr style=\"text-align: right;\">\n",
              "      <th></th>\n",
              "      <th>Category</th>\n",
              "      <th>Calories/100g</th>\n",
              "      <th>Price per Volume</th>\n",
              "      <th>Product Type</th>\n",
              "    </tr>\n",
              "  </thead>\n",
              "  <tbody>\n",
              "    <tr>\n",
              "      <th>0</th>\n",
              "      <td>Baby Cereal</td>\n",
              "      <td>188</td>\n",
              "      <td>29.41</td>\n",
              "      <td>Baby Care</td>\n",
              "    </tr>\n",
              "    <tr>\n",
              "      <th>42</th>\n",
              "      <td>Milk Powder-Infant</td>\n",
              "      <td>450</td>\n",
              "      <td>45.77</td>\n",
              "      <td>Baby Care</td>\n",
              "    </tr>\n",
              "  </tbody>\n",
              "</table>\n",
              "</div>"
            ],
            "text/plain": [
              "              Category  Calories/100g  Price per Volume Product Type\n",
              "0          Baby Cereal            188             29.41    Baby Care\n",
              "42  Milk Powder-Infant            450             45.77    Baby Care"
            ]
          },
          "metadata": {
            "tags": []
          },
          "execution_count": 95
        }
      ]
    },
    {
      "cell_type": "code",
      "metadata": {
        "id": "Wlhe6ouhpC4x",
        "colab": {
          "base_uri": "https://localhost:8080/",
          "height": 404
        },
        "outputId": "34804445-63a0-4dbe-d339-ca35081c3bf3"
      },
      "source": [
        "# Get all transactions in Cluster 3\n",
        "cluster3_transactions = transactions_clean[transactions_clean['Panel ID'].isin(cluster3_IDs)]\n",
        "cluster3_transactions"
      ],
      "execution_count": null,
      "outputs": [
        {
          "output_type": "execute_result",
          "data": {
            "text/html": [
              "<div>\n",
              "<style scoped>\n",
              "    .dataframe tbody tr th:only-of-type {\n",
              "        vertical-align: middle;\n",
              "    }\n",
              "\n",
              "    .dataframe tbody tr th {\n",
              "        vertical-align: top;\n",
              "    }\n",
              "\n",
              "    .dataframe thead th {\n",
              "        text-align: right;\n",
              "    }\n",
              "</style>\n",
              "<table border=\"1\" class=\"dataframe\">\n",
              "  <thead>\n",
              "    <tr style=\"text-align: right;\">\n",
              "      <th></th>\n",
              "      <th>Panel ID</th>\n",
              "      <th>Date</th>\n",
              "      <th>Category</th>\n",
              "      <th>Pack Size</th>\n",
              "      <th>Volume</th>\n",
              "      <th>Spend</th>\n",
              "    </tr>\n",
              "  </thead>\n",
              "  <tbody>\n",
              "    <tr>\n",
              "      <th>21802</th>\n",
              "      <td>Panel 106077101</td>\n",
              "      <td>2018-06-24</td>\n",
              "      <td>Milk Powder-Kids</td>\n",
              "      <td>2</td>\n",
              "      <td>1.2</td>\n",
              "      <td>57.0</td>\n",
              "    </tr>\n",
              "    <tr>\n",
              "      <th>21803</th>\n",
              "      <td>Panel 106077101</td>\n",
              "      <td>2018-06-24</td>\n",
              "      <td>Rice</td>\n",
              "      <td>1</td>\n",
              "      <td>5.0</td>\n",
              "      <td>15.0</td>\n",
              "    </tr>\n",
              "    <tr>\n",
              "      <th>21804</th>\n",
              "      <td>Panel 106077101</td>\n",
              "      <td>2018-06-24</td>\n",
              "      <td>Sugar</td>\n",
              "      <td>2</td>\n",
              "      <td>2.0</td>\n",
              "      <td>5.9</td>\n",
              "    </tr>\n",
              "    <tr>\n",
              "      <th>21805</th>\n",
              "      <td>Panel 106077101</td>\n",
              "      <td>2018-06-24</td>\n",
              "      <td>Ice Cream</td>\n",
              "      <td>1</td>\n",
              "      <td>1.5</td>\n",
              "      <td>6.0</td>\n",
              "    </tr>\n",
              "    <tr>\n",
              "      <th>21806</th>\n",
              "      <td>Panel 106077101</td>\n",
              "      <td>2018-06-24</td>\n",
              "      <td>Tonic Food Drink</td>\n",
              "      <td>1</td>\n",
              "      <td>2.0</td>\n",
              "      <td>40.0</td>\n",
              "    </tr>\n",
              "    <tr>\n",
              "      <th>...</th>\n",
              "      <td>...</td>\n",
              "      <td>...</td>\n",
              "      <td>...</td>\n",
              "      <td>...</td>\n",
              "      <td>...</td>\n",
              "      <td>...</td>\n",
              "    </tr>\n",
              "    <tr>\n",
              "      <th>1312146</th>\n",
              "      <td>Panel 801815001</td>\n",
              "      <td>2020-05-10</td>\n",
              "      <td>Milk Powder-Infant</td>\n",
              "      <td>1</td>\n",
              "      <td>1.3</td>\n",
              "      <td>123.0</td>\n",
              "    </tr>\n",
              "    <tr>\n",
              "      <th>1312147</th>\n",
              "      <td>Panel 801815001</td>\n",
              "      <td>2020-05-24</td>\n",
              "      <td>Milk Powder-Infant</td>\n",
              "      <td>1</td>\n",
              "      <td>1.3</td>\n",
              "      <td>123.0</td>\n",
              "    </tr>\n",
              "    <tr>\n",
              "      <th>1312148</th>\n",
              "      <td>Panel 801815001</td>\n",
              "      <td>2020-05-31</td>\n",
              "      <td>Milk Powder-Infant</td>\n",
              "      <td>1</td>\n",
              "      <td>1.3</td>\n",
              "      <td>123.0</td>\n",
              "    </tr>\n",
              "    <tr>\n",
              "      <th>1312149</th>\n",
              "      <td>Panel 801815001</td>\n",
              "      <td>2020-06-07</td>\n",
              "      <td>Milk Powder-Infant</td>\n",
              "      <td>1</td>\n",
              "      <td>0.6</td>\n",
              "      <td>63.9</td>\n",
              "    </tr>\n",
              "    <tr>\n",
              "      <th>1312150</th>\n",
              "      <td>Panel 801815001</td>\n",
              "      <td>2020-06-14</td>\n",
              "      <td>Milk Powder-Infant</td>\n",
              "      <td>1</td>\n",
              "      <td>1.3</td>\n",
              "      <td>123.0</td>\n",
              "    </tr>\n",
              "  </tbody>\n",
              "</table>\n",
              "<p>21727 rows × 6 columns</p>\n",
              "</div>"
            ],
            "text/plain": [
              "                Panel ID       Date  ... Volume  Spend\n",
              "21802    Panel 106077101 2018-06-24  ...    1.2   57.0\n",
              "21803    Panel 106077101 2018-06-24  ...    5.0   15.0\n",
              "21804    Panel 106077101 2018-06-24  ...    2.0    5.9\n",
              "21805    Panel 106077101 2018-06-24  ...    1.5    6.0\n",
              "21806    Panel 106077101 2018-06-24  ...    2.0   40.0\n",
              "...                  ...        ...  ...    ...    ...\n",
              "1312146  Panel 801815001 2020-05-10  ...    1.3  123.0\n",
              "1312147  Panel 801815001 2020-05-24  ...    1.3  123.0\n",
              "1312148  Panel 801815001 2020-05-31  ...    1.3  123.0\n",
              "1312149  Panel 801815001 2020-06-07  ...    0.6   63.9\n",
              "1312150  Panel 801815001 2020-06-14  ...    1.3  123.0\n",
              "\n",
              "[21727 rows x 6 columns]"
            ]
          },
          "metadata": {
            "tags": []
          },
          "execution_count": 96
        }
      ]
    },
    {
      "cell_type": "code",
      "metadata": {
        "id": "u14upqZppGXL",
        "colab": {
          "base_uri": "https://localhost:8080/",
          "height": 33
        },
        "outputId": "db93c6aa-6a61-4c74-8164-4839f4d76213"
      },
      "source": [
        "# Check how many customers in cluster 3 have purchased 'Milk Powder-Infant' before\n",
        "cluster3_transactions[cluster3_transactions['Category'] == 'Milk Powder-Infant']['Panel ID'].nunique()"
      ],
      "execution_count": null,
      "outputs": [
        {
          "output_type": "execute_result",
          "data": {
            "text/plain": [
              "49"
            ]
          },
          "metadata": {
            "tags": []
          },
          "execution_count": 97
        }
      ]
    },
    {
      "cell_type": "code",
      "metadata": {
        "id": "xfM6lOfFpS5l",
        "colab": {
          "base_uri": "https://localhost:8080/",
          "height": 33
        },
        "outputId": "b76a4e68-120f-40c7-cb62-e7984f4fca6b"
      },
      "source": [
        "# Check how many customers in cluster 3 have purchased 'Baby Cereal' before\n",
        "cluster3_transactions[cluster3_transactions['Category'] == 'Baby Cereal']['Panel ID'].nunique()"
      ],
      "execution_count": null,
      "outputs": [
        {
          "output_type": "execute_result",
          "data": {
            "text/plain": [
              "31"
            ]
          },
          "metadata": {
            "tags": []
          },
          "execution_count": 98
        }
      ]
    },
    {
      "cell_type": "code",
      "metadata": {
        "id": "j2UCjsV-pQaM"
      },
      "source": [
        ""
      ],
      "execution_count": null,
      "outputs": []
    }
  ]
}